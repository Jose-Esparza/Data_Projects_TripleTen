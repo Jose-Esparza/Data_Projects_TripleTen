{
 "cells": [
  {
   "cell_type": "markdown",
   "id": "29d055a7",
   "metadata": {},
   "source": [
    "# Instacart - The shopping habits of customers "
   ]
  },
  {
   "cell_type": "code",
   "execution_count": 1,
   "id": "fbf1adab",
   "metadata": {
    "trusted": false
   },
   "outputs": [],
   "source": [
    "import pandas as pd"
   ]
  },
  {
   "cell_type": "code",
   "execution_count": 2,
   "id": "ad36396d",
   "metadata": {
    "trusted": false
   },
   "outputs": [],
   "source": [
    "orders = pd.read_csv('/datasets/instacart_orders.csv', sep=';')"
   ]
  },
  {
   "cell_type": "code",
   "execution_count": 3,
   "id": "ad6a1efa",
   "metadata": {
    "trusted": false
   },
   "outputs": [],
   "source": [
    "products = pd.read_csv('/datasets/products.csv', sep=';')"
   ]
  },
  {
   "cell_type": "code",
   "execution_count": 4,
   "id": "5130e05e",
   "metadata": {
    "trusted": false
   },
   "outputs": [],
   "source": [
    "order_products = pd.read_csv('/datasets/order_products.csv', sep=';')"
   ]
  },
  {
   "cell_type": "code",
   "execution_count": 5,
   "id": "d8370c05",
   "metadata": {
    "trusted": false
   },
   "outputs": [],
   "source": [
    "aisles = pd.read_csv('/datasets/aisles.csv', sep=';')"
   ]
  },
  {
   "cell_type": "code",
   "execution_count": 6,
   "id": "59e2090f",
   "metadata": {
    "trusted": false
   },
   "outputs": [],
   "source": [
    "departments = pd.read_csv('/datasets/departments.csv', sep=';')"
   ]
  },
  {
   "cell_type": "code",
   "execution_count": 7,
   "id": "6fc81694",
   "metadata": {
    "trusted": false
   },
   "outputs": [],
   "source": [
    "import matplotlib.pyplot as plt"
   ]
  },
  {
   "cell_type": "markdown",
   "id": "f179f0a9",
   "metadata": {},
   "source": [
    "### `orders` data frame"
   ]
  },
  {
   "cell_type": "code",
   "execution_count": null,
   "id": "b99297a5-405a-463d-8535-9adc3da4ad74",
   "metadata": {
    "trusted": false
   },
   "outputs": [
    {
     "name": "stdout",
     "output_type": "stream",
     "text": [
      "        order_id  user_id  order_number  order_dow  order_hour_of_day  \\\n",
      "145574    794638    50898            24          3                  2   \n",
      "223105   2160484   107525            16          3                  2   \n",
      "230807   1918001   188546            14          3                  2   \n",
      "266232   1782114   106752             1          3                  2   \n",
      "273805   1112182   202304            84          3                  2   \n",
      "284038   2845099    31189            11          3                  2   \n",
      "311713   1021560    53767             3          3                  2   \n",
      "321100    408114    68324             4          3                  2   \n",
      "323900   1919531   191501            32          3                  2   \n",
      "345917   2232988    82565             1          3                  2   \n",
      "371905    391768    57671            19          3                  2   \n",
      "394347    467134    63189            21          3                  2   \n",
      "411408   1286742   183220            48          3                  2   \n",
      "415163   2282673    86751            49          3                  2   \n",
      "441599   2125197    14050            48          3                  2   \n",
      "\n",
      "        days_since_prior_order  \n",
      "145574                     2.0  \n",
      "223105                    30.0  \n",
      "230807                    16.0  \n",
      "266232                     NaN  \n",
      "273805                     6.0  \n",
      "284038                     7.0  \n",
      "311713                     9.0  \n",
      "321100                    18.0  \n",
      "323900                     7.0  \n",
      "345917                     NaN  \n",
      "371905                    10.0  \n",
      "394347                     2.0  \n",
      "411408                     4.0  \n",
      "415163                     2.0  \n",
      "441599                     3.0  \n",
      "15\n"
     ]
    }
   ],
   "source": [
    "order_dups = orders.duplicated()\n",
    "print(orders[order_dups])\n",
    "print(order_dups.sum())\n",
    "#used to find duplicates and print only the duplicates"
   ]
  },
  {
   "cell_type": "code",
   "execution_count": null,
   "id": "0d44de5d",
   "metadata": {
    "trusted": false
   },
   "outputs": [
    {
     "name": "stdout",
     "output_type": "stream",
     "text": [
      "        order_id  user_id  order_number  order_dow  order_hour_of_day  \\\n",
      "1295     1474941   115569             5          2                  2   \n",
      "2391     1640269   173965            15          2                  2   \n",
      "2550     1223696    55276            11          2                  2   \n",
      "5965      579194    85018            14          2                  2   \n",
      "17680    2004230   203121             4          2                  2   \n",
      "...          ...      ...           ...        ...                ...   \n",
      "457660   1562381    19378             5          2                  2   \n",
      "460316   1986084   117453            81          2                  2   \n",
      "462676   1362113    19654            20          2                  2   \n",
      "472800   1746383    88484            19          2                  2   \n",
      "472923   1519815   149345             1          2                  2   \n",
      "\n",
      "        days_since_prior_order  \n",
      "1295                      28.0  \n",
      "2391                       2.0  \n",
      "2550                      30.0  \n",
      "5965                      11.0  \n",
      "17680                      8.0  \n",
      "...                        ...  \n",
      "457660                     6.0  \n",
      "460316                     8.0  \n",
      "462676                    21.0  \n",
      "472800                     5.0  \n",
      "472923                     NaN  \n",
      "\n",
      "[136 rows x 6 columns]\n"
     ]
    }
   ],
   "source": [
    "print(orders[(orders['order_dow'] == 2) & (orders['order_hour_of_day'] == 2)])\n",
    "#lists all on day 3 and hour 2 which i believe is wednesday and 2 am "
   ]
  },
  {
   "cell_type": "code",
   "execution_count": null,
   "id": "480563c7",
   "metadata": {
    "trusted": false
   },
   "outputs": [],
   "source": [
    "# Remove duplicate orders\n",
    "orders = orders.drop_duplicates()"
   ]
  },
  {
   "cell_type": "code",
   "execution_count": null,
   "id": "0b2396a2",
   "metadata": {
    "trusted": false
   },
   "outputs": [
    {
     "name": "stdout",
     "output_type": "stream",
     "text": [
      "Empty DataFrame\n",
      "Columns: [order_id, user_id, order_number, order_dow, order_hour_of_day, days_since_prior_order]\n",
      "Index: []\n",
      "0\n"
     ]
    }
   ],
   "source": [
    "# Double check for duplicate rows\n",
    "order_dups = orders.duplicated()\n",
    "print(orders[order_dups])\n",
    "print(order_dups.sum())"
   ]
  },
  {
   "cell_type": "code",
   "execution_count": null,
   "id": "f6113ef1",
   "metadata": {
    "trusted": false
   },
   "outputs": [
    {
     "name": "stdout",
     "output_type": "stream",
     "text": [
      "0\n"
     ]
    }
   ],
   "source": [
    "# Double check for duplicate order IDs only\n",
    "order_id_dup = orders['order_id'].duplicated()\n",
    "display(order_id_dup.sum())\n",
    "#used sum to see if any more exist in just order id"
   ]
  },
  {
   "cell_type": "markdown",
   "id": "45e6bc46",
   "metadata": {},
   "source": [
    "### `products` data frame"
   ]
  },
  {
   "cell_type": "code",
   "execution_count": null,
   "id": "5f526b5b-8175-46fa-a0fd-441767d50e64",
   "metadata": {
    "trusted": false
   },
   "outputs": [
    {
     "name": "stdout",
     "output_type": "stream",
     "text": [
      "0\n"
     ]
    }
   ],
   "source": [
    "# Check for fully duplicate rows\n",
    "dup_prod = products.duplicated()\n",
    "print(dup_prod.sum())\n",
    "#no fully duplicated products"
   ]
  },
  {
   "cell_type": "code",
   "execution_count": null,
   "id": "88daa4f4",
   "metadata": {
    "trusted": false
   },
   "outputs": [
    {
     "name": "stdout",
     "output_type": "stream",
     "text": [
      "0\n"
     ]
    }
   ],
   "source": [
    "dup_id = products['product_id'].duplicated()\n",
    "print(dup_id.sum())\n",
    "# Check for just duplicate product IDs\n",
    "#no duplicate IDs"
   ]
  },
  {
   "cell_type": "code",
   "execution_count": null,
   "id": "c773f0bf",
   "metadata": {
    "trusted": false
   },
   "outputs": [
    {
     "name": "stdout",
     "output_type": "stream",
     "text": [
      "       product_id                                     product_name  aisle_id  \\\n",
      "71             72                                              NaN       100   \n",
      "109           110                                              NaN       100   \n",
      "296           297                                              NaN       100   \n",
      "416           417                                              NaN       100   \n",
      "436           437                                              NaN       100   \n",
      "...           ...                                              ...       ...   \n",
      "49689       49690                    high performance energy drink        64   \n",
      "49690       49691                    original pancake & waffle mix       130   \n",
      "49691       49692  organic instant oatmeal light maple brown sugar       130   \n",
      "49692       49693                           spring water body wash       127   \n",
      "49693       49694                          burrito- steak & cheese        38   \n",
      "\n",
      "       department_id  \n",
      "71                21  \n",
      "109               21  \n",
      "296               21  \n",
      "416               21  \n",
      "436               21  \n",
      "...              ...  \n",
      "49689              7  \n",
      "49690             14  \n",
      "49691             14  \n",
      "49692             11  \n",
      "49693              1  \n",
      "\n",
      "[1361 rows x 4 columns]\n",
      "1361\n",
      "product_id          0\n",
      "product_name     1257\n",
      "aisle_id            0\n",
      "department_id       0\n",
      "dtype: int64\n"
     ]
    }
   ],
   "source": [
    "# Check for just duplicate product names (convert names to lowercase to compare better)\n",
    "products['product_name'] = products['product_name'].str.lower()\n",
    "name_dup = products['product_name'].duplicated()\n",
    "print(products[name_dup])\n",
    "print(name_dup.sum())\n",
    "print(products[name_dup].isna().sum())"
   ]
  },
  {
   "cell_type": "code",
   "execution_count": null,
   "id": "01efd02e",
   "metadata": {
    "trusted": false
   },
   "outputs": [
    {
     "name": "stdout",
     "output_type": "stream",
     "text": [
      "1258\n",
      "       product_id  product_name  aisle_id  department_id\n",
      "71          False          True     False          False\n",
      "109         False          True     False          False\n",
      "296         False          True     False          False\n",
      "416         False          True     False          False\n",
      "436         False          True     False          False\n",
      "...           ...           ...       ...            ...\n",
      "49689       False         False     False          False\n",
      "49690       False         False     False          False\n",
      "49691       False         False     False          False\n",
      "49692       False         False     False          False\n",
      "49693       False         False     False          False\n",
      "\n",
      "[1361 rows x 4 columns]\n"
     ]
    }
   ],
   "source": [
    "# Check for duplicate product names that aren't missing\n",
    "print(products['product_name'].isna().sum())\n",
    "print(products[name_dup].isna())\n",
    "#there are 104 duplicate names that arent missing"
   ]
  },
  {
   "cell_type": "markdown",
   "id": "60f30db1",
   "metadata": {},
   "source": [
    "### `departments` data frame"
   ]
  },
  {
   "cell_type": "code",
   "execution_count": null,
   "id": "fb410ad4-0fbf-4b80-bb09-23fdea79afe3",
   "metadata": {
    "trusted": false
   },
   "outputs": [
    {
     "name": "stdout",
     "output_type": "stream",
     "text": [
      "<class 'pandas.core.frame.DataFrame'>\n",
      "RangeIndex: 21 entries, 0 to 20\n",
      "Data columns (total 2 columns):\n",
      " #   Column         Non-Null Count  Dtype \n",
      "---  ------         --------------  ----- \n",
      " 0   department_id  21 non-null     int64 \n",
      " 1   department     21 non-null     object\n",
      "dtypes: int64(1), object(1)\n",
      "memory usage: 464.0+ bytes\n",
      "None\n"
     ]
    }
   ],
   "source": [
    "print(departments.info())"
   ]
  },
  {
   "cell_type": "code",
   "execution_count": null,
   "id": "332b12bb",
   "metadata": {
    "trusted": false
   },
   "outputs": [
    {
     "name": "stdout",
     "output_type": "stream",
     "text": [
      "    department_id       department\n",
      "0               1           frozen\n",
      "1               2            other\n",
      "2               3           bakery\n",
      "3               4          produce\n",
      "4               5          alcohol\n",
      "5               6    international\n",
      "6               7        beverages\n",
      "7               8             pets\n",
      "8               9  dry goods pasta\n",
      "9              10             bulk\n",
      "10             11    personal care\n",
      "11             12     meat seafood\n",
      "12             13           pantry\n",
      "13             14        breakfast\n",
      "14             15     canned goods\n",
      "15             16       dairy eggs\n",
      "16             17        household\n",
      "17             18           babies\n",
      "18             19           snacks\n",
      "19             20             deli\n",
      "20             21          missing\n"
     ]
    }
   ],
   "source": [
    "print(departments)"
   ]
  },
  {
   "cell_type": "markdown",
   "id": "889349c1",
   "metadata": {},
   "source": [
    "### `aisles` data frame"
   ]
  },
  {
   "cell_type": "code",
   "execution_count": null,
   "id": "9da89fb9-4679-40f5-ad0d-c34df753a3f8",
   "metadata": {
    "trusted": false
   },
   "outputs": [
    {
     "name": "stdout",
     "output_type": "stream",
     "text": [
      "<class 'pandas.core.frame.DataFrame'>\n",
      "RangeIndex: 134 entries, 0 to 133\n",
      "Data columns (total 2 columns):\n",
      " #   Column    Non-Null Count  Dtype \n",
      "---  ------    --------------  ----- \n",
      " 0   aisle_id  134 non-null    int64 \n",
      " 1   aisle     134 non-null    object\n",
      "dtypes: int64(1), object(1)\n",
      "memory usage: 2.2+ KB\n",
      "None\n"
     ]
    }
   ],
   "source": [
    "print(aisles.info())"
   ]
  },
  {
   "cell_type": "code",
   "execution_count": null,
   "id": "da7c2822",
   "metadata": {
    "trusted": false
   },
   "outputs": [
    {
     "name": "stdout",
     "output_type": "stream",
     "text": [
      "    aisle_id    aisle\n",
      "99       100  missing\n"
     ]
    }
   ],
   "source": [
    "aisle_100 = aisles['aisle_id']==100\n",
    "print(aisles[aisle_100])"
   ]
  },
  {
   "cell_type": "markdown",
   "id": "274cd06a",
   "metadata": {},
   "source": [
    "### `order_products` data frame"
   ]
  },
  {
   "cell_type": "code",
   "execution_count": null,
   "id": "52326689-84a8-4b8f-a881-7c68780f62c9",
   "metadata": {
    "trusted": false
   },
   "outputs": [
    {
     "name": "stdout",
     "output_type": "stream",
     "text": [
      "Empty DataFrame\n",
      "Columns: [order_id, product_id, add_to_cart_order, reordered]\n",
      "Index: []\n",
      "0\n"
     ]
    }
   ],
   "source": [
    "# Check for fully duplicate rows\n",
    "op_dups = order_products.duplicated()\n",
    "print(order_products[op_dups])\n",
    "print(op_dups.sum())"
   ]
  },
  {
   "cell_type": "markdown",
   "id": "1e46de76",
   "metadata": {},
   "source": [
    "## Find and remove missing values\n"
   ]
  },
  {
   "cell_type": "markdown",
   "id": "c0aebd78",
   "metadata": {},
   "source": [
    "### `products` data frame"
   ]
  },
  {
   "cell_type": "code",
   "execution_count": null,
   "id": "fe4a8b0f",
   "metadata": {
    "trusted": false
   },
   "outputs": [
    {
     "name": "stdout",
     "output_type": "stream",
     "text": [
      "       product_id                                       product_name  \\\n",
      "0               1                         chocolate sandwich cookies   \n",
      "1               2                                   all-seasons salt   \n",
      "2               3               robust golden unsweetened oolong tea   \n",
      "3               4  smart ones classic favorites mini rigatoni wit...   \n",
      "4               5                          green chile anytime sauce   \n",
      "...           ...                                                ...   \n",
      "49689       49690                      high performance energy drink   \n",
      "49690       49691                      original pancake & waffle mix   \n",
      "49691       49692    organic instant oatmeal light maple brown sugar   \n",
      "49692       49693                             spring water body wash   \n",
      "49693       49694                            burrito- steak & cheese   \n",
      "\n",
      "       aisle_id  department_id  \n",
      "0            61             19  \n",
      "1           104             13  \n",
      "2            94              7  \n",
      "3            38              1  \n",
      "4             5             13  \n",
      "...         ...            ...  \n",
      "49689        64              7  \n",
      "49690       130             14  \n",
      "49691       130             14  \n",
      "49692       127             11  \n",
      "49693        38              1  \n",
      "\n",
      "[49694 rows x 4 columns]\n"
     ]
    }
   ],
   "source": [
    "print(products)"
   ]
  },
  {
   "cell_type": "code",
   "execution_count": null,
   "id": "e96167bc",
   "metadata": {
    "trusted": false
   },
   "outputs": [
    {
     "data": {
      "text/html": [
       "<div>\n",
       "<style scoped>\n",
       "    .dataframe tbody tr th:only-of-type {\n",
       "        vertical-align: middle;\n",
       "    }\n",
       "\n",
       "    .dataframe tbody tr th {\n",
       "        vertical-align: top;\n",
       "    }\n",
       "\n",
       "    .dataframe thead th {\n",
       "        text-align: right;\n",
       "    }\n",
       "</style>\n",
       "<table border=\"1\" class=\"dataframe\">\n",
       "  <thead>\n",
       "    <tr style=\"text-align: right;\">\n",
       "      <th></th>\n",
       "      <th>product_id</th>\n",
       "      <th>product_name</th>\n",
       "      <th>aisle_id</th>\n",
       "      <th>department_id</th>\n",
       "    </tr>\n",
       "  </thead>\n",
       "  <tbody>\n",
       "    <tr>\n",
       "      <th>37</th>\n",
       "      <td>False</td>\n",
       "      <td>True</td>\n",
       "      <td>False</td>\n",
       "      <td>False</td>\n",
       "    </tr>\n",
       "    <tr>\n",
       "      <th>71</th>\n",
       "      <td>False</td>\n",
       "      <td>True</td>\n",
       "      <td>False</td>\n",
       "      <td>False</td>\n",
       "    </tr>\n",
       "    <tr>\n",
       "      <th>109</th>\n",
       "      <td>False</td>\n",
       "      <td>True</td>\n",
       "      <td>False</td>\n",
       "      <td>False</td>\n",
       "    </tr>\n",
       "    <tr>\n",
       "      <th>296</th>\n",
       "      <td>False</td>\n",
       "      <td>True</td>\n",
       "      <td>False</td>\n",
       "      <td>False</td>\n",
       "    </tr>\n",
       "    <tr>\n",
       "      <th>416</th>\n",
       "      <td>False</td>\n",
       "      <td>True</td>\n",
       "      <td>False</td>\n",
       "      <td>False</td>\n",
       "    </tr>\n",
       "    <tr>\n",
       "      <th>...</th>\n",
       "      <td>...</td>\n",
       "      <td>...</td>\n",
       "      <td>...</td>\n",
       "      <td>...</td>\n",
       "    </tr>\n",
       "    <tr>\n",
       "      <th>49552</th>\n",
       "      <td>False</td>\n",
       "      <td>True</td>\n",
       "      <td>False</td>\n",
       "      <td>False</td>\n",
       "    </tr>\n",
       "    <tr>\n",
       "      <th>49574</th>\n",
       "      <td>False</td>\n",
       "      <td>True</td>\n",
       "      <td>False</td>\n",
       "      <td>False</td>\n",
       "    </tr>\n",
       "    <tr>\n",
       "      <th>49640</th>\n",
       "      <td>False</td>\n",
       "      <td>True</td>\n",
       "      <td>False</td>\n",
       "      <td>False</td>\n",
       "    </tr>\n",
       "    <tr>\n",
       "      <th>49663</th>\n",
       "      <td>False</td>\n",
       "      <td>True</td>\n",
       "      <td>False</td>\n",
       "      <td>False</td>\n",
       "    </tr>\n",
       "    <tr>\n",
       "      <th>49668</th>\n",
       "      <td>False</td>\n",
       "      <td>True</td>\n",
       "      <td>False</td>\n",
       "      <td>False</td>\n",
       "    </tr>\n",
       "  </tbody>\n",
       "</table>\n",
       "<p>1258 rows × 4 columns</p>\n",
       "</div>"
      ],
      "text/plain": [
       "       product_id  product_name  aisle_id  department_id\n",
       "37          False          True     False          False\n",
       "71          False          True     False          False\n",
       "109         False          True     False          False\n",
       "296         False          True     False          False\n",
       "416         False          True     False          False\n",
       "...           ...           ...       ...            ...\n",
       "49552       False          True     False          False\n",
       "49574       False          True     False          False\n",
       "49640       False          True     False          False\n",
       "49663       False          True     False          False\n",
       "49668       False          True     False          False\n",
       "\n",
       "[1258 rows x 4 columns]"
      ]
     },
     "metadata": {},
     "output_type": "display_data"
    }
   ],
   "source": [
    "aisle_id100 = products['aisle_id'] == 100\n",
    "display(products[aisle_id100].isna())\n",
    "#yes"
   ]
  },
  {
   "cell_type": "code",
   "execution_count": null,
   "id": "8fd0a541",
   "metadata": {
    "trusted": false
   },
   "outputs": [
    {
     "data": {
      "text/html": [
       "<div>\n",
       "<style scoped>\n",
       "    .dataframe tbody tr th:only-of-type {\n",
       "        vertical-align: middle;\n",
       "    }\n",
       "\n",
       "    .dataframe tbody tr th {\n",
       "        vertical-align: top;\n",
       "    }\n",
       "\n",
       "    .dataframe thead th {\n",
       "        text-align: right;\n",
       "    }\n",
       "</style>\n",
       "<table border=\"1\" class=\"dataframe\">\n",
       "  <thead>\n",
       "    <tr style=\"text-align: right;\">\n",
       "      <th></th>\n",
       "      <th>product_id</th>\n",
       "      <th>product_name</th>\n",
       "      <th>aisle_id</th>\n",
       "      <th>department_id</th>\n",
       "    </tr>\n",
       "  </thead>\n",
       "  <tbody>\n",
       "    <tr>\n",
       "      <th>37</th>\n",
       "      <td>False</td>\n",
       "      <td>True</td>\n",
       "      <td>False</td>\n",
       "      <td>False</td>\n",
       "    </tr>\n",
       "    <tr>\n",
       "      <th>71</th>\n",
       "      <td>False</td>\n",
       "      <td>True</td>\n",
       "      <td>False</td>\n",
       "      <td>False</td>\n",
       "    </tr>\n",
       "    <tr>\n",
       "      <th>109</th>\n",
       "      <td>False</td>\n",
       "      <td>True</td>\n",
       "      <td>False</td>\n",
       "      <td>False</td>\n",
       "    </tr>\n",
       "    <tr>\n",
       "      <th>296</th>\n",
       "      <td>False</td>\n",
       "      <td>True</td>\n",
       "      <td>False</td>\n",
       "      <td>False</td>\n",
       "    </tr>\n",
       "    <tr>\n",
       "      <th>416</th>\n",
       "      <td>False</td>\n",
       "      <td>True</td>\n",
       "      <td>False</td>\n",
       "      <td>False</td>\n",
       "    </tr>\n",
       "    <tr>\n",
       "      <th>...</th>\n",
       "      <td>...</td>\n",
       "      <td>...</td>\n",
       "      <td>...</td>\n",
       "      <td>...</td>\n",
       "    </tr>\n",
       "    <tr>\n",
       "      <th>49552</th>\n",
       "      <td>False</td>\n",
       "      <td>True</td>\n",
       "      <td>False</td>\n",
       "      <td>False</td>\n",
       "    </tr>\n",
       "    <tr>\n",
       "      <th>49574</th>\n",
       "      <td>False</td>\n",
       "      <td>True</td>\n",
       "      <td>False</td>\n",
       "      <td>False</td>\n",
       "    </tr>\n",
       "    <tr>\n",
       "      <th>49640</th>\n",
       "      <td>False</td>\n",
       "      <td>True</td>\n",
       "      <td>False</td>\n",
       "      <td>False</td>\n",
       "    </tr>\n",
       "    <tr>\n",
       "      <th>49663</th>\n",
       "      <td>False</td>\n",
       "      <td>True</td>\n",
       "      <td>False</td>\n",
       "      <td>False</td>\n",
       "    </tr>\n",
       "    <tr>\n",
       "      <th>49668</th>\n",
       "      <td>False</td>\n",
       "      <td>True</td>\n",
       "      <td>False</td>\n",
       "      <td>False</td>\n",
       "    </tr>\n",
       "  </tbody>\n",
       "</table>\n",
       "<p>1258 rows × 4 columns</p>\n",
       "</div>"
      ],
      "text/plain": [
       "       product_id  product_name  aisle_id  department_id\n",
       "37          False          True     False          False\n",
       "71          False          True     False          False\n",
       "109         False          True     False          False\n",
       "296         False          True     False          False\n",
       "416         False          True     False          False\n",
       "...           ...           ...       ...            ...\n",
       "49552       False          True     False          False\n",
       "49574       False          True     False          False\n",
       "49640       False          True     False          False\n",
       "49663       False          True     False          False\n",
       "49668       False          True     False          False\n",
       "\n",
       "[1258 rows x 4 columns]"
      ]
     },
     "metadata": {},
     "output_type": "display_data"
    }
   ],
   "source": [
    "department_21 = products['department_id']==21\n",
    "display(products[department_21].isna())\n",
    "#yes"
   ]
  },
  {
   "cell_type": "code",
   "execution_count": null,
   "id": "325c3464",
   "metadata": {
    "trusted": false
   },
   "outputs": [
    {
     "data": {
      "text/html": [
       "<div>\n",
       "<style scoped>\n",
       "    .dataframe tbody tr th:only-of-type {\n",
       "        vertical-align: middle;\n",
       "    }\n",
       "\n",
       "    .dataframe tbody tr th {\n",
       "        vertical-align: top;\n",
       "    }\n",
       "\n",
       "    .dataframe thead th {\n",
       "        text-align: right;\n",
       "    }\n",
       "</style>\n",
       "<table border=\"1\" class=\"dataframe\">\n",
       "  <thead>\n",
       "    <tr style=\"text-align: right;\">\n",
       "      <th></th>\n",
       "      <th>product_id</th>\n",
       "      <th>product_name</th>\n",
       "      <th>aisle_id</th>\n",
       "      <th>department_id</th>\n",
       "    </tr>\n",
       "  </thead>\n",
       "  <tbody>\n",
       "    <tr>\n",
       "      <th>37</th>\n",
       "      <td>38</td>\n",
       "      <td>NaN</td>\n",
       "      <td>100</td>\n",
       "      <td>21</td>\n",
       "    </tr>\n",
       "    <tr>\n",
       "      <th>71</th>\n",
       "      <td>72</td>\n",
       "      <td>NaN</td>\n",
       "      <td>100</td>\n",
       "      <td>21</td>\n",
       "    </tr>\n",
       "    <tr>\n",
       "      <th>109</th>\n",
       "      <td>110</td>\n",
       "      <td>NaN</td>\n",
       "      <td>100</td>\n",
       "      <td>21</td>\n",
       "    </tr>\n",
       "    <tr>\n",
       "      <th>296</th>\n",
       "      <td>297</td>\n",
       "      <td>NaN</td>\n",
       "      <td>100</td>\n",
       "      <td>21</td>\n",
       "    </tr>\n",
       "    <tr>\n",
       "      <th>416</th>\n",
       "      <td>417</td>\n",
       "      <td>NaN</td>\n",
       "      <td>100</td>\n",
       "      <td>21</td>\n",
       "    </tr>\n",
       "    <tr>\n",
       "      <th>...</th>\n",
       "      <td>...</td>\n",
       "      <td>...</td>\n",
       "      <td>...</td>\n",
       "      <td>...</td>\n",
       "    </tr>\n",
       "    <tr>\n",
       "      <th>49552</th>\n",
       "      <td>49553</td>\n",
       "      <td>NaN</td>\n",
       "      <td>100</td>\n",
       "      <td>21</td>\n",
       "    </tr>\n",
       "    <tr>\n",
       "      <th>49574</th>\n",
       "      <td>49575</td>\n",
       "      <td>NaN</td>\n",
       "      <td>100</td>\n",
       "      <td>21</td>\n",
       "    </tr>\n",
       "    <tr>\n",
       "      <th>49640</th>\n",
       "      <td>49641</td>\n",
       "      <td>NaN</td>\n",
       "      <td>100</td>\n",
       "      <td>21</td>\n",
       "    </tr>\n",
       "    <tr>\n",
       "      <th>49663</th>\n",
       "      <td>49664</td>\n",
       "      <td>NaN</td>\n",
       "      <td>100</td>\n",
       "      <td>21</td>\n",
       "    </tr>\n",
       "    <tr>\n",
       "      <th>49668</th>\n",
       "      <td>49669</td>\n",
       "      <td>NaN</td>\n",
       "      <td>100</td>\n",
       "      <td>21</td>\n",
       "    </tr>\n",
       "  </tbody>\n",
       "</table>\n",
       "<p>1258 rows × 4 columns</p>\n",
       "</div>"
      ],
      "text/plain": [
       "       product_id product_name  aisle_id  department_id\n",
       "37             38          NaN       100             21\n",
       "71             72          NaN       100             21\n",
       "109           110          NaN       100             21\n",
       "296           297          NaN       100             21\n",
       "416           417          NaN       100             21\n",
       "...           ...          ...       ...            ...\n",
       "49552       49553          NaN       100             21\n",
       "49574       49575          NaN       100             21\n",
       "49640       49641          NaN       100             21\n",
       "49663       49664          NaN       100             21\n",
       "49668       49669          NaN       100             21\n",
       "\n",
       "[1258 rows x 4 columns]"
      ]
     },
     "metadata": {},
     "output_type": "display_data"
    },
    {
     "data": {
      "text/html": [
       "<div>\n",
       "<style scoped>\n",
       "    .dataframe tbody tr th:only-of-type {\n",
       "        vertical-align: middle;\n",
       "    }\n",
       "\n",
       "    .dataframe tbody tr th {\n",
       "        vertical-align: top;\n",
       "    }\n",
       "\n",
       "    .dataframe thead th {\n",
       "        text-align: right;\n",
       "    }\n",
       "</style>\n",
       "<table border=\"1\" class=\"dataframe\">\n",
       "  <thead>\n",
       "    <tr style=\"text-align: right;\">\n",
       "      <th></th>\n",
       "      <th>aisle_id</th>\n",
       "      <th>aisle</th>\n",
       "    </tr>\n",
       "  </thead>\n",
       "  <tbody>\n",
       "    <tr>\n",
       "      <th>99</th>\n",
       "      <td>100</td>\n",
       "      <td>missing</td>\n",
       "    </tr>\n",
       "  </tbody>\n",
       "</table>\n",
       "</div>"
      ],
      "text/plain": [
       "    aisle_id    aisle\n",
       "99       100  missing"
      ]
     },
     "metadata": {},
     "output_type": "display_data"
    }
   ],
   "source": [
    "display(products[department_21])\n",
    "display(aisles[aisle_100])\n",
    "#the department is \"missing\" and the aisle is also \"missing\""
   ]
  },
  {
   "cell_type": "code",
   "execution_count": null,
   "id": "6b295120",
   "metadata": {
    "trusted": false
   },
   "outputs": [
    {
     "name": "stdout",
     "output_type": "stream",
     "text": [
      "0\n"
     ]
    }
   ],
   "source": [
    "products['product_name'] = products['product_name'].fillna('unknown')\n",
    "print(products['product_name'].isna().sum())"
   ]
  },
  {
   "cell_type": "markdown",
   "id": "7eb45c86",
   "metadata": {},
   "source": [
    "### `orders` data frame"
   ]
  },
  {
   "cell_type": "code",
   "execution_count": null,
   "id": "93e41d96",
   "metadata": {
    "trusted": false
   },
   "outputs": [
    {
     "name": "stdout",
     "output_type": "stream",
     "text": [
      "        order_id  user_id  order_number  order_dow  order_hour_of_day  \\\n",
      "0        1515936   183418            11          6                 13   \n",
      "1        1690866   163593             5          5                 12   \n",
      "2        1454967    39980             4          5                 19   \n",
      "3        1768857    82516            56          0                 20   \n",
      "4        3007858   196724             2          4                 12   \n",
      "...          ...      ...           ...        ...                ...   \n",
      "478962   3210681     5617             5          1                 14   \n",
      "478963   3270802   112087             2          3                 13   \n",
      "478964    885349    82944            16          2                 11   \n",
      "478965    216274     4391             3          3                  8   \n",
      "478966   2071924     1730            18          1                 14   \n",
      "\n",
      "        days_since_prior_order  \n",
      "0                         30.0  \n",
      "1                          9.0  \n",
      "2                          2.0  \n",
      "3                         10.0  \n",
      "4                         17.0  \n",
      "...                        ...  \n",
      "478962                     7.0  \n",
      "478963                     6.0  \n",
      "478964                     6.0  \n",
      "478965                     8.0  \n",
      "478966                    15.0  \n",
      "\n",
      "[478952 rows x 6 columns]\n"
     ]
    }
   ],
   "source": [
    "print(orders)"
   ]
  },
  {
   "cell_type": "code",
   "execution_count": null,
   "id": "166e5a86",
   "metadata": {
    "trusted": false
   },
   "outputs": [
    {
     "name": "stdout",
     "output_type": "stream",
     "text": [
      "order_id                      0\n",
      "user_id                       0\n",
      "order_number                  0\n",
      "order_dow                     0\n",
      "order_hour_of_day             0\n",
      "days_since_prior_order    28817\n",
      "dtype: int64\n",
      "28817\n",
      "order_id                      0\n",
      "user_id                       0\n",
      "order_number                  0\n",
      "order_dow                     0\n",
      "order_hour_of_day             0\n",
      "days_since_prior_order    28817\n",
      "dtype: int64\n"
     ]
    }
   ],
   "source": [
    "print(orders.isna().sum())\n",
    "first_order = orders['order_number'] == 1 \n",
    "print(first_order.sum())\n",
    "print(orders[first_order].isna().sum())\n",
    "#all missing values are related to the first order since there wasa no order before that"
   ]
  },
  {
   "cell_type": "markdown",
   "id": "69dc9ca4",
   "metadata": {},
   "source": [
    "### `order_products` data frame"
   ]
  },
  {
   "cell_type": "code",
   "execution_count": null,
   "id": "b8240253",
   "metadata": {
    "trusted": false
   },
   "outputs": [
    {
     "name": "stdout",
     "output_type": "stream",
     "text": [
      "         order_id  product_id  add_to_cart_order  reordered\n",
      "0         2141543       11440               17.0          0\n",
      "1          567889        1560                1.0          1\n",
      "2         2261212       26683                1.0          1\n",
      "3          491251        8670               35.0          1\n",
      "4         2571142        1940                5.0          1\n",
      "...           ...         ...                ...        ...\n",
      "4545002    577211       15290               12.0          1\n",
      "4545003   1219554       21914                9.0          0\n",
      "4545004    692640       47766                4.0          1\n",
      "4545005    319435         691                8.0          1\n",
      "4545006   1398151       28733                9.0          0\n",
      "\n",
      "[4545007 rows x 4 columns]\n"
     ]
    }
   ],
   "source": [
    "print(order_products)"
   ]
  },
  {
   "cell_type": "code",
   "execution_count": null,
   "id": "9a78e5ee",
   "metadata": {
    "trusted": false
   },
   "outputs": [
    {
     "name": "stdout",
     "output_type": "stream",
     "text": [
      "order_id             4.0\n",
      "product_id           1.0\n",
      "add_to_cart_order    1.0\n",
      "reordered            0.0\n",
      "dtype: float64 order_id             3421079.0\n",
      "product_id             49694.0\n",
      "add_to_cart_order         64.0\n",
      "reordered                  1.0\n",
      "dtype: float64\n"
     ]
    }
   ],
   "source": [
    "print(order_products.min(),order_products.max())\n",
    "#all min and max values are displayed below"
   ]
  },
  {
   "cell_type": "code",
   "execution_count": null,
   "id": "ab9d0c2b",
   "metadata": {
    "trusted": false
   },
   "outputs": [
    {
     "name": "stdout",
     "output_type": "stream",
     "text": [
      "order_id               0\n",
      "product_id             0\n",
      "add_to_cart_order    836\n",
      "reordered              0\n",
      "dtype: int64\n",
      "[2449164 1968313 2926893 1717990 1959075  844733   61355  936852  264710\n",
      " 1564093  129627  293169 2849370 1386261 3308010  903110 2136777 3347453\n",
      " 1888628  165801 2094761 1038146 2997021  813364 2256933  171934 2409109\n",
      " 1730767 1169835  733526  404157 3125735  747668 1800005 1961723  871281\n",
      "  388234 1648217 1477139  102236 1021563 1832957 2721963  678116 1220886\n",
      " 1673227 2999801 1633337 2470674 2625444 1677118 2479011 3383594 1183255\n",
      " 1713430 2652650 1598369 1916118  854647 1302315  888470  180546 2621907\n",
      " 1308785 2729254    9310 2170451 2979697 1625713 1529171]\n"
     ]
    }
   ],
   "source": [
    "print(order_products.isna().sum())\n",
    "id_with_missing = order_products[order_products['add_to_cart_order'].isna()]['order_id'].unique()\n",
    "print(id_with_missing)"
   ]
  },
  {
   "cell_type": "code",
   "execution_count": null,
   "id": "54c31695",
   "metadata": {
    "trusted": false
   },
   "outputs": [
    {
     "data": {
      "text/plain": [
       "order_id\n",
       "61355      127\n",
       "3308010    115\n",
       "2136777    108\n",
       "171934     104\n",
       "1959075     98\n",
       "          ... \n",
       "888470      65\n",
       "1598369     65\n",
       "747668      65\n",
       "1677118     65\n",
       "9310        65\n",
       "Name: product_id, Length: 70, dtype: int64"
      ]
     },
     "metadata": {},
     "output_type": "display_data"
    }
   ],
   "source": [
    "order_counts = order_products[order_products['order_id'].isin(id_with_missing)].groupby('order_id')['product_id'].count()\n",
    "display(order_counts.sort_values(ascending = False))\n",
    "#all missing values have more than 64 products"
   ]
  },
  {
   "cell_type": "code",
   "execution_count": null,
   "id": "7a987d08",
   "metadata": {
    "trusted": false
   },
   "outputs": [
    {
     "name": "stdout",
     "output_type": "stream",
     "text": [
      "0\n"
     ]
    }
   ],
   "source": [
    "order_products['add_to_cart_order'] = order_products['add_to_cart_order'].fillna('999')\n",
    "print(order_products['add_to_cart_order'].isna().sum())"
   ]
  },
  {
   "cell_type": "code",
   "execution_count": null,
   "id": "growing-fruit",
   "metadata": {
    "trusted": false
   },
   "outputs": [
    {
     "name": "stdout",
     "output_type": "stream",
     "text": [
      "[0, 1, 2, 3, 4, 5, 6, 7, 8, 9, 10, 11, 12, 13, 14, 15, 16, 17, 18, 19, 20, 21, 22, 23]\n"
     ]
    }
   ],
   "source": [
    "unique_hod = orders['order_hour_of_day'].unique()\n",
    "print(sorted(unique_hod))"
   ]
  },
  {
   "cell_type": "code",
   "execution_count": null,
   "id": "accessory-malaysia",
   "metadata": {
    "trusted": false
   },
   "outputs": [
    {
     "name": "stdout",
     "output_type": "stream",
     "text": [
      "[0, 1, 2, 3, 4, 5, 6]\n"
     ]
    }
   ],
   "source": [
    "unique_dow = orders['order_dow'].unique()\n",
    "print(sorted(unique_dow))"
   ]
  },
  {
   "cell_type": "markdown",
   "id": "a6743a70",
   "metadata": {},
   "source": [
    "### What time of day do people shop for groceries?"
   ]
  },
  {
   "cell_type": "code",
   "execution_count": null,
   "id": "a36cca27",
   "metadata": {
    "trusted": false
   },
   "outputs": [
    {
     "name": "stdout",
     "output_type": "stream",
     "text": [
      "10    40578\n",
      "11    40032\n",
      "15    39789\n",
      "14    39631\n",
      "13    39007\n",
      "16    38112\n",
      "12    38034\n",
      "9     35896\n",
      "17    31930\n",
      "18    25510\n",
      "8     25024\n",
      "19    19547\n",
      "20    14624\n",
      "7     13043\n",
      "21    11019\n",
      "22     8512\n",
      "23     5611\n",
      "6      4215\n",
      "0      3180\n",
      "1      1763\n",
      "5      1371\n",
      "2       989\n",
      "3       770\n",
      "4       765\n",
      "Name: order_hour_of_day, dtype: int64\n"
     ]
    },
    {
     "data": {
      "image/png": "[encoded data removed]",
      "text/plain": [
       "<Figure size 640x480 with 1 Axes>"
      ]
     },
     "metadata": {},
     "output_type": "display_data"
    }
   ],
   "source": [
    "print(orders['order_hour_of_day'].value_counts())\n",
    "order_hour = orders.groupby('order_hour_of_day')['order_id'].count()\n",
    "order_hour.plot(kind='bar')\n",
    "plt.title('Time of Day Customers Shop')\n",
    "plt.xlabel('Hour of Day')\n",
    "plt.ylabel('Number of Orders')\n",
    "plt.show()\n",
    "#most people shop at 10 am assuming 0 is midnight as in military time"
   ]
  },
  {
   "cell_type": "markdown",
   "id": "documented-command",
   "metadata": {},
   "source": [
    "### What day of the week do people shop for groceries?"
   ]
  },
  {
   "cell_type": "code",
   "execution_count": null,
   "id": "chief-digit",
   "metadata": {
    "trusted": false
   },
   "outputs": [
    {
     "name": "stdout",
     "output_type": "stream",
     "text": [
      "0    84090\n",
      "1    82185\n",
      "2    65833\n",
      "5    63488\n",
      "6    62649\n",
      "3    60897\n",
      "4    59810\n",
      "Name: order_dow, dtype: int64\n"
     ]
    },
    {
     "data": {
      "image/png": "[encoded data removed]",
      "text/plain": [
       "<Figure size 640x480 with 1 Axes>"
      ]
     },
     "metadata": {},
     "output_type": "display_data"
    }
   ],
   "source": [
    "print(orders['order_dow'].value_counts())\n",
    "orders['order_dow'].value_counts().sort_index().plot(kind='bar')\n",
    "plt.title('Days of the week shopping for groceries')\n",
    "plt.xlabel('Day of Week')\n",
    "plt.ylabel('Number of Orders')\n",
    "plt.show()\n",
    "#most people shop on day 0"
   ]
  },
  {
   "cell_type": "markdown",
   "id": "cutting-concert",
   "metadata": {},
   "source": [
    "### How long do people wait until placing another order?"
   ]
  },
  {
   "cell_type": "code",
   "execution_count": null,
   "id": "c231f523",
   "metadata": {
    "trusted": false
   },
   "outputs": [
    {
     "name": "stdout",
     "output_type": "stream",
     "text": [
      "30.0    51337\n",
      "7.0     44577\n",
      "6.0     33930\n",
      "4.0     31006\n",
      "3.0     30224\n",
      "5.0     30096\n",
      "2.0     27138\n",
      "8.0     25361\n",
      "1.0     20179\n",
      "9.0     16753\n",
      "14.0    13992\n",
      "10.0    13309\n",
      "13.0    11737\n",
      "11.0    11467\n",
      "12.0    10658\n",
      "0.0      9589\n",
      "15.0     9416\n",
      "16.0     6587\n",
      "21.0     6448\n",
      "17.0     5498\n",
      "20.0     5302\n",
      "18.0     4971\n",
      "19.0     4939\n",
      "22.0     4514\n",
      "28.0     3745\n",
      "23.0     3337\n",
      "24.0     3015\n",
      "27.0     2986\n",
      "25.0     2711\n",
      "29.0     2673\n",
      "26.0     2640\n",
      "Name: days_since_prior_order, dtype: int64\n"
     ]
    },
    {
     "data": {
      "image/png": "[encoded data removed]",
      "text/plain": [
       "<Figure size 640x480 with 1 Axes>"
      ]
     },
     "metadata": {},
     "output_type": "display_data"
    }
   ],
   "source": [
    "print(orders['days_since_prior_order'].value_counts())\n",
    "orders['days_since_prior_order'].plot(kind='hist', title=\"Days Between Orders\", bins=30)\n",
    "plt.xlabel('Days')\n",
    "plt.ylabel('Amount of Orders')\n",
    "plt.show()\n",
    "#people most often wait 30 days before placing another order"
   ]
  },
  {
   "cell_type": "markdown",
   "id": "packed-classic",
   "metadata": {},
   "source": [
    "### Is there a difference in `'order_hour_of_day'` distributions on Wednesdays and Saturdays? "
   ]
  },
  {
   "cell_type": "code",
   "execution_count": null,
   "id": "d89b8403",
   "metadata": {
    "trusted": false
   },
   "outputs": [
    {
     "data": {
      "image/png": "[encoded data removed]",
      "text/plain": [
       "<Figure size 1000x600 with 1 Axes>"
      ]
     },
     "metadata": {},
     "output_type": "display_data"
    }
   ],
   "source": [
    "wed = orders[orders['order_dow'] == 3]['order_hour_of_day']\n",
    "sat = orders[orders['order_dow'] == 6]['order_hour_of_day']\n",
    "\n",
    "plt.figure(figsize=(10, 6))\n",
    "\n",
    "plt.hist(wed, bins=24, alpha=0.5, label='Wednesday')\n",
    "plt.hist(sat, bins=24, alpha=0.5, label='Saturday')\n",
    "\n",
    "plt.xlabel('Hour of Day')\n",
    "plt.ylabel('Number of Orders')\n",
    "plt.title('Distribution of Orders by Hour on Wednesday vs. Saturday')\n",
    "plt.xticks(range(0, 24))\n",
    "plt.legend()\n",
    "\n",
    "plt.show()\n",
    "#there are more orders placed on wednesday than saturday"
   ]
  },
  {
   "cell_type": "markdown",
   "id": "e3891143",
   "metadata": {},
   "source": [
    "### What's the distribution for the number of orders per customer?"
   ]
  },
  {
   "cell_type": "code",
   "execution_count": null,
   "id": "d8c26c23",
   "metadata": {
    "trusted": false
   },
   "outputs": [],
   "source": [
    "order_counts = orders.groupby('user_id')['order_id'].nunique()"
   ]
  },
  {
   "cell_type": "code",
   "execution_count": null,
   "id": "00e69a66",
   "metadata": {
    "trusted": false
   },
   "outputs": [
    {
     "data": {
      "image/png": "[encoded data removed]",
      "text/plain": [
       "<Figure size 640x480 with 1 Axes>"
      ]
     },
     "metadata": {},
     "output_type": "display_data"
    }
   ],
   "source": [
    "order_counts.hist(bins=range(1, order_counts.max() + 1), grid=False)\n",
    "plt.title('Distribution of Orders Per Customer')\n",
    "plt.xlabel('Number of Orders')\n",
    "plt.ylabel('Number of Customers')\n",
    "plt.show()"
   ]
  },
  {
   "cell_type": "markdown",
   "id": "54a0319c",
   "metadata": {},
   "source": [
    "### What are the top 20 popular products?"
   ]
  },
  {
   "cell_type": "code",
   "execution_count": null,
   "id": "exterior-arizona",
   "metadata": {
    "scrolled": true,
    "trusted": false
   },
   "outputs": [],
   "source": [
    "merged_df = pd.merge(order_products, products, on='product_id')"
   ]
  },
  {
   "cell_type": "code",
   "execution_count": null,
   "id": "universal-facial",
   "metadata": {
    "trusted": false
   },
   "outputs": [],
   "source": [
    "product_count = merged_df.groupby(['product_id', 'product_name']).size().reset_index(name='count')\n",
    "product_count = product_count.sort_values(by='count', ascending=False)"
   ]
  },
  {
   "cell_type": "code",
   "execution_count": null,
   "id": "bbcdd20b",
   "metadata": {
    "trusted": false
   },
   "outputs": [
    {
     "data": {
      "text/html": [
       "<div>\n",
       "<style scoped>\n",
       "    .dataframe tbody tr th:only-of-type {\n",
       "        vertical-align: middle;\n",
       "    }\n",
       "\n",
       "    .dataframe tbody tr th {\n",
       "        vertical-align: top;\n",
       "    }\n",
       "\n",
       "    .dataframe thead th {\n",
       "        text-align: right;\n",
       "    }\n",
       "</style>\n",
       "<table border=\"1\" class=\"dataframe\">\n",
       "  <thead>\n",
       "    <tr style=\"text-align: right;\">\n",
       "      <th></th>\n",
       "      <th>product_id</th>\n",
       "      <th>product_name</th>\n",
       "    </tr>\n",
       "  </thead>\n",
       "  <tbody>\n",
       "    <tr>\n",
       "      <th>22808</th>\n",
       "      <td>24852</td>\n",
       "      <td>banana</td>\n",
       "    </tr>\n",
       "    <tr>\n",
       "      <th>12025</th>\n",
       "      <td>13176</td>\n",
       "      <td>bag of organic bananas</td>\n",
       "    </tr>\n",
       "    <tr>\n",
       "      <th>19370</th>\n",
       "      <td>21137</td>\n",
       "      <td>organic strawberries</td>\n",
       "    </tr>\n",
       "    <tr>\n",
       "      <th>20077</th>\n",
       "      <td>21903</td>\n",
       "      <td>organic baby spinach</td>\n",
       "    </tr>\n",
       "    <tr>\n",
       "      <th>43271</th>\n",
       "      <td>47209</td>\n",
       "      <td>organic hass avocado</td>\n",
       "    </tr>\n",
       "    <tr>\n",
       "      <th>43788</th>\n",
       "      <td>47766</td>\n",
       "      <td>organic avocado</td>\n",
       "    </tr>\n",
       "    <tr>\n",
       "      <th>43663</th>\n",
       "      <td>47626</td>\n",
       "      <td>large lemon</td>\n",
       "    </tr>\n",
       "    <tr>\n",
       "      <th>15364</th>\n",
       "      <td>16797</td>\n",
       "      <td>strawberries</td>\n",
       "    </tr>\n",
       "    <tr>\n",
       "      <th>24047</th>\n",
       "      <td>26209</td>\n",
       "      <td>limes</td>\n",
       "    </tr>\n",
       "    <tr>\n",
       "      <th>25556</th>\n",
       "      <td>27845</td>\n",
       "      <td>organic whole milk</td>\n",
       "    </tr>\n",
       "    <tr>\n",
       "      <th>25666</th>\n",
       "      <td>27966</td>\n",
       "      <td>organic raspberries</td>\n",
       "    </tr>\n",
       "    <tr>\n",
       "      <th>21025</th>\n",
       "      <td>22935</td>\n",
       "      <td>organic yellow onion</td>\n",
       "    </tr>\n",
       "    <tr>\n",
       "      <th>22908</th>\n",
       "      <td>24964</td>\n",
       "      <td>organic garlic</td>\n",
       "    </tr>\n",
       "    <tr>\n",
       "      <th>41244</th>\n",
       "      <td>45007</td>\n",
       "      <td>organic zucchini</td>\n",
       "    </tr>\n",
       "    <tr>\n",
       "      <th>35996</th>\n",
       "      <td>39275</td>\n",
       "      <td>organic blueberries</td>\n",
       "    </tr>\n",
       "    <tr>\n",
       "      <th>45561</th>\n",
       "      <td>49683</td>\n",
       "      <td>cucumber kirby</td>\n",
       "    </tr>\n",
       "    <tr>\n",
       "      <th>25889</th>\n",
       "      <td>28204</td>\n",
       "      <td>organic fuji apple</td>\n",
       "    </tr>\n",
       "    <tr>\n",
       "      <th>5375</th>\n",
       "      <td>5876</td>\n",
       "      <td>organic lemon</td>\n",
       "    </tr>\n",
       "    <tr>\n",
       "      <th>7543</th>\n",
       "      <td>8277</td>\n",
       "      <td>apple honeycrisp organic</td>\n",
       "    </tr>\n",
       "    <tr>\n",
       "      <th>37301</th>\n",
       "      <td>40706</td>\n",
       "      <td>organic grape tomatoes</td>\n",
       "    </tr>\n",
       "  </tbody>\n",
       "</table>\n",
       "</div>"
      ],
      "text/plain": [
       "       product_id              product_name\n",
       "22808       24852                    banana\n",
       "12025       13176    bag of organic bananas\n",
       "19370       21137      organic strawberries\n",
       "20077       21903      organic baby spinach\n",
       "43271       47209      organic hass avocado\n",
       "43788       47766           organic avocado\n",
       "43663       47626               large lemon\n",
       "15364       16797              strawberries\n",
       "24047       26209                     limes\n",
       "25556       27845        organic whole milk\n",
       "25666       27966       organic raspberries\n",
       "21025       22935      organic yellow onion\n",
       "22908       24964            organic garlic\n",
       "41244       45007          organic zucchini\n",
       "35996       39275       organic blueberries\n",
       "45561       49683            cucumber kirby\n",
       "25889       28204        organic fuji apple\n",
       "5375         5876             organic lemon\n",
       "7543         8277  apple honeycrisp organic\n",
       "37301       40706    organic grape tomatoes"
      ]
     },
     "execution_count": 45,
     "metadata": {},
     "output_type": "execute_result"
    }
   ],
   "source": [
    "product_count[['product_id', 'product_name']].head(20)"
   ]
  },
  {
   "cell_type": "markdown",
   "id": "romantic-deposit",
   "metadata": {},
   "source": [
    "### How many items do people typically buy in one order?"
   ]
  },
  {
   "cell_type": "code",
   "execution_count": null,
   "id": "virtual-punch",
   "metadata": {
    "trusted": false
   },
   "outputs": [
    {
     "data": {
      "image/png": "[encoded data removed]",
      "text/plain": [
       "<Figure size 640x480 with 1 Axes>"
      ]
     },
     "metadata": {},
     "output_type": "display_data"
    }
   ],
   "source": [
    "products_per_order = order_products.groupby('order_id')['product_id'].count()\n",
    "\n",
    "\n",
    "ax = products_per_order.plot(kind='hist', bins=50, xlim=[0, 75], title='Items Typically Bought in One Order')\n",
    "\n",
    "ax.set_xlabel('Number of Items')\n",
    "ax.set_ylabel('Frequency')\n",
    "\n",
    "plt.show()"
   ]
  },
  {
   "cell_type": "markdown",
   "id": "5e6b5537",
   "metadata": {},
   "source": [
    "### What are the top 20 items that are reordered most frequently?"
   ]
  },
  {
   "cell_type": "code",
   "execution_count": null,
   "id": "9374e55a",
   "metadata": {
    "trusted": false
   },
   "outputs": [
    {
     "name": "stdout",
     "output_type": "stream",
     "text": [
      "    product_id  reorder_count              product_name\n",
      "0        24852          55763                    banana\n",
      "1        13176          44450    bag of organic bananas\n",
      "2        21137          28639      organic strawberries\n",
      "3        21903          26233      organic baby spinach\n",
      "4        47209          23629      organic hass avocado\n",
      "5        47766          18743           organic avocado\n",
      "6        27845          16251        organic whole milk\n",
      "7        47626          15044               large lemon\n",
      "8        27966          14748       organic raspberries\n",
      "9        16797          13945              strawberries\n",
      "10       26209          13327                     limes\n",
      "11       22935          11145      organic yellow onion\n",
      "12       24964          10411            organic garlic\n",
      "13       45007          10076          organic zucchini\n",
      "14       49683           9538            cucumber kirby\n",
      "15       28204           8989        organic fuji apple\n",
      "16        8277           8836  apple honeycrisp organic\n",
      "17       39275           8799       organic blueberries\n",
      "18        5876           8412             organic lemon\n",
      "19       49235           8389       organic half & half\n"
     ]
    }
   ],
   "source": [
    "reordered = order_products[order_products['reordered'] == 1]\n",
    "\n",
    "reorder_product = reordered['product_id'].value_counts().head(20).reset_index()\n",
    "reorder_product.columns = ['product_id', 'reorder_count']\n",
    "\n",
    "print(reorder_product.merge(products[['product_id', 'product_name']], on='product_id', how='left'))"
   ]
  }
 ],
 "metadata": {
  "ExecuteTimeLog": [
   {
    "duration": 181,
    "start_time": "2024-09-16T23:13:49.339Z"
   },
   {
    "duration": 281,
    "start_time": "2024-09-16T23:13:56.649Z"
   },
   {
    "duration": 278,
    "start_time": "2024-09-16T23:13:56.933Z"
   },
   {
    "duration": 63,
    "start_time": "2024-09-16T23:13:57.213Z"
   },
   {
    "duration": 1759,
    "start_time": "2024-09-16T23:13:57.277Z"
   },
   {
    "duration": 6,
    "start_time": "2024-09-16T23:13:59.039Z"
   },
   {
    "duration": 7,
    "start_time": "2024-09-16T23:13:59.047Z"
   },
   {
    "duration": 6,
    "start_time": "2024-09-16T23:13:59.055Z"
   },
   {
    "duration": 2,
    "start_time": "2024-09-16T23:13:59.062Z"
   },
   {
    "duration": 2,
    "start_time": "2024-09-16T23:13:59.066Z"
   },
   {
    "duration": 3,
    "start_time": "2024-09-16T23:13:59.069Z"
   },
   {
    "duration": 2,
    "start_time": "2024-09-16T23:13:59.074Z"
   },
   {
    "duration": 29,
    "start_time": "2024-09-16T23:13:59.077Z"
   },
   {
    "duration": 2,
    "start_time": "2024-09-16T23:13:59.108Z"
   },
   {
    "duration": 2,
    "start_time": "2024-09-16T23:13:59.114Z"
   },
   {
    "duration": 2,
    "start_time": "2024-09-16T23:13:59.118Z"
   },
   {
    "duration": 2,
    "start_time": "2024-09-16T23:13:59.122Z"
   },
   {
    "duration": 2,
    "start_time": "2024-09-16T23:13:59.126Z"
   },
   {
    "duration": 2,
    "start_time": "2024-09-16T23:13:59.129Z"
   },
   {
    "duration": 2,
    "start_time": "2024-09-16T23:13:59.133Z"
   },
   {
    "duration": 3,
    "start_time": "2024-09-16T23:13:59.137Z"
   },
   {
    "duration": 2,
    "start_time": "2024-09-16T23:13:59.141Z"
   },
   {
    "duration": 3,
    "start_time": "2024-09-16T23:13:59.145Z"
   },
   {
    "duration": 3,
    "start_time": "2024-09-16T23:13:59.149Z"
   },
   {
    "duration": 2,
    "start_time": "2024-09-16T23:13:59.206Z"
   },
   {
    "duration": 2,
    "start_time": "2024-09-16T23:13:59.209Z"
   },
   {
    "duration": 2,
    "start_time": "2024-09-16T23:13:59.213Z"
   },
   {
    "duration": 3,
    "start_time": "2024-09-16T23:13:59.216Z"
   },
   {
    "duration": 2,
    "start_time": "2024-09-16T23:14:23.756Z"
   },
   {
    "duration": 120,
    "start_time": "2024-09-16T23:14:23.760Z"
   },
   {
    "duration": 30,
    "start_time": "2024-09-16T23:14:23.882Z"
   },
   {
    "duration": 1712,
    "start_time": "2024-09-16T23:14:23.914Z"
   },
   {
    "duration": 5,
    "start_time": "2024-09-16T23:14:25.629Z"
   },
   {
    "duration": 4,
    "start_time": "2024-09-16T23:14:25.635Z"
   },
   {
    "duration": 6,
    "start_time": "2024-09-16T23:14:25.640Z"
   },
   {
    "duration": 2,
    "start_time": "2024-09-16T23:14:25.648Z"
   },
   {
    "duration": 2,
    "start_time": "2024-09-16T23:14:25.652Z"
   },
   {
    "duration": 3,
    "start_time": "2024-09-16T23:14:25.655Z"
   },
   {
    "duration": 3,
    "start_time": "2024-09-16T23:14:25.659Z"
   },
   {
    "duration": 3,
    "start_time": "2024-09-16T23:14:25.663Z"
   },
   {
    "duration": 39,
    "start_time": "2024-09-16T23:14:25.667Z"
   },
   {
    "duration": 2,
    "start_time": "2024-09-16T23:14:25.709Z"
   },
   {
    "duration": 3,
    "start_time": "2024-09-16T23:14:25.712Z"
   },
   {
    "duration": 3,
    "start_time": "2024-09-16T23:14:25.716Z"
   },
   {
    "duration": 2,
    "start_time": "2024-09-16T23:14:25.721Z"
   },
   {
    "duration": 3,
    "start_time": "2024-09-16T23:14:25.725Z"
   },
   {
    "duration": 3,
    "start_time": "2024-09-16T23:14:25.729Z"
   },
   {
    "duration": 2,
    "start_time": "2024-09-16T23:14:25.733Z"
   },
   {
    "duration": 2,
    "start_time": "2024-09-16T23:14:25.737Z"
   },
   {
    "duration": 2,
    "start_time": "2024-09-16T23:14:25.742Z"
   },
   {
    "duration": 3,
    "start_time": "2024-09-16T23:14:25.745Z"
   },
   {
    "duration": 3,
    "start_time": "2024-09-16T23:14:25.749Z"
   },
   {
    "duration": 2,
    "start_time": "2024-09-16T23:14:25.754Z"
   },
   {
    "duration": 2,
    "start_time": "2024-09-16T23:14:25.805Z"
   },
   {
    "duration": 2,
    "start_time": "2024-09-16T23:14:25.809Z"
   },
   {
    "duration": 6,
    "start_time": "2024-09-16T23:26:32.660Z"
   },
   {
    "duration": 6,
    "start_time": "2024-09-16T23:26:43.314Z"
   },
   {
    "duration": 10,
    "start_time": "2024-09-16T23:27:00.162Z"
   },
   {
    "duration": 9,
    "start_time": "2024-09-16T23:27:16.342Z"
   },
   {
    "duration": 9,
    "start_time": "2024-09-16T23:27:49.363Z"
   },
   {
    "duration": 9,
    "start_time": "2024-09-16T23:28:03.178Z"
   },
   {
    "duration": 7,
    "start_time": "2024-09-16T23:28:17.055Z"
   },
   {
    "duration": 5,
    "start_time": "2024-09-16T23:28:25.701Z"
   },
   {
    "duration": 9,
    "start_time": "2024-09-16T23:29:16.395Z"
   },
   {
    "duration": 9,
    "start_time": "2024-09-16T23:29:38.883Z"
   },
   {
    "duration": 7,
    "start_time": "2024-09-16T23:29:57.201Z"
   },
   {
    "duration": 5,
    "start_time": "2024-09-16T23:30:15.378Z"
   },
   {
    "duration": 2,
    "start_time": "2024-09-16T23:30:35.508Z"
   },
   {
    "duration": 113,
    "start_time": "2024-09-16T23:30:35.513Z"
   },
   {
    "duration": 31,
    "start_time": "2024-09-16T23:30:35.628Z"
   },
   {
    "duration": 759,
    "start_time": "2024-09-16T23:30:35.661Z"
   },
   {
    "duration": 5,
    "start_time": "2024-09-16T23:30:36.422Z"
   },
   {
    "duration": 4,
    "start_time": "2024-09-16T23:30:36.429Z"
   },
   {
    "duration": 5,
    "start_time": "2024-09-16T23:30:40.066Z"
   },
   {
    "duration": 6,
    "start_time": "2024-09-16T23:30:41.450Z"
   },
   {
    "duration": 10,
    "start_time": "2024-09-16T23:31:01.787Z"
   },
   {
    "duration": 9,
    "start_time": "2024-09-16T23:31:14.518Z"
   },
   {
    "duration": 8,
    "start_time": "2024-09-16T23:31:33.578Z"
   },
   {
    "duration": 9,
    "start_time": "2024-09-16T23:31:43.283Z"
   },
   {
    "duration": 6,
    "start_time": "2024-09-16T23:31:55.726Z"
   },
   {
    "duration": 9,
    "start_time": "2024-09-16T23:32:14.951Z"
   },
   {
    "duration": 7,
    "start_time": "2024-09-16T23:41:47.337Z"
   },
   {
    "duration": 6,
    "start_time": "2024-09-16T23:41:52.687Z"
   },
   {
    "duration": 7,
    "start_time": "2024-09-16T23:42:21.995Z"
   },
   {
    "duration": 35,
    "start_time": "2024-09-16T23:42:46.843Z"
   },
   {
    "duration": 35,
    "start_time": "2024-09-16T23:49:13.532Z"
   },
   {
    "duration": 10,
    "start_time": "2024-09-16T23:58:22.186Z"
   },
   {
    "duration": 3,
    "start_time": "2024-09-16T23:58:27.371Z"
   },
   {
    "duration": 100,
    "start_time": "2024-09-16T23:58:27.376Z"
   },
   {
    "duration": 31,
    "start_time": "2024-09-16T23:58:27.478Z"
   },
   {
    "duration": 700,
    "start_time": "2024-09-16T23:58:27.510Z"
   },
   {
    "duration": 6,
    "start_time": "2024-09-16T23:58:28.213Z"
   },
   {
    "duration": 5,
    "start_time": "2024-09-16T23:58:28.221Z"
   },
   {
    "duration": 22,
    "start_time": "2024-09-16T23:58:28.227Z"
   },
   {
    "duration": 5,
    "start_time": "2024-09-16T23:58:28.251Z"
   },
   {
    "duration": 3,
    "start_time": "2024-09-16T23:58:28.257Z"
   },
   {
    "duration": 2,
    "start_time": "2024-09-16T23:58:28.262Z"
   },
   {
    "duration": 3,
    "start_time": "2024-09-16T23:58:28.265Z"
   },
   {
    "duration": 3,
    "start_time": "2024-09-16T23:58:28.269Z"
   },
   {
    "duration": 2,
    "start_time": "2024-09-16T23:58:28.306Z"
   },
   {
    "duration": 2,
    "start_time": "2024-09-16T23:58:28.313Z"
   },
   {
    "duration": 3,
    "start_time": "2024-09-16T23:58:28.316Z"
   },
   {
    "duration": 3,
    "start_time": "2024-09-16T23:58:28.320Z"
   },
   {
    "duration": 4,
    "start_time": "2024-09-16T23:58:28.324Z"
   },
   {
    "duration": 3,
    "start_time": "2024-09-16T23:58:28.329Z"
   },
   {
    "duration": 2,
    "start_time": "2024-09-16T23:58:28.333Z"
   },
   {
    "duration": 2,
    "start_time": "2024-09-16T23:58:28.337Z"
   },
   {
    "duration": 2,
    "start_time": "2024-09-16T23:58:28.341Z"
   },
   {
    "duration": 2,
    "start_time": "2024-09-16T23:58:28.345Z"
   },
   {
    "duration": 2,
    "start_time": "2024-09-16T23:58:28.349Z"
   },
   {
    "duration": 2,
    "start_time": "2024-09-16T23:58:28.406Z"
   },
   {
    "duration": 2,
    "start_time": "2024-09-16T23:58:28.410Z"
   },
   {
    "duration": 3,
    "start_time": "2024-09-16T23:58:28.413Z"
   },
   {
    "duration": 2,
    "start_time": "2024-09-16T23:58:28.418Z"
   },
   {
    "duration": 2,
    "start_time": "2024-09-16T23:58:28.422Z"
   },
   {
    "duration": 72,
    "start_time": "2024-09-17T00:12:53.367Z"
   },
   {
    "duration": 70,
    "start_time": "2024-09-17T00:14:50.348Z"
   },
   {
    "duration": 9,
    "start_time": "2024-09-17T00:16:15.974Z"
   },
   {
    "duration": 5,
    "start_time": "2024-09-17T00:23:03.558Z"
   },
   {
    "duration": 12,
    "start_time": "2024-09-17T00:23:10.204Z"
   },
   {
    "duration": 12,
    "start_time": "2024-09-17T00:23:29.818Z"
   },
   {
    "duration": 11,
    "start_time": "2024-09-17T00:23:56.428Z"
   },
   {
    "duration": 11,
    "start_time": "2024-09-17T00:24:05.731Z"
   },
   {
    "duration": 11,
    "start_time": "2024-09-17T00:24:16.993Z"
   },
   {
    "duration": 3,
    "start_time": "2024-09-17T00:26:22.155Z"
   },
   {
    "duration": 102,
    "start_time": "2024-09-17T00:26:22.160Z"
   },
   {
    "duration": 31,
    "start_time": "2024-09-17T00:26:22.263Z"
   },
   {
    "duration": 704,
    "start_time": "2024-09-17T00:26:22.296Z"
   },
   {
    "duration": 6,
    "start_time": "2024-09-17T00:26:23.005Z"
   },
   {
    "duration": 6,
    "start_time": "2024-09-17T00:26:23.013Z"
   },
   {
    "duration": 9,
    "start_time": "2024-09-17T00:26:23.021Z"
   },
   {
    "duration": 90,
    "start_time": "2024-09-17T00:26:23.032Z"
   },
   {
    "duration": 11,
    "start_time": "2024-09-17T00:26:23.124Z"
   },
   {
    "duration": 0,
    "start_time": "2024-09-17T00:26:23.138Z"
   },
   {
    "duration": 0,
    "start_time": "2024-09-17T00:26:23.139Z"
   },
   {
    "duration": 0,
    "start_time": "2024-09-17T00:26:23.141Z"
   },
   {
    "duration": 0,
    "start_time": "2024-09-17T00:26:23.142Z"
   },
   {
    "duration": 0,
    "start_time": "2024-09-17T00:26:23.143Z"
   },
   {
    "duration": 0,
    "start_time": "2024-09-17T00:26:23.145Z"
   },
   {
    "duration": 0,
    "start_time": "2024-09-17T00:26:23.146Z"
   },
   {
    "duration": 0,
    "start_time": "2024-09-17T00:26:23.147Z"
   },
   {
    "duration": 0,
    "start_time": "2024-09-17T00:26:23.149Z"
   },
   {
    "duration": 0,
    "start_time": "2024-09-17T00:26:23.150Z"
   },
   {
    "duration": 0,
    "start_time": "2024-09-17T00:26:23.151Z"
   },
   {
    "duration": 1,
    "start_time": "2024-09-17T00:26:23.152Z"
   },
   {
    "duration": 0,
    "start_time": "2024-09-17T00:26:23.155Z"
   },
   {
    "duration": 0,
    "start_time": "2024-09-17T00:26:23.156Z"
   },
   {
    "duration": 0,
    "start_time": "2024-09-17T00:26:23.157Z"
   },
   {
    "duration": 0,
    "start_time": "2024-09-17T00:26:23.158Z"
   },
   {
    "duration": 0,
    "start_time": "2024-09-17T00:26:23.160Z"
   },
   {
    "duration": 0,
    "start_time": "2024-09-17T00:26:23.161Z"
   },
   {
    "duration": 0,
    "start_time": "2024-09-17T00:26:23.162Z"
   },
   {
    "duration": 10,
    "start_time": "2024-09-17T00:26:51.836Z"
   },
   {
    "duration": 3,
    "start_time": "2024-09-17T00:28:30.255Z"
   },
   {
    "duration": 3,
    "start_time": "2024-09-17T00:28:42.082Z"
   },
   {
    "duration": 61,
    "start_time": "2024-09-17T00:28:54.323Z"
   },
   {
    "duration": 17,
    "start_time": "2024-09-17T00:30:50.140Z"
   },
   {
    "duration": 12,
    "start_time": "2024-09-17T00:34:43.122Z"
   },
   {
    "duration": 12,
    "start_time": "2024-09-17T00:34:54.430Z"
   },
   {
    "duration": 3,
    "start_time": "2024-09-17T00:35:17.058Z"
   },
   {
    "duration": 5,
    "start_time": "2024-09-17T00:35:26.972Z"
   },
   {
    "duration": 12,
    "start_time": "2024-09-17T00:41:30.617Z"
   },
   {
    "duration": 4,
    "start_time": "2024-09-17T00:41:43.675Z"
   },
   {
    "duration": 4,
    "start_time": "2024-09-17T00:42:10.843Z"
   },
   {
    "duration": 13,
    "start_time": "2024-09-17T00:50:31.640Z"
   },
   {
    "duration": 10,
    "start_time": "2024-09-17T00:50:58.537Z"
   },
   {
    "duration": 12,
    "start_time": "2024-09-17T00:51:19.131Z"
   },
   {
    "duration": 5,
    "start_time": "2024-09-17T00:52:26.550Z"
   },
   {
    "duration": 5,
    "start_time": "2024-09-17T00:54:49.251Z"
   },
   {
    "duration": 799,
    "start_time": "2024-09-17T01:00:04.171Z"
   },
   {
    "duration": 13,
    "start_time": "2024-09-17T01:05:17.754Z"
   },
   {
    "duration": 9,
    "start_time": "2024-09-17T01:05:23.678Z"
   },
   {
    "duration": 4,
    "start_time": "2024-09-17T01:05:46.527Z"
   },
   {
    "duration": 4,
    "start_time": "2024-09-17T01:06:07.808Z"
   },
   {
    "duration": 4,
    "start_time": "2024-09-17T01:06:44.526Z"
   },
   {
    "duration": 3,
    "start_time": "2024-09-17T01:06:49.563Z"
   },
   {
    "duration": 103,
    "start_time": "2024-09-17T01:06:49.568Z"
   },
   {
    "duration": 33,
    "start_time": "2024-09-17T01:06:49.672Z"
   },
   {
    "duration": 670,
    "start_time": "2024-09-17T01:06:49.707Z"
   },
   {
    "duration": 5,
    "start_time": "2024-09-17T01:06:50.379Z"
   },
   {
    "duration": 4,
    "start_time": "2024-09-17T01:06:50.386Z"
   },
   {
    "duration": 15,
    "start_time": "2024-09-17T01:06:50.391Z"
   },
   {
    "duration": 82,
    "start_time": "2024-09-17T01:06:50.407Z"
   },
   {
    "duration": 4,
    "start_time": "2024-09-17T01:06:50.505Z"
   },
   {
    "duration": 2,
    "start_time": "2024-09-17T01:06:50.511Z"
   },
   {
    "duration": 2,
    "start_time": "2024-09-17T01:06:50.515Z"
   },
   {
    "duration": 3,
    "start_time": "2024-09-17T01:06:50.518Z"
   },
   {
    "duration": 12,
    "start_time": "2024-09-17T01:06:50.523Z"
   },
   {
    "duration": 3,
    "start_time": "2024-09-17T01:06:50.539Z"
   },
   {
    "duration": 2,
    "start_time": "2024-09-17T01:06:50.544Z"
   },
   {
    "duration": 2,
    "start_time": "2024-09-17T01:06:50.548Z"
   },
   {
    "duration": 5,
    "start_time": "2024-09-17T01:06:50.551Z"
   },
   {
    "duration": 52,
    "start_time": "2024-09-17T01:06:50.557Z"
   },
   {
    "duration": 4,
    "start_time": "2024-09-17T01:06:50.611Z"
   },
   {
    "duration": 668,
    "start_time": "2024-09-17T01:06:50.617Z"
   },
   {
    "duration": 2,
    "start_time": "2024-09-17T01:06:51.287Z"
   },
   {
    "duration": 15,
    "start_time": "2024-09-17T01:06:51.290Z"
   },
   {
    "duration": 2,
    "start_time": "2024-09-17T01:06:51.307Z"
   },
   {
    "duration": 3,
    "start_time": "2024-09-17T01:06:51.311Z"
   },
   {
    "duration": 3,
    "start_time": "2024-09-17T01:06:51.316Z"
   },
   {
    "duration": 3,
    "start_time": "2024-09-17T01:06:51.320Z"
   },
   {
    "duration": 2,
    "start_time": "2024-09-17T01:06:51.324Z"
   },
   {
    "duration": 3,
    "start_time": "2024-09-17T01:06:51.328Z"
   },
   {
    "duration": 2,
    "start_time": "2024-09-17T01:06:51.332Z"
   },
   {
    "duration": 3,
    "start_time": "2024-09-17T01:06:51.336Z"
   },
   {
    "duration": 5,
    "start_time": "2024-09-17T01:17:32.919Z"
   },
   {
    "duration": 13,
    "start_time": "2024-09-17T01:18:00.531Z"
   },
   {
    "duration": 11,
    "start_time": "2024-09-17T01:18:22.578Z"
   },
   {
    "duration": 4,
    "start_time": "2024-09-17T01:18:38.796Z"
   },
   {
    "duration": 4,
    "start_time": "2024-09-17T01:18:50.499Z"
   },
   {
    "duration": 11,
    "start_time": "2024-09-17T01:20:02.739Z"
   },
   {
    "duration": 4,
    "start_time": "2024-09-17T01:21:22.823Z"
   },
   {
    "duration": 4,
    "start_time": "2024-09-17T01:21:24.736Z"
   },
   {
    "duration": 9,
    "start_time": "2024-09-17T01:21:29.501Z"
   },
   {
    "duration": 745,
    "start_time": "2024-09-17T01:21:49.965Z"
   },
   {
    "duration": 18,
    "start_time": "2024-09-17T01:23:31.247Z"
   },
   {
    "duration": 13,
    "start_time": "2024-09-17T01:23:38.443Z"
   },
   {
    "duration": 4,
    "start_time": "2024-09-17T01:23:48.808Z"
   },
   {
    "duration": 4,
    "start_time": "2024-09-17T01:24:00.514Z"
   },
   {
    "duration": 10,
    "start_time": "2024-09-17T01:40:58.873Z"
   },
   {
    "duration": 9,
    "start_time": "2024-09-17T01:42:08.288Z"
   },
   {
    "duration": 12,
    "start_time": "2024-09-17T01:48:01.117Z"
   },
   {
    "duration": 4,
    "start_time": "2024-09-17T01:48:28.940Z"
   },
   {
    "duration": 7,
    "start_time": "2024-09-17T01:50:09.690Z"
   },
   {
    "duration": 3,
    "start_time": "2024-09-17T01:50:40.956Z"
   },
   {
    "duration": 3,
    "start_time": "2024-09-17T01:50:47.830Z"
   },
   {
    "duration": 3,
    "start_time": "2024-09-17T01:50:53.433Z"
   },
   {
    "duration": 3,
    "start_time": "2024-09-17T01:51:01.541Z"
   },
   {
    "duration": 5,
    "start_time": "2024-09-17T02:00:58.250Z"
   },
   {
    "duration": 12,
    "start_time": "2024-09-17T02:03:26.768Z"
   },
   {
    "duration": 3,
    "start_time": "2024-09-17T02:03:36.350Z"
   },
   {
    "duration": 3,
    "start_time": "2024-09-17T02:03:48.185Z"
   },
   {
    "duration": 3,
    "start_time": "2024-09-17T02:03:54.700Z"
   },
   {
    "duration": 4,
    "start_time": "2024-09-17T02:04:12.778Z"
   },
   {
    "duration": 5,
    "start_time": "2024-09-17T02:04:25.154Z"
   },
   {
    "duration": 4,
    "start_time": "2024-09-17T02:04:30.938Z"
   },
   {
    "duration": 3,
    "start_time": "2024-09-17T02:05:02.817Z"
   },
   {
    "duration": 4,
    "start_time": "2024-09-17T02:05:14.259Z"
   },
   {
    "duration": 9,
    "start_time": "2024-09-17T02:05:25.564Z"
   },
   {
    "duration": 134,
    "start_time": "2024-09-17T02:07:16.524Z"
   },
   {
    "duration": 9,
    "start_time": "2024-09-17T02:07:46.254Z"
   },
   {
    "duration": 11,
    "start_time": "2024-09-17T02:08:53.374Z"
   },
   {
    "duration": 12,
    "start_time": "2024-09-17T02:09:08.241Z"
   },
   {
    "duration": 834,
    "start_time": "2024-09-17T02:09:16.271Z"
   },
   {
    "duration": 2,
    "start_time": "2024-09-17T02:09:17.388Z"
   },
   {
    "duration": 415,
    "start_time": "2024-09-17T02:09:49.214Z"
   },
   {
    "duration": 37,
    "start_time": "2024-09-17T02:10:04.961Z"
   },
   {
    "duration": 7,
    "start_time": "2024-09-17T02:10:17.943Z"
   },
   {
    "duration": 13,
    "start_time": "2024-09-17T02:14:02.728Z"
   },
   {
    "duration": 11,
    "start_time": "2024-09-17T02:16:56.349Z"
   },
   {
    "duration": 4,
    "start_time": "2024-09-17T02:17:10.792Z"
   },
   {
    "duration": 22,
    "start_time": "2024-09-17T02:17:16.096Z"
   },
   {
    "duration": 4,
    "start_time": "2024-09-17T02:17:30.890Z"
   },
   {
    "duration": 4,
    "start_time": "2024-09-17T02:18:50.562Z"
   },
   {
    "duration": 3,
    "start_time": "2024-09-17T02:18:53.298Z"
   },
   {
    "duration": 99,
    "start_time": "2024-09-17T02:18:53.303Z"
   },
   {
    "duration": 30,
    "start_time": "2024-09-17T02:18:53.403Z"
   },
   {
    "duration": 692,
    "start_time": "2024-09-17T02:18:53.435Z"
   },
   {
    "duration": 6,
    "start_time": "2024-09-17T02:18:54.128Z"
   },
   {
    "duration": 9,
    "start_time": "2024-09-17T02:18:54.135Z"
   },
   {
    "duration": 13,
    "start_time": "2024-09-17T02:18:54.145Z"
   },
   {
    "duration": 88,
    "start_time": "2024-09-17T02:18:54.159Z"
   },
   {
    "duration": 6,
    "start_time": "2024-09-17T02:18:54.249Z"
   },
   {
    "duration": 3,
    "start_time": "2024-09-17T02:18:54.258Z"
   },
   {
    "duration": 2,
    "start_time": "2024-09-17T02:18:54.262Z"
   },
   {
    "duration": 2,
    "start_time": "2024-09-17T02:18:54.266Z"
   },
   {
    "duration": 35,
    "start_time": "2024-09-17T02:18:54.270Z"
   },
   {
    "duration": 4,
    "start_time": "2024-09-17T02:18:54.307Z"
   },
   {
    "duration": 22,
    "start_time": "2024-09-17T02:18:54.313Z"
   },
   {
    "duration": 3,
    "start_time": "2024-09-17T02:18:54.338Z"
   },
   {
    "duration": 8,
    "start_time": "2024-09-17T02:18:54.343Z"
   },
   {
    "duration": 3,
    "start_time": "2024-09-17T02:18:54.354Z"
   },
   {
    "duration": 8,
    "start_time": "2024-09-17T02:18:54.359Z"
   },
   {
    "duration": 38,
    "start_time": "2024-09-17T02:18:54.369Z"
   },
   {
    "duration": 667,
    "start_time": "2024-09-17T02:18:54.408Z"
   },
   {
    "duration": 2,
    "start_time": "2024-09-17T02:18:55.078Z"
   },
   {
    "duration": 3,
    "start_time": "2024-09-17T02:18:55.082Z"
   },
   {
    "duration": 18,
    "start_time": "2024-09-17T02:18:55.087Z"
   },
   {
    "duration": 3,
    "start_time": "2024-09-17T02:18:55.107Z"
   },
   {
    "duration": 2,
    "start_time": "2024-09-17T02:18:55.112Z"
   },
   {
    "duration": 2,
    "start_time": "2024-09-17T02:18:55.116Z"
   },
   {
    "duration": 2,
    "start_time": "2024-09-17T02:18:55.122Z"
   },
   {
    "duration": 3,
    "start_time": "2024-09-17T02:18:55.126Z"
   },
   {
    "duration": 2,
    "start_time": "2024-09-17T02:18:55.130Z"
   },
   {
    "duration": 3,
    "start_time": "2024-09-17T02:18:55.134Z"
   },
   {
    "duration": 8,
    "start_time": "2024-09-17T02:19:25.108Z"
   },
   {
    "duration": 4,
    "start_time": "2024-09-17T02:19:42.154Z"
   },
   {
    "duration": 26,
    "start_time": "2024-09-17T02:21:04.132Z"
   },
   {
    "duration": 18,
    "start_time": "2024-09-17T02:21:24.257Z"
   },
   {
    "duration": 22,
    "start_time": "2024-09-17T02:21:38.460Z"
   },
   {
    "duration": 8,
    "start_time": "2024-09-17T02:21:47.760Z"
   },
   {
    "duration": 10,
    "start_time": "2024-09-17T02:22:30.828Z"
   },
   {
    "duration": 11,
    "start_time": "2024-09-17T02:22:32.664Z"
   },
   {
    "duration": 2,
    "start_time": "2024-09-17T02:22:37.062Z"
   },
   {
    "duration": 103,
    "start_time": "2024-09-17T02:22:37.066Z"
   },
   {
    "duration": 30,
    "start_time": "2024-09-17T02:22:37.171Z"
   },
   {
    "duration": 702,
    "start_time": "2024-09-17T02:22:37.203Z"
   },
   {
    "duration": 5,
    "start_time": "2024-09-17T02:22:37.907Z"
   },
   {
    "duration": 4,
    "start_time": "2024-09-17T02:22:37.914Z"
   },
   {
    "duration": 10,
    "start_time": "2024-09-17T02:22:37.920Z"
   },
   {
    "duration": 82,
    "start_time": "2024-09-17T02:22:37.931Z"
   },
   {
    "duration": 7,
    "start_time": "2024-09-17T02:22:38.016Z"
   },
   {
    "duration": 2,
    "start_time": "2024-09-17T02:22:38.024Z"
   },
   {
    "duration": 2,
    "start_time": "2024-09-17T02:22:38.028Z"
   },
   {
    "duration": 3,
    "start_time": "2024-09-17T02:22:38.032Z"
   },
   {
    "duration": 13,
    "start_time": "2024-09-17T02:22:38.037Z"
   },
   {
    "duration": 3,
    "start_time": "2024-09-17T02:22:38.054Z"
   },
   {
    "duration": 7,
    "start_time": "2024-09-17T02:22:38.059Z"
   },
   {
    "duration": 42,
    "start_time": "2024-09-17T02:22:38.068Z"
   },
   {
    "duration": 9,
    "start_time": "2024-09-17T02:22:38.111Z"
   },
   {
    "duration": 4,
    "start_time": "2024-09-17T02:22:38.122Z"
   },
   {
    "duration": 7,
    "start_time": "2024-09-17T02:22:38.128Z"
   },
   {
    "duration": 4,
    "start_time": "2024-09-17T02:22:38.137Z"
   },
   {
    "duration": 727,
    "start_time": "2024-09-17T02:22:38.142Z"
   },
   {
    "duration": 3,
    "start_time": "2024-09-17T02:22:38.871Z"
   },
   {
    "duration": 3,
    "start_time": "2024-09-17T02:22:38.875Z"
   },
   {
    "duration": 3,
    "start_time": "2024-09-17T02:22:38.879Z"
   },
   {
    "duration": 2,
    "start_time": "2024-09-17T02:22:38.883Z"
   },
   {
    "duration": 3,
    "start_time": "2024-09-17T02:22:38.905Z"
   },
   {
    "duration": 2,
    "start_time": "2024-09-17T02:22:38.910Z"
   },
   {
    "duration": 3,
    "start_time": "2024-09-17T02:22:38.913Z"
   },
   {
    "duration": 2,
    "start_time": "2024-09-17T02:22:38.917Z"
   },
   {
    "duration": 2,
    "start_time": "2024-09-17T02:22:38.921Z"
   },
   {
    "duration": 2,
    "start_time": "2024-09-17T02:22:38.925Z"
   },
   {
    "duration": 7,
    "start_time": "2024-09-17T02:23:08.837Z"
   },
   {
    "duration": 4,
    "start_time": "2024-09-17T02:23:13.459Z"
   },
   {
    "duration": 4,
    "start_time": "2024-09-17T02:23:57.128Z"
   },
   {
    "duration": 5,
    "start_time": "2024-09-17T02:26:35.947Z"
   },
   {
    "duration": 6,
    "start_time": "2024-09-17T02:26:47.316Z"
   },
   {
    "duration": 4,
    "start_time": "2024-09-17T02:26:56.051Z"
   },
   {
    "duration": 6,
    "start_time": "2024-09-17T02:27:00.140Z"
   },
   {
    "duration": 5,
    "start_time": "2024-09-17T02:27:12.968Z"
   },
   {
    "duration": 8,
    "start_time": "2024-09-17T02:30:28.504Z"
   },
   {
    "duration": 8,
    "start_time": "2024-09-17T02:31:43.503Z"
   },
   {
    "duration": 5,
    "start_time": "2024-09-17T02:36:38.186Z"
   },
   {
    "duration": 12,
    "start_time": "2024-09-17T02:36:47.653Z"
   },
   {
    "duration": 5,
    "start_time": "2024-09-17T02:37:15.774Z"
   },
   {
    "duration": 5,
    "start_time": "2024-09-17T02:37:29.117Z"
   },
   {
    "duration": 9,
    "start_time": "2024-09-17T02:38:05.161Z"
   },
   {
    "duration": 80,
    "start_time": "2024-09-17T02:40:07.414Z"
   },
   {
    "duration": 70,
    "start_time": "2024-09-17T02:40:19.802Z"
   },
   {
    "duration": 2,
    "start_time": "2024-09-17T02:40:22.415Z"
   },
   {
    "duration": 108,
    "start_time": "2024-09-17T02:40:22.420Z"
   },
   {
    "duration": 30,
    "start_time": "2024-09-17T02:40:22.530Z"
   },
   {
    "duration": 699,
    "start_time": "2024-09-17T02:40:22.562Z"
   },
   {
    "duration": 6,
    "start_time": "2024-09-17T02:40:23.264Z"
   },
   {
    "duration": 5,
    "start_time": "2024-09-17T02:40:23.271Z"
   },
   {
    "duration": 10,
    "start_time": "2024-09-17T02:40:23.278Z"
   },
   {
    "duration": 70,
    "start_time": "2024-09-17T02:40:23.305Z"
   },
   {
    "duration": 7,
    "start_time": "2024-09-17T02:40:23.376Z"
   },
   {
    "duration": 93,
    "start_time": "2024-09-17T02:40:23.384Z"
   },
   {
    "duration": 74,
    "start_time": "2024-09-17T02:40:23.478Z"
   },
   {
    "duration": 2,
    "start_time": "2024-09-17T02:40:23.555Z"
   },
   {
    "duration": 12,
    "start_time": "2024-09-17T02:40:23.559Z"
   },
   {
    "duration": 4,
    "start_time": "2024-09-17T02:40:23.574Z"
   },
   {
    "duration": 30,
    "start_time": "2024-09-17T02:40:23.579Z"
   },
   {
    "duration": 5,
    "start_time": "2024-09-17T02:40:23.611Z"
   },
   {
    "duration": 8,
    "start_time": "2024-09-17T02:40:23.617Z"
   },
   {
    "duration": 5,
    "start_time": "2024-09-17T02:40:23.627Z"
   },
   {
    "duration": 8,
    "start_time": "2024-09-17T02:40:23.633Z"
   },
   {
    "duration": 5,
    "start_time": "2024-09-17T02:40:23.642Z"
   },
   {
    "duration": 679,
    "start_time": "2024-09-17T02:40:23.648Z"
   },
   {
    "duration": 2,
    "start_time": "2024-09-17T02:40:24.329Z"
   },
   {
    "duration": 3,
    "start_time": "2024-09-17T02:40:24.332Z"
   },
   {
    "duration": 2,
    "start_time": "2024-09-17T02:40:24.337Z"
   },
   {
    "duration": 2,
    "start_time": "2024-09-17T02:40:24.341Z"
   },
   {
    "duration": 2,
    "start_time": "2024-09-17T02:40:24.345Z"
   },
   {
    "duration": 2,
    "start_time": "2024-09-17T02:40:24.349Z"
   },
   {
    "duration": 3,
    "start_time": "2024-09-17T02:40:24.353Z"
   },
   {
    "duration": 2,
    "start_time": "2024-09-17T02:40:24.357Z"
   },
   {
    "duration": 3,
    "start_time": "2024-09-17T02:40:24.361Z"
   },
   {
    "duration": 2,
    "start_time": "2024-09-17T02:40:24.406Z"
   },
   {
    "duration": 74,
    "start_time": "2024-09-17T02:41:16.585Z"
   },
   {
    "duration": 66,
    "start_time": "2024-09-17T02:41:34.427Z"
   },
   {
    "duration": 2,
    "start_time": "2024-09-17T02:41:40.237Z"
   },
   {
    "duration": 99,
    "start_time": "2024-09-17T02:41:40.241Z"
   },
   {
    "duration": 31,
    "start_time": "2024-09-17T02:41:40.342Z"
   },
   {
    "duration": 665,
    "start_time": "2024-09-17T02:41:40.376Z"
   },
   {
    "duration": 5,
    "start_time": "2024-09-17T02:41:41.043Z"
   },
   {
    "duration": 4,
    "start_time": "2024-09-17T02:41:41.050Z"
   },
   {
    "duration": 9,
    "start_time": "2024-09-17T02:41:41.056Z"
   },
   {
    "duration": 100,
    "start_time": "2024-09-17T02:41:41.066Z"
   },
   {
    "duration": 7,
    "start_time": "2024-09-17T02:41:41.167Z"
   },
   {
    "duration": 84,
    "start_time": "2024-09-17T02:41:41.177Z"
   },
   {
    "duration": 86,
    "start_time": "2024-09-17T02:41:41.263Z"
   },
   {
    "duration": 2,
    "start_time": "2024-09-17T02:41:41.351Z"
   },
   {
    "duration": 13,
    "start_time": "2024-09-17T02:41:41.355Z"
   },
   {
    "duration": 3,
    "start_time": "2024-09-17T02:41:41.370Z"
   },
   {
    "duration": 30,
    "start_time": "2024-09-17T02:41:41.375Z"
   },
   {
    "duration": 5,
    "start_time": "2024-09-17T02:41:41.406Z"
   },
   {
    "duration": 8,
    "start_time": "2024-09-17T02:41:41.412Z"
   },
   {
    "duration": 4,
    "start_time": "2024-09-17T02:41:41.422Z"
   },
   {
    "duration": 8,
    "start_time": "2024-09-17T02:41:41.427Z"
   },
   {
    "duration": 4,
    "start_time": "2024-09-17T02:41:41.437Z"
   },
   {
    "duration": 776,
    "start_time": "2024-09-17T02:41:41.442Z"
   },
   {
    "duration": 3,
    "start_time": "2024-09-17T02:41:42.220Z"
   },
   {
    "duration": 2,
    "start_time": "2024-09-17T02:41:42.225Z"
   },
   {
    "duration": 2,
    "start_time": "2024-09-17T02:41:42.229Z"
   },
   {
    "duration": 3,
    "start_time": "2024-09-17T02:41:42.233Z"
   },
   {
    "duration": 3,
    "start_time": "2024-09-17T02:41:42.237Z"
   },
   {
    "duration": 4,
    "start_time": "2024-09-17T02:41:42.241Z"
   },
   {
    "duration": 2,
    "start_time": "2024-09-17T02:41:42.248Z"
   },
   {
    "duration": 6,
    "start_time": "2024-09-17T02:41:42.251Z"
   },
   {
    "duration": 3,
    "start_time": "2024-09-17T02:41:42.258Z"
   },
   {
    "duration": 3,
    "start_time": "2024-09-17T02:41:42.263Z"
   },
   {
    "duration": 22,
    "start_time": "2024-09-17T02:45:05.242Z"
   },
   {
    "duration": 26,
    "start_time": "2024-09-17T02:45:22.696Z"
   },
   {
    "duration": 23,
    "start_time": "2024-09-17T02:45:54.045Z"
   },
   {
    "duration": 23,
    "start_time": "2024-09-17T02:46:03.189Z"
   },
   {
    "duration": 12,
    "start_time": "2024-09-17T02:46:28.586Z"
   },
   {
    "duration": 10,
    "start_time": "2024-09-17T02:46:46.917Z"
   },
   {
    "duration": 4,
    "start_time": "2024-09-17T02:47:02.838Z"
   },
   {
    "duration": 9,
    "start_time": "2024-09-17T02:47:15.253Z"
   },
   {
    "duration": 20,
    "start_time": "2024-09-17T02:48:13.039Z"
   },
   {
    "duration": 6,
    "start_time": "2024-09-17T02:48:17.524Z"
   },
   {
    "duration": 4,
    "start_time": "2024-09-17T02:49:21.761Z"
   },
   {
    "duration": 8,
    "start_time": "2024-09-17T02:49:29.388Z"
   },
   {
    "duration": 8,
    "start_time": "2024-09-17T02:49:41.783Z"
   },
   {
    "duration": 19,
    "start_time": "2024-09-17T02:52:02.130Z"
   },
   {
    "duration": 8,
    "start_time": "2024-09-17T02:52:04.257Z"
   },
   {
    "duration": 25,
    "start_time": "2024-09-17T02:52:33.332Z"
   },
   {
    "duration": 20,
    "start_time": "2024-09-17T02:53:52.562Z"
   },
   {
    "duration": 20,
    "start_time": "2024-09-17T02:54:32.547Z"
   },
   {
    "duration": 13,
    "start_time": "2024-09-17T02:58:00.806Z"
   },
   {
    "duration": 7,
    "start_time": "2024-09-17T02:59:06.284Z"
   },
   {
    "duration": 8,
    "start_time": "2024-09-17T02:59:18.778Z"
   },
   {
    "duration": 8,
    "start_time": "2024-09-17T02:59:23.824Z"
   },
   {
    "duration": 806,
    "start_time": "2024-09-17T02:59:49.900Z"
   },
   {
    "duration": 750,
    "start_time": "2024-09-17T03:00:07.405Z"
   },
   {
    "duration": 9,
    "start_time": "2024-09-17T03:09:06.825Z"
   },
   {
    "duration": 9,
    "start_time": "2024-09-17T03:09:30.987Z"
   },
   {
    "duration": 9,
    "start_time": "2024-09-17T03:10:05.945Z"
   },
   {
    "duration": 20,
    "start_time": "2024-09-17T03:15:02.241Z"
   },
   {
    "duration": 11,
    "start_time": "2024-09-17T03:15:15.968Z"
   },
   {
    "duration": 21,
    "start_time": "2024-09-17T03:15:21.600Z"
   },
   {
    "duration": 18,
    "start_time": "2024-09-17T03:15:26.805Z"
   },
   {
    "duration": 23,
    "start_time": "2024-09-17T03:15:32.798Z"
   },
   {
    "duration": 11,
    "start_time": "2024-09-17T03:15:46.934Z"
   },
   {
    "duration": 20,
    "start_time": "2024-09-17T03:16:29.454Z"
   },
   {
    "duration": 32,
    "start_time": "2024-09-17T03:20:55.757Z"
   },
   {
    "duration": 4,
    "start_time": "2024-09-17T03:21:49.923Z"
   },
   {
    "duration": 126,
    "start_time": "2024-09-17T03:22:00.423Z"
   },
   {
    "duration": 107,
    "start_time": "2024-09-17T03:22:28.056Z"
   },
   {
    "duration": 33,
    "start_time": "2024-09-17T03:23:00.572Z"
   },
   {
    "duration": 72,
    "start_time": "2024-09-17T03:23:41.347Z"
   },
   {
    "duration": 38,
    "start_time": "2024-09-17T03:24:16.184Z"
   },
   {
    "duration": 6,
    "start_time": "2024-09-17T03:24:40.925Z"
   },
   {
    "duration": 7,
    "start_time": "2024-09-17T03:26:49.076Z"
   },
   {
    "duration": 37,
    "start_time": "2024-09-17T03:28:13.629Z"
   },
   {
    "duration": 4,
    "start_time": "2024-09-17T03:28:25.045Z"
   },
   {
    "duration": 5,
    "start_time": "2024-09-17T03:29:23.132Z"
   },
   {
    "duration": 5,
    "start_time": "2024-09-17T03:30:07.010Z"
   },
   {
    "duration": 193,
    "start_time": "2024-09-17T15:14:08.067Z"
   },
   {
    "duration": 347,
    "start_time": "2024-09-17T15:14:14.230Z"
   },
   {
    "duration": 198,
    "start_time": "2024-09-17T15:14:14.579Z"
   },
   {
    "duration": 76,
    "start_time": "2024-09-17T15:14:14.779Z"
   },
   {
    "duration": 899,
    "start_time": "2024-09-17T15:14:14.857Z"
   },
   {
    "duration": 7,
    "start_time": "2024-09-17T15:14:15.758Z"
   },
   {
    "duration": 7,
    "start_time": "2024-09-17T15:14:15.766Z"
   },
   {
    "duration": 6,
    "start_time": "2024-09-17T15:14:15.774Z"
   },
   {
    "duration": 139,
    "start_time": "2024-09-17T15:14:15.781Z"
   },
   {
    "duration": 7,
    "start_time": "2024-09-17T15:14:15.922Z"
   },
   {
    "duration": 121,
    "start_time": "2024-09-17T15:14:15.931Z"
   },
   {
    "duration": 114,
    "start_time": "2024-09-17T15:14:16.054Z"
   },
   {
    "duration": 45,
    "start_time": "2024-09-17T15:14:16.169Z"
   },
   {
    "duration": 13,
    "start_time": "2024-09-17T15:14:16.216Z"
   },
   {
    "duration": 3,
    "start_time": "2024-09-17T15:14:16.233Z"
   },
   {
    "duration": 24,
    "start_time": "2024-09-17T15:14:16.238Z"
   },
   {
    "duration": 8,
    "start_time": "2024-09-17T15:14:16.263Z"
   },
   {
    "duration": 27,
    "start_time": "2024-09-17T15:14:16.274Z"
   },
   {
    "duration": 5,
    "start_time": "2024-09-17T15:14:16.311Z"
   },
   {
    "duration": 8,
    "start_time": "2024-09-17T15:14:16.318Z"
   },
   {
    "duration": 5,
    "start_time": "2024-09-17T15:14:16.327Z"
   },
   {
    "duration": 871,
    "start_time": "2024-09-17T15:14:16.333Z"
   },
   {
    "duration": 8,
    "start_time": "2024-09-17T15:14:17.205Z"
   },
   {
    "duration": 8,
    "start_time": "2024-09-17T15:14:17.215Z"
   },
   {
    "duration": 3,
    "start_time": "2024-09-17T15:14:17.224Z"
   },
   {
    "duration": 6,
    "start_time": "2024-09-17T15:14:17.228Z"
   },
   {
    "duration": 2,
    "start_time": "2024-09-17T15:14:17.236Z"
   },
   {
    "duration": 8,
    "start_time": "2024-09-17T15:14:17.240Z"
   },
   {
    "duration": 7,
    "start_time": "2024-09-17T15:14:17.250Z"
   },
   {
    "duration": 50,
    "start_time": "2024-09-17T15:14:17.260Z"
   },
   {
    "duration": 3,
    "start_time": "2024-09-17T15:14:17.315Z"
   },
   {
    "duration": 2,
    "start_time": "2024-09-17T15:14:17.320Z"
   },
   {
    "duration": 3,
    "start_time": "2024-09-17T15:14:17.323Z"
   },
   {
    "duration": 2,
    "start_time": "2024-09-17T15:14:17.328Z"
   },
   {
    "duration": 53,
    "start_time": "2024-09-17T15:14:43.970Z"
   },
   {
    "duration": 13,
    "start_time": "2024-09-17T15:15:15.051Z"
   },
   {
    "duration": 14,
    "start_time": "2024-09-17T15:15:30.606Z"
   },
   {
    "duration": 4,
    "start_time": "2024-09-17T15:15:35.543Z"
   },
   {
    "duration": 16,
    "start_time": "2024-09-17T15:16:21.207Z"
   },
   {
    "duration": 6,
    "start_time": "2024-09-17T15:16:32.808Z"
   },
   {
    "duration": 21,
    "start_time": "2024-09-17T15:16:38.192Z"
   },
   {
    "duration": 493,
    "start_time": "2024-09-17T15:17:29.970Z"
   },
   {
    "duration": 6,
    "start_time": "2024-09-17T15:17:31.611Z"
   },
   {
    "duration": 13,
    "start_time": "2024-09-17T15:17:50.245Z"
   },
   {
    "duration": 19,
    "start_time": "2024-09-17T15:17:54.203Z"
   },
   {
    "duration": 4,
    "start_time": "2024-09-17T15:18:03.065Z"
   },
   {
    "duration": 59,
    "start_time": "2024-09-17T15:18:04.958Z"
   },
   {
    "duration": 2,
    "start_time": "2024-09-17T15:18:07.011Z"
   },
   {
    "duration": 138,
    "start_time": "2024-09-17T15:18:07.016Z"
   },
   {
    "duration": 46,
    "start_time": "2024-09-17T15:18:07.156Z"
   },
   {
    "duration": 810,
    "start_time": "2024-09-17T15:18:07.211Z"
   },
   {
    "duration": 6,
    "start_time": "2024-09-17T15:18:08.025Z"
   },
   {
    "duration": 5,
    "start_time": "2024-09-17T15:18:08.033Z"
   },
   {
    "duration": 6,
    "start_time": "2024-09-17T15:18:08.040Z"
   },
   {
    "duration": 116,
    "start_time": "2024-09-17T15:18:08.048Z"
   },
   {
    "duration": 10,
    "start_time": "2024-09-17T15:18:08.165Z"
   },
   {
    "duration": 102,
    "start_time": "2024-09-17T15:18:08.191Z"
   },
   {
    "duration": 106,
    "start_time": "2024-09-17T15:18:08.295Z"
   },
   {
    "duration": 26,
    "start_time": "2024-09-17T15:18:08.415Z"
   },
   {
    "duration": 19,
    "start_time": "2024-09-17T15:18:08.443Z"
   },
   {
    "duration": 5,
    "start_time": "2024-09-17T15:18:08.467Z"
   },
   {
    "duration": 54,
    "start_time": "2024-09-17T15:18:08.473Z"
   },
   {
    "duration": 10,
    "start_time": "2024-09-17T15:18:08.529Z"
   },
   {
    "duration": 9,
    "start_time": "2024-09-17T15:18:08.540Z"
   },
   {
    "duration": 4,
    "start_time": "2024-09-17T15:18:08.551Z"
   },
   {
    "duration": 7,
    "start_time": "2024-09-17T15:18:08.557Z"
   },
   {
    "duration": 37,
    "start_time": "2024-09-17T15:18:08.568Z"
   },
   {
    "duration": 1007,
    "start_time": "2024-09-17T15:18:08.619Z"
   },
   {
    "duration": 2,
    "start_time": "2024-09-17T15:18:09.628Z"
   },
   {
    "duration": 6,
    "start_time": "2024-09-17T15:18:09.632Z"
   },
   {
    "duration": 2,
    "start_time": "2024-09-17T15:18:09.639Z"
   },
   {
    "duration": 2,
    "start_time": "2024-09-17T15:18:09.643Z"
   },
   {
    "duration": 2,
    "start_time": "2024-09-17T15:18:09.647Z"
   },
   {
    "duration": 59,
    "start_time": "2024-09-17T15:18:09.651Z"
   },
   {
    "duration": 6,
    "start_time": "2024-09-17T15:18:09.712Z"
   },
   {
    "duration": 2,
    "start_time": "2024-09-17T15:18:09.720Z"
   },
   {
    "duration": 3,
    "start_time": "2024-09-17T15:18:09.723Z"
   },
   {
    "duration": 2,
    "start_time": "2024-09-17T15:18:09.727Z"
   },
   {
    "duration": 2,
    "start_time": "2024-09-17T15:18:09.731Z"
   },
   {
    "duration": 2,
    "start_time": "2024-09-17T15:18:09.735Z"
   },
   {
    "duration": 5,
    "start_time": "2024-09-17T15:18:09.739Z"
   },
   {
    "duration": 83,
    "start_time": "2024-09-17T15:18:09.745Z"
   },
   {
    "duration": 5,
    "start_time": "2024-09-17T15:18:17.571Z"
   },
   {
    "duration": 5,
    "start_time": "2024-09-17T15:22:36.733Z"
   },
   {
    "duration": 4,
    "start_time": "2024-09-17T15:22:44.444Z"
   },
   {
    "duration": 4,
    "start_time": "2024-09-17T15:22:51.011Z"
   },
   {
    "duration": 4,
    "start_time": "2024-09-17T15:22:56.915Z"
   },
   {
    "duration": 3,
    "start_time": "2024-09-17T15:23:21.216Z"
   },
   {
    "duration": 181,
    "start_time": "2024-09-17T15:27:53.464Z"
   },
   {
    "duration": 330,
    "start_time": "2024-09-17T15:28:21.102Z"
   },
   {
    "duration": 201,
    "start_time": "2024-09-17T15:28:21.434Z"
   },
   {
    "duration": 81,
    "start_time": "2024-09-17T15:28:21.637Z"
   },
   {
    "duration": 929,
    "start_time": "2024-09-17T15:28:21.720Z"
   },
   {
    "duration": 7,
    "start_time": "2024-09-17T15:28:22.651Z"
   },
   {
    "duration": 6,
    "start_time": "2024-09-17T15:28:22.659Z"
   },
   {
    "duration": 6,
    "start_time": "2024-09-17T15:28:22.666Z"
   },
   {
    "duration": 148,
    "start_time": "2024-09-17T15:28:22.674Z"
   },
   {
    "duration": 8,
    "start_time": "2024-09-17T15:28:22.823Z"
   },
   {
    "duration": 119,
    "start_time": "2024-09-17T15:28:22.832Z"
   },
   {
    "duration": 108,
    "start_time": "2024-09-17T15:28:22.952Z"
   },
   {
    "duration": 43,
    "start_time": "2024-09-17T15:28:23.062Z"
   },
   {
    "duration": 14,
    "start_time": "2024-09-17T15:28:23.109Z"
   },
   {
    "duration": 4,
    "start_time": "2024-09-17T15:28:23.127Z"
   },
   {
    "duration": 36,
    "start_time": "2024-09-17T15:28:23.133Z"
   },
   {
    "duration": 11,
    "start_time": "2024-09-17T15:28:23.171Z"
   },
   {
    "duration": 15,
    "start_time": "2024-09-17T15:28:23.184Z"
   },
   {
    "duration": 7,
    "start_time": "2024-09-17T15:28:23.206Z"
   },
   {
    "duration": 11,
    "start_time": "2024-09-17T15:28:23.228Z"
   },
   {
    "duration": 5,
    "start_time": "2024-09-17T15:28:23.241Z"
   },
   {
    "duration": 1068,
    "start_time": "2024-09-17T15:28:23.248Z"
   },
   {
    "duration": 3,
    "start_time": "2024-09-17T15:28:24.319Z"
   },
   {
    "duration": 5,
    "start_time": "2024-09-17T15:28:24.323Z"
   },
   {
    "duration": 2,
    "start_time": "2024-09-17T15:28:24.330Z"
   },
   {
    "duration": 2,
    "start_time": "2024-09-17T15:28:24.334Z"
   },
   {
    "duration": 3,
    "start_time": "2024-09-17T15:28:24.337Z"
   },
   {
    "duration": 7,
    "start_time": "2024-09-17T15:28:24.341Z"
   },
   {
    "duration": 39,
    "start_time": "2024-09-17T15:28:24.351Z"
   },
   {
    "duration": 204,
    "start_time": "2024-09-17T15:29:37.729Z"
   },
   {
    "duration": 330,
    "start_time": "2024-09-17T15:29:42.655Z"
   },
   {
    "duration": 231,
    "start_time": "2024-09-17T15:29:43.003Z"
   },
   {
    "duration": 83,
    "start_time": "2024-09-17T15:29:43.236Z"
   },
   {
    "duration": 993,
    "start_time": "2024-09-17T15:29:43.321Z"
   },
   {
    "duration": 6,
    "start_time": "2024-09-17T15:29:44.317Z"
   },
   {
    "duration": 5,
    "start_time": "2024-09-17T15:29:44.326Z"
   },
   {
    "duration": 5,
    "start_time": "2024-09-17T15:29:44.332Z"
   },
   {
    "duration": 114,
    "start_time": "2024-09-17T15:29:44.339Z"
   },
   {
    "duration": 8,
    "start_time": "2024-09-17T15:29:44.455Z"
   },
   {
    "duration": 113,
    "start_time": "2024-09-17T15:29:44.465Z"
   },
   {
    "duration": 125,
    "start_time": "2024-09-17T15:29:44.580Z"
   },
   {
    "duration": 27,
    "start_time": "2024-09-17T15:29:44.715Z"
   },
   {
    "duration": 12,
    "start_time": "2024-09-17T15:29:44.744Z"
   },
   {
    "duration": 4,
    "start_time": "2024-09-17T15:29:44.760Z"
   },
   {
    "duration": 35,
    "start_time": "2024-09-17T15:29:44.766Z"
   },
   {
    "duration": 9,
    "start_time": "2024-09-17T15:29:44.811Z"
   },
   {
    "duration": 8,
    "start_time": "2024-09-17T15:29:44.822Z"
   },
   {
    "duration": 5,
    "start_time": "2024-09-17T15:29:44.832Z"
   },
   {
    "duration": 7,
    "start_time": "2024-09-17T15:29:44.838Z"
   },
   {
    "duration": 4,
    "start_time": "2024-09-17T15:29:44.847Z"
   },
   {
    "duration": 921,
    "start_time": "2024-09-17T15:29:44.852Z"
   },
   {
    "duration": 22,
    "start_time": "2024-09-17T15:29:45.775Z"
   },
   {
    "duration": 10,
    "start_time": "2024-09-17T15:29:45.806Z"
   },
   {
    "duration": 2,
    "start_time": "2024-09-17T15:29:45.818Z"
   },
   {
    "duration": 2,
    "start_time": "2024-09-17T15:29:45.822Z"
   },
   {
    "duration": 2,
    "start_time": "2024-09-17T15:29:45.826Z"
   },
   {
    "duration": 7,
    "start_time": "2024-09-17T15:29:45.830Z"
   },
   {
    "duration": 6,
    "start_time": "2024-09-17T15:29:45.838Z"
   },
   {
    "duration": 7,
    "start_time": "2024-09-17T15:29:45.845Z"
   },
   {
    "duration": 2,
    "start_time": "2024-09-17T15:29:45.854Z"
   },
   {
    "duration": 3,
    "start_time": "2024-09-17T15:29:45.858Z"
   },
   {
    "duration": 10,
    "start_time": "2024-09-17T15:29:45.891Z"
   },
   {
    "duration": 2,
    "start_time": "2024-09-17T15:29:45.915Z"
   },
   {
    "duration": 5,
    "start_time": "2024-09-17T15:29:45.918Z"
   },
   {
    "duration": 5,
    "start_time": "2024-09-17T15:29:45.925Z"
   },
   {
    "duration": 7,
    "start_time": "2024-09-17T15:32:38.377Z"
   },
   {
    "duration": 8,
    "start_time": "2024-09-17T15:35:19.126Z"
   },
   {
    "duration": 11,
    "start_time": "2024-09-17T15:35:39.939Z"
   },
   {
    "duration": 8,
    "start_time": "2024-09-17T15:35:46.064Z"
   },
   {
    "duration": 9,
    "start_time": "2024-09-17T15:35:54.058Z"
   },
   {
    "duration": 7,
    "start_time": "2024-09-17T15:40:40.803Z"
   },
   {
    "duration": 125,
    "start_time": "2024-09-17T15:40:40.813Z"
   },
   {
    "duration": 34,
    "start_time": "2024-09-17T15:40:40.939Z"
   },
   {
    "duration": 792,
    "start_time": "2024-09-17T15:40:40.974Z"
   },
   {
    "duration": 5,
    "start_time": "2024-09-17T15:40:41.769Z"
   },
   {
    "duration": 31,
    "start_time": "2024-09-17T15:40:41.775Z"
   },
   {
    "duration": 5,
    "start_time": "2024-09-17T15:40:41.813Z"
   },
   {
    "duration": 99,
    "start_time": "2024-09-17T15:40:41.820Z"
   },
   {
    "duration": 7,
    "start_time": "2024-09-17T15:40:41.921Z"
   },
   {
    "duration": 101,
    "start_time": "2024-09-17T15:40:41.929Z"
   },
   {
    "duration": 97,
    "start_time": "2024-09-17T15:40:42.032Z"
   },
   {
    "duration": 27,
    "start_time": "2024-09-17T15:40:42.131Z"
   },
   {
    "duration": 13,
    "start_time": "2024-09-17T15:40:42.159Z"
   },
   {
    "duration": 3,
    "start_time": "2024-09-17T15:40:42.175Z"
   },
   {
    "duration": 38,
    "start_time": "2024-09-17T15:40:42.180Z"
   },
   {
    "duration": 9,
    "start_time": "2024-09-17T15:40:42.220Z"
   },
   {
    "duration": 8,
    "start_time": "2024-09-17T15:40:42.230Z"
   },
   {
    "duration": 5,
    "start_time": "2024-09-17T15:40:42.239Z"
   },
   {
    "duration": 7,
    "start_time": "2024-09-17T15:40:42.246Z"
   },
   {
    "duration": 39,
    "start_time": "2024-09-17T15:40:42.255Z"
   },
   {
    "duration": 948,
    "start_time": "2024-09-17T15:40:42.295Z"
   },
   {
    "duration": 2,
    "start_time": "2024-09-17T15:40:43.245Z"
   },
   {
    "duration": 5,
    "start_time": "2024-09-17T15:40:43.249Z"
   },
   {
    "duration": 3,
    "start_time": "2024-09-17T15:40:43.256Z"
   },
   {
    "duration": 2,
    "start_time": "2024-09-17T15:40:43.261Z"
   },
   {
    "duration": 17,
    "start_time": "2024-09-17T15:40:43.290Z"
   },
   {
    "duration": 9,
    "start_time": "2024-09-17T15:40:43.316Z"
   },
   {
    "duration": 6,
    "start_time": "2024-09-17T15:40:43.327Z"
   },
   {
    "duration": 9,
    "start_time": "2024-09-17T15:40:43.335Z"
   },
   {
    "duration": 2,
    "start_time": "2024-09-17T15:40:43.346Z"
   },
   {
    "duration": 3,
    "start_time": "2024-09-17T15:40:43.349Z"
   },
   {
    "duration": 3,
    "start_time": "2024-09-17T15:40:43.353Z"
   },
   {
    "duration": 3,
    "start_time": "2024-09-17T15:40:43.357Z"
   },
   {
    "duration": 5,
    "start_time": "2024-09-17T15:40:43.361Z"
   },
   {
    "duration": 25,
    "start_time": "2024-09-17T15:40:43.367Z"
   },
   {
    "duration": 12,
    "start_time": "2024-09-17T15:41:15.503Z"
   },
   {
    "duration": 9,
    "start_time": "2024-09-17T15:42:01.111Z"
   },
   {
    "duration": 8,
    "start_time": "2024-09-17T15:42:10.577Z"
   },
   {
    "duration": 12,
    "start_time": "2024-09-17T15:42:26.236Z"
   },
   {
    "duration": 9,
    "start_time": "2024-09-17T15:43:13.874Z"
   },
   {
    "duration": 68,
    "start_time": "2024-09-17T15:44:28.875Z"
   },
   {
    "duration": 70,
    "start_time": "2024-09-17T15:44:33.693Z"
   },
   {
    "duration": 12,
    "start_time": "2024-09-17T15:47:20.886Z"
   },
   {
    "duration": 3,
    "start_time": "2024-09-17T15:47:46.953Z"
   },
   {
    "duration": 7,
    "start_time": "2024-09-17T15:48:11.617Z"
   },
   {
    "duration": 22,
    "start_time": "2024-09-17T15:49:18.308Z"
   },
   {
    "duration": 478,
    "start_time": "2024-09-17T15:51:01.372Z"
   },
   {
    "duration": 50,
    "start_time": "2024-09-17T15:51:40.116Z"
   },
   {
    "duration": 1017,
    "start_time": "2024-09-17T15:52:01.751Z"
   },
   {
    "duration": 24,
    "start_time": "2024-09-17T16:03:20.635Z"
   },
   {
    "duration": 24,
    "start_time": "2024-09-17T16:03:52.143Z"
   },
   {
    "duration": 21,
    "start_time": "2024-09-17T16:04:01.455Z"
   },
   {
    "duration": 4,
    "start_time": "2024-09-17T16:04:05.575Z"
   },
   {
    "duration": 26,
    "start_time": "2024-09-17T16:04:24.119Z"
   },
   {
    "duration": 53,
    "start_time": "2024-09-17T16:04:45.411Z"
   },
   {
    "duration": 17,
    "start_time": "2024-09-17T16:05:08.920Z"
   },
   {
    "duration": 6,
    "start_time": "2024-09-17T16:08:41.343Z"
   },
   {
    "duration": 934,
    "start_time": "2024-09-17T16:08:51.035Z"
   },
   {
    "duration": 11,
    "start_time": "2024-09-17T16:11:24.181Z"
   },
   {
    "duration": 5,
    "start_time": "2024-09-17T16:11:54.553Z"
   },
   {
    "duration": 23,
    "start_time": "2024-09-17T16:12:00.932Z"
   },
   {
    "duration": 37,
    "start_time": "2024-09-17T16:15:50.547Z"
   },
   {
    "duration": 23,
    "start_time": "2024-09-17T16:16:34.275Z"
   },
   {
    "duration": 126,
    "start_time": "2024-09-17T16:18:39.585Z"
   },
   {
    "duration": 15,
    "start_time": "2024-09-17T16:19:24.566Z"
   },
   {
    "duration": 52,
    "start_time": "2024-09-17T16:25:29.220Z"
   },
   {
    "duration": 17,
    "start_time": "2024-09-17T16:25:47.658Z"
   },
   {
    "duration": 20,
    "start_time": "2024-09-17T16:26:09.603Z"
   },
   {
    "duration": 28,
    "start_time": "2024-09-17T16:26:58.069Z"
   },
   {
    "duration": 5,
    "start_time": "2024-09-17T16:28:01.181Z"
   },
   {
    "duration": 3,
    "start_time": "2024-09-17T16:28:09.515Z"
   },
   {
    "duration": 31,
    "start_time": "2024-09-17T16:29:28.068Z"
   },
   {
    "duration": 4,
    "start_time": "2024-09-17T16:29:43.235Z"
   },
   {
    "duration": 38,
    "start_time": "2024-09-17T16:29:48.729Z"
   },
   {
    "duration": 19,
    "start_time": "2024-09-17T16:29:56.087Z"
   },
   {
    "duration": 27,
    "start_time": "2024-09-17T16:30:19.640Z"
   },
   {
    "duration": 5,
    "start_time": "2024-09-17T16:30:22.584Z"
   },
   {
    "duration": 26,
    "start_time": "2024-09-17T16:30:28.320Z"
   },
   {
    "duration": 28,
    "start_time": "2024-09-17T16:30:32.990Z"
   },
   {
    "duration": 4,
    "start_time": "2024-09-17T16:35:35.095Z"
   },
   {
    "duration": 6,
    "start_time": "2024-09-17T16:37:19.950Z"
   },
   {
    "duration": 7,
    "start_time": "2024-09-17T16:38:22.361Z"
   },
   {
    "duration": 9,
    "start_time": "2024-09-17T16:41:06.573Z"
   },
   {
    "duration": 16,
    "start_time": "2024-09-17T19:04:29.060Z"
   },
   {
    "duration": 1898,
    "start_time": "2024-09-17T19:05:01.754Z"
   },
   {
    "duration": 505,
    "start_time": "2024-09-17T19:05:10.205Z"
   },
   {
    "duration": 83,
    "start_time": "2024-09-17T19:05:37.307Z"
   },
   {
    "duration": 27,
    "start_time": "2024-09-17T19:13:57.475Z"
   },
   {
    "duration": 25,
    "start_time": "2024-09-17T19:14:31.936Z"
   },
   {
    "duration": 25,
    "start_time": "2024-09-17T19:14:38.166Z"
   },
   {
    "duration": 5,
    "start_time": "2024-09-17T19:14:55.859Z"
   },
   {
    "duration": 134,
    "start_time": "2024-09-17T19:15:02.114Z"
   },
   {
    "duration": 25,
    "start_time": "2024-09-17T19:15:14.218Z"
   },
   {
    "duration": 3,
    "start_time": "2024-09-17T19:16:22.802Z"
   },
   {
    "duration": 4,
    "start_time": "2024-09-17T19:17:51.486Z"
   },
   {
    "duration": 5,
    "start_time": "2024-09-17T19:18:16.680Z"
   },
   {
    "duration": 5,
    "start_time": "2024-09-17T19:26:31.895Z"
   },
   {
    "duration": 303,
    "start_time": "2024-09-17T19:27:23.846Z"
   },
   {
    "duration": 4,
    "start_time": "2024-09-17T19:27:39.698Z"
   },
   {
    "duration": 259,
    "start_time": "2024-09-17T19:27:52.094Z"
   },
   {
    "duration": 282,
    "start_time": "2024-09-17T19:28:05.136Z"
   },
   {
    "duration": 298,
    "start_time": "2024-09-17T19:28:18.154Z"
   },
   {
    "duration": 524,
    "start_time": "2024-09-17T19:29:27.858Z"
   },
   {
    "duration": 455,
    "start_time": "2024-09-17T19:29:43.597Z"
   },
   {
    "duration": 454,
    "start_time": "2024-09-17T19:30:00.333Z"
   },
   {
    "duration": 5,
    "start_time": "2024-09-17T19:30:15.862Z"
   },
   {
    "duration": 431,
    "start_time": "2024-09-17T19:30:22.511Z"
   },
   {
    "duration": 321,
    "start_time": "2024-09-17T19:30:29.799Z"
   },
   {
    "duration": 279,
    "start_time": "2024-09-17T19:30:46.569Z"
   },
   {
    "duration": 289,
    "start_time": "2024-09-17T19:31:13.623Z"
   },
   {
    "duration": 471,
    "start_time": "2024-09-17T19:32:09.310Z"
   },
   {
    "duration": 476,
    "start_time": "2024-09-17T19:32:23.873Z"
   },
   {
    "duration": 14,
    "start_time": "2024-09-17T19:33:06.235Z"
   },
   {
    "duration": 271,
    "start_time": "2024-09-17T19:33:14.778Z"
   },
   {
    "duration": 194,
    "start_time": "2024-09-17T19:33:39.598Z"
   },
   {
    "duration": 275,
    "start_time": "2024-09-17T19:36:07.490Z"
   },
   {
    "duration": 202,
    "start_time": "2024-09-17T19:36:24.855Z"
   },
   {
    "duration": 270,
    "start_time": "2024-09-17T19:40:01.025Z"
   },
   {
    "duration": 279,
    "start_time": "2024-09-17T19:40:25.778Z"
   },
   {
    "duration": 402,
    "start_time": "2024-09-17T19:40:43.126Z"
   },
   {
    "duration": 379,
    "start_time": "2024-09-17T19:40:56.796Z"
   },
   {
    "duration": 309,
    "start_time": "2024-09-17T19:41:05.961Z"
   },
   {
    "duration": 1765,
    "start_time": "2024-09-17T19:43:53.432Z"
   },
   {
    "duration": 1205,
    "start_time": "2024-09-17T19:44:00.321Z"
   },
   {
    "duration": 1200,
    "start_time": "2024-09-17T19:44:40.339Z"
   },
   {
    "duration": 1493,
    "start_time": "2024-09-17T19:45:10.320Z"
   },
   {
    "duration": 3,
    "start_time": "2024-09-17T19:45:20.826Z"
   },
   {
    "duration": 147,
    "start_time": "2024-09-17T19:45:20.832Z"
   },
   {
    "duration": 44,
    "start_time": "2024-09-17T19:45:20.986Z"
   },
   {
    "duration": 763,
    "start_time": "2024-09-17T19:45:21.035Z"
   },
   {
    "duration": 6,
    "start_time": "2024-09-17T19:45:21.801Z"
   },
   {
    "duration": 6,
    "start_time": "2024-09-17T19:45:21.808Z"
   },
   {
    "duration": 3,
    "start_time": "2024-09-17T19:45:21.816Z"
   },
   {
    "duration": 98,
    "start_time": "2024-09-17T19:45:21.822Z"
   },
   {
    "duration": 9,
    "start_time": "2024-09-17T19:45:21.922Z"
   },
   {
    "duration": 95,
    "start_time": "2024-09-17T19:45:21.933Z"
   },
   {
    "duration": 99,
    "start_time": "2024-09-17T19:45:22.030Z"
   },
   {
    "duration": 27,
    "start_time": "2024-09-17T19:45:22.131Z"
   },
   {
    "duration": 25,
    "start_time": "2024-09-17T19:45:22.162Z"
   },
   {
    "duration": 3,
    "start_time": "2024-09-17T19:45:22.189Z"
   },
   {
    "duration": 23,
    "start_time": "2024-09-17T19:45:22.194Z"
   },
   {
    "duration": 10,
    "start_time": "2024-09-17T19:45:22.218Z"
   },
   {
    "duration": 9,
    "start_time": "2024-09-17T19:45:22.231Z"
   },
   {
    "duration": 4,
    "start_time": "2024-09-17T19:45:22.242Z"
   },
   {
    "duration": 42,
    "start_time": "2024-09-17T19:45:22.248Z"
   },
   {
    "duration": 10,
    "start_time": "2024-09-17T19:45:22.292Z"
   },
   {
    "duration": 937,
    "start_time": "2024-09-17T19:45:22.306Z"
   },
   {
    "duration": 2,
    "start_time": "2024-09-17T19:45:23.245Z"
   },
   {
    "duration": 9,
    "start_time": "2024-09-17T19:45:23.253Z"
   },
   {
    "duration": 3,
    "start_time": "2024-09-17T19:45:23.265Z"
   },
   {
    "duration": 3,
    "start_time": "2024-09-17T19:45:23.270Z"
   },
   {
    "duration": 3,
    "start_time": "2024-09-17T19:45:23.288Z"
   },
   {
    "duration": 10,
    "start_time": "2024-09-17T19:45:23.294Z"
   },
   {
    "duration": 7,
    "start_time": "2024-09-17T19:45:23.307Z"
   },
   {
    "duration": 15,
    "start_time": "2024-09-17T19:45:23.316Z"
   },
   {
    "duration": 6,
    "start_time": "2024-09-17T19:45:23.333Z"
   },
   {
    "duration": 84,
    "start_time": "2024-09-17T19:45:23.341Z"
   },
   {
    "duration": 24,
    "start_time": "2024-09-17T19:45:23.427Z"
   },
   {
    "duration": 4,
    "start_time": "2024-09-17T19:45:23.453Z"
   },
   {
    "duration": 1467,
    "start_time": "2024-09-17T19:45:23.460Z"
   },
   {
    "duration": 6,
    "start_time": "2024-09-17T19:45:24.930Z"
   },
   {
    "duration": 5,
    "start_time": "2024-09-17T19:45:24.938Z"
   },
   {
    "duration": 7,
    "start_time": "2024-09-17T19:45:24.947Z"
   },
   {
    "duration": 31,
    "start_time": "2024-09-17T19:45:24.956Z"
   },
   {
    "duration": 11,
    "start_time": "2024-09-17T19:45:24.989Z"
   },
   {
    "duration": 96,
    "start_time": "2024-09-17T19:45:25.002Z"
   },
   {
    "duration": 194,
    "start_time": "2024-09-17T21:26:36.253Z"
   },
   {
    "duration": 241,
    "start_time": "2024-09-17T21:27:17.238Z"
   },
   {
    "duration": 304,
    "start_time": "2024-09-17T21:27:27.003Z"
   },
   {
    "duration": 161,
    "start_time": "2024-09-17T21:35:44.507Z"
   },
   {
    "duration": 5,
    "start_time": "2024-09-17T21:38:44.313Z"
   },
   {
    "duration": 171,
    "start_time": "2024-09-17T21:39:01.619Z"
   },
   {
    "duration": 182,
    "start_time": "2024-09-17T21:39:24.344Z"
   },
   {
    "duration": 175,
    "start_time": "2024-09-17T21:41:04.611Z"
   },
   {
    "duration": 484,
    "start_time": "2024-09-17T21:43:32.358Z"
   },
   {
    "duration": 453,
    "start_time": "2024-09-17T21:56:15.043Z"
   },
   {
    "duration": 42,
    "start_time": "2024-09-17T21:56:32.125Z"
   },
   {
    "duration": 155,
    "start_time": "2024-09-17T21:56:41.438Z"
   },
   {
    "duration": 2208,
    "start_time": "2024-09-17T22:00:04.501Z"
   },
   {
    "duration": 373,
    "start_time": "2024-09-17T22:00:47.869Z"
   },
   {
    "duration": 62,
    "start_time": "2024-09-17T22:01:45.315Z"
   },
   {
    "duration": 220,
    "start_time": "2024-09-17T22:01:52.092Z"
   },
   {
    "duration": 229,
    "start_time": "2024-09-17T22:02:11.003Z"
   },
   {
    "duration": 190,
    "start_time": "2024-09-17T22:05:33.671Z"
   },
   {
    "duration": 196,
    "start_time": "2024-09-17T22:06:20.062Z"
   },
   {
    "duration": 196,
    "start_time": "2024-09-17T22:07:05.529Z"
   },
   {
    "duration": 169,
    "start_time": "2024-09-17T22:08:52.920Z"
   },
   {
    "duration": 177,
    "start_time": "2024-09-17T22:09:19.183Z"
   },
   {
    "duration": 171,
    "start_time": "2024-09-17T22:09:41.522Z"
   },
   {
    "duration": 530,
    "start_time": "2024-09-17T22:14:03.783Z"
   },
   {
    "duration": 109,
    "start_time": "2024-09-17T22:23:05.723Z"
   },
   {
    "duration": 151,
    "start_time": "2024-09-17T22:23:07.726Z"
   },
   {
    "duration": 14,
    "start_time": "2024-09-17T22:25:18.259Z"
   },
   {
    "duration": 1094,
    "start_time": "2024-09-17T22:25:50.580Z"
   },
   {
    "duration": 461,
    "start_time": "2024-09-17T22:25:58.705Z"
   },
   {
    "duration": 10,
    "start_time": "2024-09-17T22:26:02.138Z"
   },
   {
    "duration": 342,
    "start_time": "2024-09-17T22:27:26.278Z"
   },
   {
    "duration": 214,
    "start_time": "2024-09-17T22:28:11.989Z"
   },
   {
    "duration": 14,
    "start_time": "2024-09-17T22:50:22.500Z"
   },
   {
    "duration": 3,
    "start_time": "2024-09-17T22:50:30.989Z"
   },
   {
    "duration": 127,
    "start_time": "2024-09-17T22:55:35.775Z"
   },
   {
    "duration": 5,
    "start_time": "2024-09-17T22:55:37.258Z"
   },
   {
    "duration": 136,
    "start_time": "2024-09-17T22:56:22.551Z"
   },
   {
    "duration": 125,
    "start_time": "2024-09-17T22:56:44.248Z"
   },
   {
    "duration": 218,
    "start_time": "2024-09-17T23:03:18.922Z"
   },
   {
    "duration": 293,
    "start_time": "2024-09-18T03:58:56.567Z"
   },
   {
    "duration": 128,
    "start_time": "2024-09-18T03:58:56.862Z"
   },
   {
    "duration": 37,
    "start_time": "2024-09-18T03:58:56.991Z"
   },
   {
    "duration": 722,
    "start_time": "2024-09-18T03:58:57.030Z"
   },
   {
    "duration": 7,
    "start_time": "2024-09-18T03:58:57.754Z"
   },
   {
    "duration": 7,
    "start_time": "2024-09-18T03:58:57.762Z"
   },
   {
    "duration": 131,
    "start_time": "2024-09-18T03:58:57.770Z"
   },
   {
    "duration": 138,
    "start_time": "2024-09-18T03:58:57.905Z"
   },
   {
    "duration": 8,
    "start_time": "2024-09-18T03:58:58.044Z"
   },
   {
    "duration": 114,
    "start_time": "2024-09-18T03:58:58.056Z"
   },
   {
    "duration": 95,
    "start_time": "2024-09-18T03:58:58.172Z"
   },
   {
    "duration": 37,
    "start_time": "2024-09-18T03:58:58.268Z"
   },
   {
    "duration": 12,
    "start_time": "2024-09-18T03:58:58.307Z"
   },
   {
    "duration": 3,
    "start_time": "2024-09-18T03:58:58.321Z"
   },
   {
    "duration": 22,
    "start_time": "2024-09-18T03:58:58.326Z"
   },
   {
    "duration": 8,
    "start_time": "2024-09-18T03:58:58.350Z"
   },
   {
    "duration": 8,
    "start_time": "2024-09-18T03:58:58.360Z"
   },
   {
    "duration": 37,
    "start_time": "2024-09-18T03:58:58.369Z"
   },
   {
    "duration": 11,
    "start_time": "2024-09-18T03:58:58.408Z"
   },
   {
    "duration": 4,
    "start_time": "2024-09-18T03:58:58.422Z"
   },
   {
    "duration": 809,
    "start_time": "2024-09-18T03:58:58.427Z"
   },
   {
    "duration": 2,
    "start_time": "2024-09-18T03:58:59.238Z"
   },
   {
    "duration": 5,
    "start_time": "2024-09-18T03:58:59.242Z"
   },
   {
    "duration": 2,
    "start_time": "2024-09-18T03:58:59.249Z"
   },
   {
    "duration": 3,
    "start_time": "2024-09-18T03:58:59.253Z"
   },
   {
    "duration": 2,
    "start_time": "2024-09-18T03:58:59.258Z"
   },
   {
    "duration": 7,
    "start_time": "2024-09-18T03:58:59.263Z"
   },
   {
    "duration": 35,
    "start_time": "2024-09-18T03:58:59.274Z"
   },
   {
    "duration": 11,
    "start_time": "2024-09-18T03:58:59.310Z"
   },
   {
    "duration": 5,
    "start_time": "2024-09-18T03:58:59.323Z"
   },
   {
    "duration": 51,
    "start_time": "2024-09-18T03:58:59.330Z"
   },
   {
    "duration": 27,
    "start_time": "2024-09-18T03:58:59.405Z"
   },
   {
    "duration": 4,
    "start_time": "2024-09-18T03:58:59.434Z"
   },
   {
    "duration": 425,
    "start_time": "2024-09-18T03:58:59.440Z"
   },
   {
    "duration": 6,
    "start_time": "2024-09-18T03:58:59.866Z"
   },
   {
    "duration": 5,
    "start_time": "2024-09-18T03:58:59.873Z"
   },
   {
    "duration": 28,
    "start_time": "2024-09-18T03:58:59.879Z"
   },
   {
    "duration": 6,
    "start_time": "2024-09-18T03:58:59.909Z"
   },
   {
    "duration": 9,
    "start_time": "2024-09-18T03:58:59.917Z"
   },
   {
    "duration": 211,
    "start_time": "2024-09-18T03:58:59.928Z"
   },
   {
    "duration": 0,
    "start_time": "2024-09-18T03:59:00.141Z"
   },
   {
    "duration": 0,
    "start_time": "2024-09-18T03:59:00.143Z"
   },
   {
    "duration": 0,
    "start_time": "2024-09-18T03:59:00.144Z"
   },
   {
    "duration": 0,
    "start_time": "2024-09-18T03:59:00.145Z"
   },
   {
    "duration": 0,
    "start_time": "2024-09-18T03:59:00.146Z"
   },
   {
    "duration": 0,
    "start_time": "2024-09-18T03:59:00.147Z"
   },
   {
    "duration": 0,
    "start_time": "2024-09-18T03:59:00.148Z"
   },
   {
    "duration": 176,
    "start_time": "2024-09-19T00:41:24.233Z"
   },
   {
    "duration": 307,
    "start_time": "2024-09-19T00:41:29.535Z"
   },
   {
    "duration": 157,
    "start_time": "2024-09-19T00:41:29.845Z"
   },
   {
    "duration": 61,
    "start_time": "2024-09-19T00:41:30.004Z"
   },
   {
    "duration": 821,
    "start_time": "2024-09-19T00:41:30.066Z"
   },
   {
    "duration": 10,
    "start_time": "2024-09-19T00:41:30.890Z"
   },
   {
    "duration": 12,
    "start_time": "2024-09-19T00:41:30.901Z"
   },
   {
    "duration": 1860,
    "start_time": "2024-09-19T00:41:30.915Z"
   },
   {
    "duration": 141,
    "start_time": "2024-09-19T00:41:32.777Z"
   },
   {
    "duration": 12,
    "start_time": "2024-09-19T00:41:32.921Z"
   },
   {
    "duration": 116,
    "start_time": "2024-09-19T00:41:32.934Z"
   },
   {
    "duration": 100,
    "start_time": "2024-09-19T00:41:33.052Z"
   },
   {
    "duration": 31,
    "start_time": "2024-09-19T00:41:33.154Z"
   },
   {
    "duration": 14,
    "start_time": "2024-09-19T00:41:33.186Z"
   },
   {
    "duration": 26,
    "start_time": "2024-09-19T00:41:33.205Z"
   },
   {
    "duration": 26,
    "start_time": "2024-09-19T00:41:33.233Z"
   },
   {
    "duration": 10,
    "start_time": "2024-09-19T00:41:33.261Z"
   },
   {
    "duration": 8,
    "start_time": "2024-09-19T00:41:33.273Z"
   },
   {
    "duration": 4,
    "start_time": "2024-09-19T00:41:33.283Z"
   },
   {
    "duration": 9,
    "start_time": "2024-09-19T00:41:33.289Z"
   },
   {
    "duration": 37,
    "start_time": "2024-09-19T00:41:33.299Z"
   },
   {
    "duration": 804,
    "start_time": "2024-09-19T00:41:33.337Z"
   },
   {
    "duration": 3,
    "start_time": "2024-09-19T00:41:34.143Z"
   },
   {
    "duration": 6,
    "start_time": "2024-09-19T00:41:34.147Z"
   },
   {
    "duration": 7,
    "start_time": "2024-09-19T00:41:34.155Z"
   },
   {
    "duration": 2,
    "start_time": "2024-09-19T00:41:34.164Z"
   },
   {
    "duration": 8,
    "start_time": "2024-09-19T00:41:34.168Z"
   },
   {
    "duration": 8,
    "start_time": "2024-09-19T00:41:34.178Z"
   },
   {
    "duration": 5,
    "start_time": "2024-09-19T00:41:34.188Z"
   },
   {
    "duration": 10,
    "start_time": "2024-09-19T00:41:34.231Z"
   },
   {
    "duration": 6,
    "start_time": "2024-09-19T00:41:34.243Z"
   },
   {
    "duration": 51,
    "start_time": "2024-09-19T00:41:34.250Z"
   },
   {
    "duration": 49,
    "start_time": "2024-09-19T00:41:34.303Z"
   },
   {
    "duration": 4,
    "start_time": "2024-09-19T00:41:34.354Z"
   },
   {
    "duration": 422,
    "start_time": "2024-09-19T00:41:34.360Z"
   },
   {
    "duration": 4,
    "start_time": "2024-09-19T00:41:34.784Z"
   },
   {
    "duration": 4,
    "start_time": "2024-09-19T00:41:34.791Z"
   },
   {
    "duration": 6,
    "start_time": "2024-09-19T00:41:34.797Z"
   },
   {
    "duration": 27,
    "start_time": "2024-09-19T00:41:34.804Z"
   },
   {
    "duration": 11,
    "start_time": "2024-09-19T00:41:34.833Z"
   },
   {
    "duration": 51,
    "start_time": "2024-09-19T00:41:34.845Z"
   },
   {
    "duration": 0,
    "start_time": "2024-09-19T00:41:34.899Z"
   },
   {
    "duration": 0,
    "start_time": "2024-09-19T00:41:34.900Z"
   },
   {
    "duration": 0,
    "start_time": "2024-09-19T00:41:34.901Z"
   },
   {
    "duration": 0,
    "start_time": "2024-09-19T00:41:34.902Z"
   },
   {
    "duration": 0,
    "start_time": "2024-09-19T00:41:34.903Z"
   },
   {
    "duration": 0,
    "start_time": "2024-09-19T00:41:34.904Z"
   },
   {
    "duration": 0,
    "start_time": "2024-09-19T00:41:34.905Z"
   },
   {
    "duration": 5,
    "start_time": "2024-09-19T00:43:52.825Z"
   },
   {
    "duration": 6,
    "start_time": "2024-09-19T00:44:15.986Z"
   },
   {
    "duration": 9,
    "start_time": "2024-09-19T00:44:44.990Z"
   },
   {
    "duration": 404,
    "start_time": "2024-09-19T00:59:59.313Z"
   },
   {
    "duration": 5,
    "start_time": "2024-09-19T01:00:08.504Z"
   },
   {
    "duration": 5,
    "start_time": "2024-09-19T01:00:25.108Z"
   },
   {
    "duration": 5,
    "start_time": "2024-09-19T01:00:35.803Z"
   },
   {
    "duration": 5,
    "start_time": "2024-09-19T01:00:44.937Z"
   },
   {
    "duration": 5,
    "start_time": "2024-09-19T01:02:02.706Z"
   },
   {
    "duration": 6,
    "start_time": "2024-09-19T01:02:14.423Z"
   },
   {
    "duration": 56,
    "start_time": "2024-09-19T01:02:19.908Z"
   },
   {
    "duration": 11,
    "start_time": "2024-09-19T01:02:50.926Z"
   },
   {
    "duration": 2,
    "start_time": "2024-09-19T01:03:02.096Z"
   },
   {
    "duration": 119,
    "start_time": "2024-09-19T01:03:02.101Z"
   },
   {
    "duration": 36,
    "start_time": "2024-09-19T01:03:02.222Z"
   },
   {
    "duration": 734,
    "start_time": "2024-09-19T01:03:02.260Z"
   },
   {
    "duration": 6,
    "start_time": "2024-09-19T01:03:02.996Z"
   },
   {
    "duration": 5,
    "start_time": "2024-09-19T01:03:03.005Z"
   },
   {
    "duration": 3,
    "start_time": "2024-09-19T01:03:03.012Z"
   },
   {
    "duration": 83,
    "start_time": "2024-09-19T01:03:03.016Z"
   },
   {
    "duration": 6,
    "start_time": "2024-09-19T01:03:03.101Z"
   },
   {
    "duration": 102,
    "start_time": "2024-09-19T01:03:03.111Z"
   },
   {
    "duration": 86,
    "start_time": "2024-09-19T01:03:03.215Z"
   },
   {
    "duration": 34,
    "start_time": "2024-09-19T01:03:03.303Z"
   },
   {
    "duration": 13,
    "start_time": "2024-09-19T01:03:03.339Z"
   },
   {
    "duration": 4,
    "start_time": "2024-09-19T01:03:03.353Z"
   },
   {
    "duration": 20,
    "start_time": "2024-09-19T01:03:03.358Z"
   },
   {
    "duration": 7,
    "start_time": "2024-09-19T01:03:03.380Z"
   },
   {
    "duration": 7,
    "start_time": "2024-09-19T01:03:03.389Z"
   },
   {
    "duration": 33,
    "start_time": "2024-09-19T01:03:03.398Z"
   },
   {
    "duration": 9,
    "start_time": "2024-09-19T01:03:03.433Z"
   },
   {
    "duration": 5,
    "start_time": "2024-09-19T01:03:03.443Z"
   },
   {
    "duration": 766,
    "start_time": "2024-09-19T01:03:03.449Z"
   },
   {
    "duration": 2,
    "start_time": "2024-09-19T01:03:04.218Z"
   },
   {
    "duration": 14,
    "start_time": "2024-09-19T01:03:04.222Z"
   },
   {
    "duration": 11,
    "start_time": "2024-09-19T01:03:13.795Z"
   },
   {
    "duration": 10,
    "start_time": "2024-09-19T01:07:03.407Z"
   },
   {
    "duration": 10,
    "start_time": "2024-09-19T01:07:29.421Z"
   },
   {
    "duration": 7,
    "start_time": "2024-09-19T01:10:55.045Z"
   },
   {
    "duration": 13,
    "start_time": "2024-09-19T01:12:11.424Z"
   },
   {
    "duration": 13,
    "start_time": "2024-09-19T01:12:30.787Z"
   },
   {
    "duration": 11,
    "start_time": "2024-09-19T01:12:45.296Z"
   },
   {
    "duration": 10,
    "start_time": "2024-09-19T01:13:01.925Z"
   },
   {
    "duration": 13,
    "start_time": "2024-09-19T01:13:08.570Z"
   },
   {
    "duration": 8,
    "start_time": "2024-09-19T01:41:56.234Z"
   },
   {
    "duration": 390,
    "start_time": "2024-09-19T02:30:00.460Z"
   },
   {
    "duration": 3,
    "start_time": "2024-09-19T02:30:03.575Z"
   },
   {
    "duration": 114,
    "start_time": "2024-09-19T02:30:03.582Z"
   },
   {
    "duration": 44,
    "start_time": "2024-09-19T02:30:03.698Z"
   },
   {
    "duration": 696,
    "start_time": "2024-09-19T02:30:03.745Z"
   },
   {
    "duration": 6,
    "start_time": "2024-09-19T02:30:04.443Z"
   },
   {
    "duration": 6,
    "start_time": "2024-09-19T02:30:04.451Z"
   },
   {
    "duration": 2,
    "start_time": "2024-09-19T02:30:04.458Z"
   },
   {
    "duration": 100,
    "start_time": "2024-09-19T02:30:04.463Z"
   },
   {
    "duration": 7,
    "start_time": "2024-09-19T02:30:04.565Z"
   },
   {
    "duration": 99,
    "start_time": "2024-09-19T02:30:04.574Z"
   },
   {
    "duration": 99,
    "start_time": "2024-09-19T02:30:04.675Z"
   },
   {
    "duration": 28,
    "start_time": "2024-09-19T02:30:04.776Z"
   },
   {
    "duration": 27,
    "start_time": "2024-09-19T02:30:04.807Z"
   },
   {
    "duration": 4,
    "start_time": "2024-09-19T02:30:04.836Z"
   },
   {
    "duration": 26,
    "start_time": "2024-09-19T02:30:04.844Z"
   },
   {
    "duration": 8,
    "start_time": "2024-09-19T02:30:04.872Z"
   },
   {
    "duration": 8,
    "start_time": "2024-09-19T02:30:04.882Z"
   },
   {
    "duration": 4,
    "start_time": "2024-09-19T02:30:04.891Z"
   },
   {
    "duration": 44,
    "start_time": "2024-09-19T02:30:04.896Z"
   },
   {
    "duration": 5,
    "start_time": "2024-09-19T02:30:04.943Z"
   },
   {
    "duration": 842,
    "start_time": "2024-09-19T02:30:04.952Z"
   },
   {
    "duration": 3,
    "start_time": "2024-09-19T02:30:05.796Z"
   },
   {
    "duration": 8,
    "start_time": "2024-09-19T02:30:05.800Z"
   },
   {
    "duration": 22,
    "start_time": "2024-09-19T02:30:05.810Z"
   },
   {
    "duration": 10,
    "start_time": "2024-09-19T02:30:05.834Z"
   },
   {
    "duration": 10,
    "start_time": "2024-09-19T02:30:05.845Z"
   },
   {
    "duration": 7,
    "start_time": "2024-09-19T02:30:05.857Z"
   },
   {
    "duration": 6,
    "start_time": "2024-09-19T02:30:05.866Z"
   },
   {
    "duration": 11,
    "start_time": "2024-09-19T02:30:05.873Z"
   },
   {
    "duration": 5,
    "start_time": "2024-09-19T02:30:05.886Z"
   },
   {
    "duration": 53,
    "start_time": "2024-09-19T02:30:05.932Z"
   },
   {
    "duration": 47,
    "start_time": "2024-09-19T02:30:05.988Z"
   },
   {
    "duration": 407,
    "start_time": "2024-09-19T02:30:06.037Z"
   },
   {
    "duration": 386,
    "start_time": "2024-09-19T02:30:06.445Z"
   },
   {
    "duration": 5,
    "start_time": "2024-09-19T02:30:06.833Z"
   },
   {
    "duration": 5,
    "start_time": "2024-09-19T02:30:06.840Z"
   },
   {
    "duration": 6,
    "start_time": "2024-09-19T02:30:06.847Z"
   },
   {
    "duration": 5,
    "start_time": "2024-09-19T02:30:06.855Z"
   },
   {
    "duration": 7,
    "start_time": "2024-09-19T02:30:06.861Z"
   },
   {
    "duration": 20,
    "start_time": "2024-09-19T02:30:06.870Z"
   },
   {
    "duration": 0,
    "start_time": "2024-09-19T02:30:06.893Z"
   },
   {
    "duration": 0,
    "start_time": "2024-09-19T02:30:06.931Z"
   },
   {
    "duration": 0,
    "start_time": "2024-09-19T02:30:06.933Z"
   },
   {
    "duration": 0,
    "start_time": "2024-09-19T02:30:06.934Z"
   },
   {
    "duration": 0,
    "start_time": "2024-09-19T02:30:06.935Z"
   },
   {
    "duration": 0,
    "start_time": "2024-09-19T02:30:06.937Z"
   },
   {
    "duration": 0,
    "start_time": "2024-09-19T02:30:06.938Z"
   },
   {
    "duration": 252,
    "start_time": "2024-09-19T02:32:20.335Z"
   },
   {
    "duration": 2,
    "start_time": "2024-09-19T02:32:59.466Z"
   },
   {
    "duration": 97,
    "start_time": "2024-09-19T02:32:59.470Z"
   },
   {
    "duration": 30,
    "start_time": "2024-09-19T02:32:59.569Z"
   },
   {
    "duration": 717,
    "start_time": "2024-09-19T02:32:59.600Z"
   },
   {
    "duration": 11,
    "start_time": "2024-09-19T02:33:00.320Z"
   },
   {
    "duration": 6,
    "start_time": "2024-09-19T02:33:00.333Z"
   },
   {
    "duration": 3,
    "start_time": "2024-09-19T02:33:00.340Z"
   },
   {
    "duration": 90,
    "start_time": "2024-09-19T02:33:00.344Z"
   },
   {
    "duration": 7,
    "start_time": "2024-09-19T02:33:00.436Z"
   },
   {
    "duration": 89,
    "start_time": "2024-09-19T02:33:00.444Z"
   },
   {
    "duration": 82,
    "start_time": "2024-09-19T02:33:00.535Z"
   },
   {
    "duration": 31,
    "start_time": "2024-09-19T02:33:00.619Z"
   },
   {
    "duration": 13,
    "start_time": "2024-09-19T02:33:00.652Z"
   },
   {
    "duration": 3,
    "start_time": "2024-09-19T02:33:00.668Z"
   },
   {
    "duration": 22,
    "start_time": "2024-09-19T02:33:00.673Z"
   },
   {
    "duration": 38,
    "start_time": "2024-09-19T02:33:00.697Z"
   },
   {
    "duration": 9,
    "start_time": "2024-09-19T02:33:00.736Z"
   },
   {
    "duration": 4,
    "start_time": "2024-09-19T02:33:00.747Z"
   },
   {
    "duration": 9,
    "start_time": "2024-09-19T02:33:00.752Z"
   },
   {
    "duration": 4,
    "start_time": "2024-09-19T02:33:00.763Z"
   },
   {
    "duration": 812,
    "start_time": "2024-09-19T02:33:00.769Z"
   },
   {
    "duration": 2,
    "start_time": "2024-09-19T02:33:01.583Z"
   },
   {
    "duration": 6,
    "start_time": "2024-09-19T02:33:01.587Z"
   },
   {
    "duration": 10,
    "start_time": "2024-09-19T02:33:01.595Z"
   },
   {
    "duration": 30,
    "start_time": "2024-09-19T02:33:01.606Z"
   },
   {
    "duration": 10,
    "start_time": "2024-09-19T02:33:01.638Z"
   },
   {
    "duration": 8,
    "start_time": "2024-09-19T02:33:01.649Z"
   },
   {
    "duration": 5,
    "start_time": "2024-09-19T02:33:01.659Z"
   },
   {
    "duration": 10,
    "start_time": "2024-09-19T02:33:01.665Z"
   },
   {
    "duration": 5,
    "start_time": "2024-09-19T02:33:01.677Z"
   },
   {
    "duration": 95,
    "start_time": "2024-09-19T02:33:01.684Z"
   },
   {
    "duration": 25,
    "start_time": "2024-09-19T02:33:05.512Z"
   },
   {
    "duration": 389,
    "start_time": "2024-09-19T02:33:33.006Z"
   },
   {
    "duration": 404,
    "start_time": "2024-09-19T02:34:54.606Z"
   },
   {
    "duration": 239,
    "start_time": "2024-09-19T02:37:29.187Z"
   },
   {
    "duration": 249,
    "start_time": "2024-09-19T02:37:45.513Z"
   },
   {
    "duration": 270,
    "start_time": "2024-09-19T02:38:44.297Z"
   },
   {
    "duration": 2,
    "start_time": "2024-09-19T02:38:49.397Z"
   },
   {
    "duration": 102,
    "start_time": "2024-09-19T02:38:49.401Z"
   },
   {
    "duration": 37,
    "start_time": "2024-09-19T02:38:49.506Z"
   },
   {
    "duration": 713,
    "start_time": "2024-09-19T02:38:49.546Z"
   },
   {
    "duration": 5,
    "start_time": "2024-09-19T02:38:50.261Z"
   },
   {
    "duration": 4,
    "start_time": "2024-09-19T02:38:50.268Z"
   },
   {
    "duration": 3,
    "start_time": "2024-09-19T02:38:50.273Z"
   },
   {
    "duration": 90,
    "start_time": "2024-09-19T02:38:50.277Z"
   },
   {
    "duration": 7,
    "start_time": "2024-09-19T02:38:50.369Z"
   },
   {
    "duration": 93,
    "start_time": "2024-09-19T02:38:50.379Z"
   },
   {
    "duration": 76,
    "start_time": "2024-09-19T02:38:50.473Z"
   },
   {
    "duration": 23,
    "start_time": "2024-09-19T02:38:50.550Z"
   },
   {
    "duration": 13,
    "start_time": "2024-09-19T02:38:50.575Z"
   },
   {
    "duration": 3,
    "start_time": "2024-09-19T02:38:50.590Z"
   },
   {
    "duration": 49,
    "start_time": "2024-09-19T02:38:50.595Z"
   },
   {
    "duration": 10,
    "start_time": "2024-09-19T02:38:50.646Z"
   },
   {
    "duration": 8,
    "start_time": "2024-09-19T02:38:50.658Z"
   },
   {
    "duration": 4,
    "start_time": "2024-09-19T02:38:50.668Z"
   },
   {
    "duration": 8,
    "start_time": "2024-09-19T02:38:50.674Z"
   },
   {
    "duration": 5,
    "start_time": "2024-09-19T02:38:50.684Z"
   },
   {
    "duration": 715,
    "start_time": "2024-09-19T02:38:50.690Z"
   },
   {
    "duration": 3,
    "start_time": "2024-09-19T02:38:51.407Z"
   },
   {
    "duration": 6,
    "start_time": "2024-09-19T02:38:51.411Z"
   },
   {
    "duration": 10,
    "start_time": "2024-09-19T02:38:51.432Z"
   },
   {
    "duration": 10,
    "start_time": "2024-09-19T02:38:51.443Z"
   },
   {
    "duration": 9,
    "start_time": "2024-09-19T02:38:51.455Z"
   },
   {
    "duration": 8,
    "start_time": "2024-09-19T02:38:51.465Z"
   },
   {
    "duration": 5,
    "start_time": "2024-09-19T02:38:51.477Z"
   },
   {
    "duration": 48,
    "start_time": "2024-09-19T02:38:51.484Z"
   },
   {
    "duration": 6,
    "start_time": "2024-09-19T02:38:51.534Z"
   },
   {
    "duration": 56,
    "start_time": "2024-09-19T02:38:51.541Z"
   },
   {
    "duration": 40,
    "start_time": "2024-09-19T02:38:51.598Z"
   },
   {
    "duration": 22,
    "start_time": "2024-09-19T02:39:24.662Z"
   },
   {
    "duration": 224,
    "start_time": "2024-09-19T02:39:28.619Z"
   },
   {
    "duration": 2,
    "start_time": "2024-09-19T02:49:43.414Z"
   },
   {
    "duration": 101,
    "start_time": "2024-09-19T02:49:43.419Z"
   },
   {
    "duration": 35,
    "start_time": "2024-09-19T02:49:43.521Z"
   },
   {
    "duration": 689,
    "start_time": "2024-09-19T02:49:43.557Z"
   },
   {
    "duration": 6,
    "start_time": "2024-09-19T02:49:44.249Z"
   },
   {
    "duration": 5,
    "start_time": "2024-09-19T02:49:44.256Z"
   },
   {
    "duration": 2,
    "start_time": "2024-09-19T02:49:44.263Z"
   },
   {
    "duration": 80,
    "start_time": "2024-09-19T02:49:44.267Z"
   },
   {
    "duration": 7,
    "start_time": "2024-09-19T02:49:44.349Z"
   },
   {
    "duration": 93,
    "start_time": "2024-09-19T02:49:44.357Z"
   },
   {
    "duration": 80,
    "start_time": "2024-09-19T02:49:44.452Z"
   },
   {
    "duration": 23,
    "start_time": "2024-09-19T02:49:44.533Z"
   },
   {
    "duration": 12,
    "start_time": "2024-09-19T02:49:44.557Z"
   },
   {
    "duration": 4,
    "start_time": "2024-09-19T02:49:44.573Z"
   },
   {
    "duration": 22,
    "start_time": "2024-09-19T02:49:44.579Z"
   },
   {
    "duration": 8,
    "start_time": "2024-09-19T02:49:44.631Z"
   },
   {
    "duration": 8,
    "start_time": "2024-09-19T02:49:44.641Z"
   },
   {
    "duration": 4,
    "start_time": "2024-09-19T02:49:44.650Z"
   },
   {
    "duration": 8,
    "start_time": "2024-09-19T02:49:44.655Z"
   },
   {
    "duration": 4,
    "start_time": "2024-09-19T02:49:44.665Z"
   },
   {
    "duration": 683,
    "start_time": "2024-09-19T02:49:44.671Z"
   },
   {
    "duration": 3,
    "start_time": "2024-09-19T02:49:45.355Z"
   },
   {
    "duration": 6,
    "start_time": "2024-09-19T02:49:45.359Z"
   },
   {
    "duration": 9,
    "start_time": "2024-09-19T02:49:45.367Z"
   },
   {
    "duration": 10,
    "start_time": "2024-09-19T02:49:45.379Z"
   },
   {
    "duration": 40,
    "start_time": "2024-09-19T02:49:45.391Z"
   },
   {
    "duration": 8,
    "start_time": "2024-09-19T02:49:45.433Z"
   },
   {
    "duration": 5,
    "start_time": "2024-09-19T02:49:45.442Z"
   },
   {
    "duration": 10,
    "start_time": "2024-09-19T02:49:45.449Z"
   },
   {
    "duration": 5,
    "start_time": "2024-09-19T02:49:45.461Z"
   },
   {
    "duration": 72,
    "start_time": "2024-09-19T02:49:45.467Z"
   },
   {
    "duration": 23,
    "start_time": "2024-09-19T02:49:45.541Z"
   },
   {
    "duration": 284,
    "start_time": "2024-09-19T02:49:48.726Z"
   },
   {
    "duration": 273,
    "start_time": "2024-09-19T02:50:21.281Z"
   },
   {
    "duration": 75,
    "start_time": "2024-09-19T02:50:51.276Z"
   },
   {
    "duration": 13,
    "start_time": "2024-09-19T02:50:54.949Z"
   },
   {
    "duration": 248,
    "start_time": "2024-09-19T02:51:00.994Z"
   },
   {
    "duration": 286,
    "start_time": "2024-09-19T02:51:25.299Z"
   },
   {
    "duration": 24,
    "start_time": "2024-09-19T02:52:03.464Z"
   },
   {
    "duration": 260,
    "start_time": "2024-09-19T02:52:06.857Z"
   },
   {
    "duration": 18,
    "start_time": "2024-09-19T02:52:39.114Z"
   },
   {
    "duration": 18,
    "start_time": "2024-09-19T02:52:49.720Z"
   },
   {
    "duration": 259,
    "start_time": "2024-09-19T02:52:59.095Z"
   },
   {
    "duration": 243,
    "start_time": "2024-09-19T02:53:21.005Z"
   },
   {
    "duration": 3,
    "start_time": "2024-09-19T02:53:25.409Z"
   },
   {
    "duration": 14,
    "start_time": "2024-09-19T02:55:37.060Z"
   },
   {
    "duration": 233,
    "start_time": "2024-09-19T02:55:42.847Z"
   },
   {
    "duration": 255,
    "start_time": "2024-09-19T02:58:16.420Z"
   },
   {
    "duration": 342,
    "start_time": "2024-09-19T03:00:38.842Z"
   },
   {
    "duration": 312,
    "start_time": "2024-09-19T03:18:30.825Z"
   },
   {
    "duration": 454,
    "start_time": "2024-09-19T03:19:23.904Z"
   },
   {
    "duration": 356,
    "start_time": "2024-09-19T03:19:36.922Z"
   },
   {
    "duration": 246,
    "start_time": "2024-09-19T03:19:46.709Z"
   },
   {
    "duration": 241,
    "start_time": "2024-09-19T03:20:10.726Z"
   },
   {
    "duration": 272,
    "start_time": "2024-09-19T03:25:39.816Z"
   },
   {
    "duration": 259,
    "start_time": "2024-09-19T03:25:49.371Z"
   },
   {
    "duration": 289,
    "start_time": "2024-09-19T03:25:55.826Z"
   },
   {
    "duration": 162,
    "start_time": "2024-09-19T18:05:52.537Z"
   },
   {
    "duration": 283,
    "start_time": "2024-09-19T18:05:58.794Z"
   },
   {
    "duration": 165,
    "start_time": "2024-09-19T18:05:59.079Z"
   },
   {
    "duration": 68,
    "start_time": "2024-09-19T18:05:59.245Z"
   },
   {
    "duration": 810,
    "start_time": "2024-09-19T18:05:59.315Z"
   },
   {
    "duration": 9,
    "start_time": "2024-09-19T18:06:00.127Z"
   },
   {
    "duration": 8,
    "start_time": "2024-09-19T18:06:00.138Z"
   },
   {
    "duration": 1892,
    "start_time": "2024-09-19T18:06:00.148Z"
   },
   {
    "duration": 158,
    "start_time": "2024-09-19T18:06:02.042Z"
   },
   {
    "duration": 8,
    "start_time": "2024-09-19T18:06:02.202Z"
   },
   {
    "duration": 122,
    "start_time": "2024-09-19T18:06:02.211Z"
   },
   {
    "duration": 87,
    "start_time": "2024-09-19T18:06:02.336Z"
   },
   {
    "duration": 26,
    "start_time": "2024-09-19T18:06:02.432Z"
   },
   {
    "duration": 15,
    "start_time": "2024-09-19T18:06:02.460Z"
   },
   {
    "duration": 3,
    "start_time": "2024-09-19T18:06:02.478Z"
   },
   {
    "duration": 21,
    "start_time": "2024-09-19T18:06:02.483Z"
   },
   {
    "duration": 34,
    "start_time": "2024-09-19T18:06:02.506Z"
   },
   {
    "duration": 8,
    "start_time": "2024-09-19T18:06:02.542Z"
   },
   {
    "duration": 4,
    "start_time": "2024-09-19T18:06:02.552Z"
   },
   {
    "duration": 8,
    "start_time": "2024-09-19T18:06:02.557Z"
   },
   {
    "duration": 5,
    "start_time": "2024-09-19T18:06:02.566Z"
   },
   {
    "duration": 781,
    "start_time": "2024-09-19T18:06:02.573Z"
   },
   {
    "duration": 2,
    "start_time": "2024-09-19T18:06:03.356Z"
   },
   {
    "duration": 8,
    "start_time": "2024-09-19T18:06:03.362Z"
   },
   {
    "duration": 62,
    "start_time": "2024-09-19T18:06:03.372Z"
   },
   {
    "duration": 12,
    "start_time": "2024-09-19T18:06:26.802Z"
   },
   {
    "duration": 19,
    "start_time": "2024-09-19T18:07:07.430Z"
   },
   {
    "duration": 10,
    "start_time": "2024-09-19T18:07:58.172Z"
   },
   {
    "duration": 345,
    "start_time": "2024-09-19T18:08:51.912Z"
   },
   {
    "duration": 11,
    "start_time": "2024-09-19T18:09:04.660Z"
   },
   {
    "duration": 11,
    "start_time": "2024-09-19T18:09:27.988Z"
   },
   {
    "duration": 10,
    "start_time": "2024-09-19T18:09:34.062Z"
   },
   {
    "duration": 13,
    "start_time": "2024-09-19T18:09:44.456Z"
   },
   {
    "duration": 10,
    "start_time": "2024-09-19T18:10:03.803Z"
   },
   {
    "duration": 3,
    "start_time": "2024-09-19T18:10:14.191Z"
   },
   {
    "duration": 112,
    "start_time": "2024-09-19T18:10:14.196Z"
   },
   {
    "duration": 38,
    "start_time": "2024-09-19T18:10:14.310Z"
   },
   {
    "duration": 692,
    "start_time": "2024-09-19T18:10:14.350Z"
   },
   {
    "duration": 5,
    "start_time": "2024-09-19T18:10:15.044Z"
   },
   {
    "duration": 5,
    "start_time": "2024-09-19T18:10:15.051Z"
   },
   {
    "duration": 3,
    "start_time": "2024-09-19T18:10:15.057Z"
   },
   {
    "duration": 95,
    "start_time": "2024-09-19T18:10:15.062Z"
   },
   {
    "duration": 6,
    "start_time": "2024-09-19T18:10:15.160Z"
   },
   {
    "duration": 93,
    "start_time": "2024-09-19T18:10:15.168Z"
   },
   {
    "duration": 95,
    "start_time": "2024-09-19T18:10:15.263Z"
   },
   {
    "duration": 29,
    "start_time": "2024-09-19T18:10:15.359Z"
   },
   {
    "duration": 12,
    "start_time": "2024-09-19T18:10:15.390Z"
   },
   {
    "duration": 26,
    "start_time": "2024-09-19T18:10:15.405Z"
   },
   {
    "duration": 22,
    "start_time": "2024-09-19T18:10:15.433Z"
   },
   {
    "duration": 8,
    "start_time": "2024-09-19T18:10:15.457Z"
   },
   {
    "duration": 8,
    "start_time": "2024-09-19T18:10:15.467Z"
   },
   {
    "duration": 4,
    "start_time": "2024-09-19T18:10:15.477Z"
   },
   {
    "duration": 9,
    "start_time": "2024-09-19T18:10:15.482Z"
   },
   {
    "duration": 38,
    "start_time": "2024-09-19T18:10:15.493Z"
   },
   {
    "duration": 775,
    "start_time": "2024-09-19T18:10:15.533Z"
   },
   {
    "duration": 3,
    "start_time": "2024-09-19T18:10:16.309Z"
   },
   {
    "duration": 6,
    "start_time": "2024-09-19T18:10:16.313Z"
   },
   {
    "duration": 9,
    "start_time": "2024-09-19T18:10:16.331Z"
   },
   {
    "duration": 9,
    "start_time": "2024-09-19T18:10:16.341Z"
   },
   {
    "duration": 10,
    "start_time": "2024-09-19T18:10:16.351Z"
   },
   {
    "duration": 8,
    "start_time": "2024-09-19T18:10:16.362Z"
   },
   {
    "duration": 6,
    "start_time": "2024-09-19T18:10:16.371Z"
   },
   {
    "duration": 10,
    "start_time": "2024-09-19T18:10:16.379Z"
   },
   {
    "duration": 41,
    "start_time": "2024-09-19T18:10:16.390Z"
   },
   {
    "duration": 50,
    "start_time": "2024-09-19T18:10:16.433Z"
   },
   {
    "duration": 21,
    "start_time": "2024-09-19T18:10:16.485Z"
   },
   {
    "duration": 285,
    "start_time": "2024-09-19T18:10:16.507Z"
   },
   {
    "duration": 401,
    "start_time": "2024-09-19T18:10:16.795Z"
   },
   {
    "duration": 7,
    "start_time": "2024-09-19T18:10:17.198Z"
   },
   {
    "duration": 6,
    "start_time": "2024-09-19T18:10:17.206Z"
   },
   {
    "duration": 7,
    "start_time": "2024-09-19T18:10:17.230Z"
   },
   {
    "duration": 7,
    "start_time": "2024-09-19T18:10:17.239Z"
   },
   {
    "duration": 9,
    "start_time": "2024-09-19T18:10:17.248Z"
   },
   {
    "duration": 326,
    "start_time": "2024-09-19T18:10:17.260Z"
   },
   {
    "duration": 123,
    "start_time": "2024-09-19T18:10:17.591Z"
   },
   {
    "duration": 138,
    "start_time": "2024-09-19T18:10:17.716Z"
   },
   {
    "duration": 1093,
    "start_time": "2024-09-19T18:10:17.856Z"
   },
   {
    "duration": 465,
    "start_time": "2024-09-19T18:10:18.950Z"
   },
   {
    "duration": 8,
    "start_time": "2024-09-19T18:10:19.417Z"
   },
   {
    "duration": 463,
    "start_time": "2024-09-19T18:10:19.431Z"
   },
   {
    "duration": 132,
    "start_time": "2024-09-19T18:10:19.896Z"
   },
   {
    "duration": 13,
    "start_time": "2024-09-19T18:10:52.412Z"
   },
   {
    "duration": 11,
    "start_time": "2024-09-19T18:23:39.813Z"
   },
   {
    "duration": 12,
    "start_time": "2024-09-19T18:23:52.517Z"
   },
   {
    "duration": 1814,
    "start_time": "2024-09-19T18:24:01.954Z"
   },
   {
    "duration": 12,
    "start_time": "2024-09-19T18:24:37.249Z"
   },
   {
    "duration": 25,
    "start_time": "2024-09-19T18:24:46.140Z"
   },
   {
    "duration": 12,
    "start_time": "2024-09-19T18:24:55.142Z"
   },
   {
    "duration": 14,
    "start_time": "2024-09-19T18:33:25.353Z"
   },
   {
    "duration": 16,
    "start_time": "2024-09-19T18:33:40.353Z"
   },
   {
    "duration": 9,
    "start_time": "2024-09-19T18:33:56.879Z"
   },
   {
    "duration": 8,
    "start_time": "2024-09-19T18:34:24.953Z"
   },
   {
    "duration": 13,
    "start_time": "2024-09-19T18:35:10.927Z"
   },
   {
    "duration": 2,
    "start_time": "2024-09-19T18:35:39.346Z"
   },
   {
    "duration": 117,
    "start_time": "2024-09-19T18:35:39.350Z"
   },
   {
    "duration": 32,
    "start_time": "2024-09-19T18:35:39.469Z"
   },
   {
    "duration": 706,
    "start_time": "2024-09-19T18:35:39.503Z"
   },
   {
    "duration": 7,
    "start_time": "2024-09-19T18:35:40.212Z"
   },
   {
    "duration": 11,
    "start_time": "2024-09-19T18:35:40.220Z"
   },
   {
    "duration": 2,
    "start_time": "2024-09-19T18:35:40.233Z"
   },
   {
    "duration": 73,
    "start_time": "2024-09-19T18:35:40.237Z"
   },
   {
    "duration": 19,
    "start_time": "2024-09-19T18:35:40.313Z"
   },
   {
    "duration": 83,
    "start_time": "2024-09-19T18:35:40.334Z"
   },
   {
    "duration": 120,
    "start_time": "2024-09-19T18:35:40.419Z"
   },
   {
    "duration": 29,
    "start_time": "2024-09-19T18:35:40.541Z"
   },
   {
    "duration": 14,
    "start_time": "2024-09-19T18:35:40.574Z"
   },
   {
    "duration": 4,
    "start_time": "2024-09-19T18:35:40.589Z"
   },
   {
    "duration": 53,
    "start_time": "2024-09-19T18:35:40.594Z"
   },
   {
    "duration": 8,
    "start_time": "2024-09-19T18:35:40.649Z"
   },
   {
    "duration": 9,
    "start_time": "2024-09-19T18:35:40.659Z"
   },
   {
    "duration": 4,
    "start_time": "2024-09-19T18:35:40.670Z"
   },
   {
    "duration": 9,
    "start_time": "2024-09-19T18:35:40.676Z"
   },
   {
    "duration": 5,
    "start_time": "2024-09-19T18:35:40.687Z"
   },
   {
    "duration": 860,
    "start_time": "2024-09-19T18:35:40.694Z"
   },
   {
    "duration": 2,
    "start_time": "2024-09-19T18:35:41.556Z"
   },
   {
    "duration": 6,
    "start_time": "2024-09-19T18:35:41.560Z"
   },
   {
    "duration": 10,
    "start_time": "2024-09-19T18:35:49.146Z"
   },
   {
    "duration": 157,
    "start_time": "2024-09-20T01:55:16.612Z"
   },
   {
    "duration": 13,
    "start_time": "2024-09-20T01:55:55.264Z"
   },
   {
    "duration": 287,
    "start_time": "2024-09-20T01:56:07.919Z"
   },
   {
    "duration": 161,
    "start_time": "2024-09-20T01:56:08.208Z"
   },
   {
    "duration": 72,
    "start_time": "2024-09-20T01:56:08.371Z"
   },
   {
    "duration": 790,
    "start_time": "2024-09-20T01:56:08.446Z"
   },
   {
    "duration": 7,
    "start_time": "2024-09-20T01:56:09.238Z"
   },
   {
    "duration": 6,
    "start_time": "2024-09-20T01:56:09.247Z"
   },
   {
    "duration": 1927,
    "start_time": "2024-09-20T01:56:09.255Z"
   },
   {
    "duration": 102,
    "start_time": "2024-09-20T01:56:11.184Z"
   },
   {
    "duration": 8,
    "start_time": "2024-09-20T01:56:11.288Z"
   },
   {
    "duration": 117,
    "start_time": "2024-09-20T01:56:11.300Z"
   },
   {
    "duration": 95,
    "start_time": "2024-09-20T01:56:11.419Z"
   },
   {
    "duration": 31,
    "start_time": "2024-09-20T01:56:11.515Z"
   },
   {
    "duration": 12,
    "start_time": "2024-09-20T01:56:11.548Z"
   },
   {
    "duration": 4,
    "start_time": "2024-09-20T01:56:11.561Z"
   },
   {
    "duration": 23,
    "start_time": "2024-09-20T01:56:11.567Z"
   },
   {
    "duration": 8,
    "start_time": "2024-09-20T01:56:11.591Z"
   },
   {
    "duration": 37,
    "start_time": "2024-09-20T01:56:11.600Z"
   },
   {
    "duration": 4,
    "start_time": "2024-09-20T01:56:11.639Z"
   },
   {
    "duration": 8,
    "start_time": "2024-09-20T01:56:11.644Z"
   },
   {
    "duration": 5,
    "start_time": "2024-09-20T01:56:11.653Z"
   },
   {
    "duration": 811,
    "start_time": "2024-09-20T01:56:11.660Z"
   },
   {
    "duration": 4,
    "start_time": "2024-09-20T01:56:12.474Z"
   },
   {
    "duration": 5,
    "start_time": "2024-09-20T01:56:12.479Z"
   },
   {
    "duration": 10,
    "start_time": "2024-09-20T01:56:12.486Z"
   },
   {
    "duration": 8,
    "start_time": "2024-09-20T01:56:12.498Z"
   },
   {
    "duration": 33,
    "start_time": "2024-09-20T01:56:12.507Z"
   },
   {
    "duration": 7,
    "start_time": "2024-09-20T01:56:12.541Z"
   },
   {
    "duration": 5,
    "start_time": "2024-09-20T01:56:12.552Z"
   },
   {
    "duration": 11,
    "start_time": "2024-09-20T01:56:12.558Z"
   },
   {
    "duration": 6,
    "start_time": "2024-09-20T01:56:12.570Z"
   },
   {
    "duration": 82,
    "start_time": "2024-09-20T01:56:12.577Z"
   },
   {
    "duration": 20,
    "start_time": "2024-09-20T01:56:12.661Z"
   },
   {
    "duration": 267,
    "start_time": "2024-09-20T01:56:12.682Z"
   },
   {
    "duration": 401,
    "start_time": "2024-09-20T01:56:12.950Z"
   },
   {
    "duration": 4,
    "start_time": "2024-09-20T01:56:13.353Z"
   },
   {
    "duration": 5,
    "start_time": "2024-09-20T01:56:13.359Z"
   },
   {
    "duration": 243,
    "start_time": "2024-09-20T01:56:13.365Z"
   },
   {
    "duration": 5,
    "start_time": "2024-09-20T01:56:13.610Z"
   },
   {
    "duration": 16,
    "start_time": "2024-09-20T01:56:13.617Z"
   },
   {
    "duration": 230,
    "start_time": "2024-09-20T01:56:13.635Z"
   },
   {
    "duration": 117,
    "start_time": "2024-09-20T01:56:13.867Z"
   },
   {
    "duration": 130,
    "start_time": "2024-09-20T01:56:13.986Z"
   },
   {
    "duration": 1129,
    "start_time": "2024-09-20T01:56:14.118Z"
   },
   {
    "duration": 452,
    "start_time": "2024-09-20T01:56:15.248Z"
   },
   {
    "duration": 8,
    "start_time": "2024-09-20T01:56:15.701Z"
   },
   {
    "duration": 406,
    "start_time": "2024-09-20T01:56:15.711Z"
   },
   {
    "duration": 138,
    "start_time": "2024-09-20T01:56:16.119Z"
   },
   {
    "duration": 182,
    "start_time": "2024-09-20T01:56:41.600Z"
   },
   {
    "duration": 116,
    "start_time": "2024-09-20T01:57:24.004Z"
   },
   {
    "duration": 169,
    "start_time": "2024-09-20T02:00:11.945Z"
   },
   {
    "duration": 56,
    "start_time": "2024-09-20T02:01:30.511Z"
   },
   {
    "duration": 232,
    "start_time": "2024-09-20T02:01:46.022Z"
   },
   {
    "duration": 280,
    "start_time": "2024-09-20T02:01:54.756Z"
   },
   {
    "duration": 217,
    "start_time": "2024-09-20T02:16:48.641Z"
   },
   {
    "duration": 177,
    "start_time": "2024-09-20T02:25:02.077Z"
   },
   {
    "duration": 177,
    "start_time": "2024-09-20T02:25:22.786Z"
   },
   {
    "duration": 3,
    "start_time": "2024-09-20T02:25:28.445Z"
   },
   {
    "duration": 116,
    "start_time": "2024-09-20T02:25:28.450Z"
   },
   {
    "duration": 32,
    "start_time": "2024-09-20T02:25:28.568Z"
   },
   {
    "duration": 708,
    "start_time": "2024-09-20T02:25:28.602Z"
   },
   {
    "duration": 6,
    "start_time": "2024-09-20T02:25:29.312Z"
   },
   {
    "duration": 12,
    "start_time": "2024-09-20T02:25:29.319Z"
   },
   {
    "duration": 2,
    "start_time": "2024-09-20T02:25:29.333Z"
   },
   {
    "duration": 73,
    "start_time": "2024-09-20T02:25:29.337Z"
   },
   {
    "duration": 20,
    "start_time": "2024-09-20T02:25:29.412Z"
   },
   {
    "duration": 78,
    "start_time": "2024-09-20T02:25:29.434Z"
   },
   {
    "duration": 100,
    "start_time": "2024-09-20T02:25:29.514Z"
   },
   {
    "duration": 32,
    "start_time": "2024-09-20T02:25:29.615Z"
   },
   {
    "duration": 12,
    "start_time": "2024-09-20T02:25:29.649Z"
   },
   {
    "duration": 3,
    "start_time": "2024-09-20T02:25:29.663Z"
   },
   {
    "duration": 23,
    "start_time": "2024-09-20T02:25:29.668Z"
   },
   {
    "duration": 8,
    "start_time": "2024-09-20T02:25:29.692Z"
   },
   {
    "duration": 37,
    "start_time": "2024-09-20T02:25:29.701Z"
   },
   {
    "duration": 4,
    "start_time": "2024-09-20T02:25:29.740Z"
   },
   {
    "duration": 7,
    "start_time": "2024-09-20T02:25:29.746Z"
   },
   {
    "duration": 4,
    "start_time": "2024-09-20T02:25:29.755Z"
   },
   {
    "duration": 811,
    "start_time": "2024-09-20T02:25:29.761Z"
   },
   {
    "duration": 5,
    "start_time": "2024-09-20T02:25:30.574Z"
   },
   {
    "duration": 6,
    "start_time": "2024-09-20T02:25:30.580Z"
   },
   {
    "duration": 9,
    "start_time": "2024-09-20T02:25:30.587Z"
   },
   {
    "duration": 9,
    "start_time": "2024-09-20T02:25:30.597Z"
   },
   {
    "duration": 12,
    "start_time": "2024-09-20T02:25:30.631Z"
   },
   {
    "duration": 7,
    "start_time": "2024-09-20T02:25:30.644Z"
   },
   {
    "duration": 5,
    "start_time": "2024-09-20T02:25:30.655Z"
   },
   {
    "duration": 11,
    "start_time": "2024-09-20T02:25:30.662Z"
   },
   {
    "duration": 5,
    "start_time": "2024-09-20T02:25:30.675Z"
   },
   {
    "duration": 81,
    "start_time": "2024-09-20T02:25:30.682Z"
   },
   {
    "duration": 19,
    "start_time": "2024-09-20T02:25:31.295Z"
   },
   {
    "duration": 63,
    "start_time": "2024-09-20T02:28:42.086Z"
   },
   {
    "duration": 231,
    "start_time": "2024-09-20T02:31:58.815Z"
   },
   {
    "duration": 2,
    "start_time": "2024-09-20T02:33:55.929Z"
   },
   {
    "duration": 126,
    "start_time": "2024-09-20T02:33:55.933Z"
   },
   {
    "duration": 31,
    "start_time": "2024-09-20T02:33:56.061Z"
   },
   {
    "duration": 686,
    "start_time": "2024-09-20T02:33:56.094Z"
   },
   {
    "duration": 6,
    "start_time": "2024-09-20T02:33:56.782Z"
   },
   {
    "duration": 6,
    "start_time": "2024-09-20T02:33:56.789Z"
   },
   {
    "duration": 2,
    "start_time": "2024-09-20T02:33:56.796Z"
   },
   {
    "duration": 94,
    "start_time": "2024-09-20T02:33:56.799Z"
   },
   {
    "duration": 7,
    "start_time": "2024-09-20T02:33:56.895Z"
   },
   {
    "duration": 88,
    "start_time": "2024-09-20T02:33:56.905Z"
   },
   {
    "duration": 74,
    "start_time": "2024-09-20T02:33:56.995Z"
   },
   {
    "duration": 27,
    "start_time": "2024-09-20T02:33:57.070Z"
   },
   {
    "duration": 13,
    "start_time": "2024-09-20T02:33:57.099Z"
   },
   {
    "duration": 20,
    "start_time": "2024-09-20T02:33:57.113Z"
   },
   {
    "duration": 23,
    "start_time": "2024-09-20T02:33:57.134Z"
   },
   {
    "duration": 9,
    "start_time": "2024-09-20T02:33:57.159Z"
   },
   {
    "duration": 9,
    "start_time": "2024-09-20T02:33:57.170Z"
   },
   {
    "duration": 4,
    "start_time": "2024-09-20T02:33:57.181Z"
   },
   {
    "duration": 8,
    "start_time": "2024-09-20T02:33:57.186Z"
   },
   {
    "duration": 4,
    "start_time": "2024-09-20T02:33:57.232Z"
   },
   {
    "duration": 794,
    "start_time": "2024-09-20T02:33:57.238Z"
   },
   {
    "duration": 3,
    "start_time": "2024-09-20T02:33:58.034Z"
   },
   {
    "duration": 7,
    "start_time": "2024-09-20T02:33:58.040Z"
   },
   {
    "duration": 13,
    "start_time": "2024-09-20T02:33:58.049Z"
   },
   {
    "duration": 10,
    "start_time": "2024-09-20T02:33:58.064Z"
   },
   {
    "duration": 12,
    "start_time": "2024-09-20T02:33:58.077Z"
   },
   {
    "duration": 7,
    "start_time": "2024-09-20T02:33:58.091Z"
   },
   {
    "duration": 36,
    "start_time": "2024-09-20T02:33:58.102Z"
   },
   {
    "duration": 13,
    "start_time": "2024-09-20T02:33:58.140Z"
   },
   {
    "duration": 6,
    "start_time": "2024-09-20T02:33:58.154Z"
   },
   {
    "duration": 85,
    "start_time": "2024-09-20T02:33:58.162Z"
   },
   {
    "duration": 20,
    "start_time": "2024-09-20T02:33:58.249Z"
   },
   {
    "duration": 78,
    "start_time": "2024-09-20T02:33:58.271Z"
   },
   {
    "duration": 402,
    "start_time": "2024-09-20T02:33:58.351Z"
   },
   {
    "duration": 4,
    "start_time": "2024-09-20T02:33:58.755Z"
   },
   {
    "duration": 4,
    "start_time": "2024-09-20T02:33:58.761Z"
   },
   {
    "duration": 196,
    "start_time": "2024-09-20T02:33:58.766Z"
   },
   {
    "duration": 129,
    "start_time": "2024-09-20T02:33:58.963Z"
   },
   {
    "duration": 165,
    "start_time": "2024-09-20T02:33:59.093Z"
   },
   {
    "duration": 302,
    "start_time": "2024-09-20T02:33:59.259Z"
   },
   {
    "duration": 108,
    "start_time": "2024-09-20T02:33:59.563Z"
   },
   {
    "duration": 124,
    "start_time": "2024-09-20T02:33:59.673Z"
   },
   {
    "duration": 1128,
    "start_time": "2024-09-20T02:33:59.799Z"
   },
   {
    "duration": 479,
    "start_time": "2024-09-20T02:34:00.931Z"
   },
   {
    "duration": 10,
    "start_time": "2024-09-20T02:34:01.414Z"
   },
   {
    "duration": 459,
    "start_time": "2024-09-20T02:34:01.426Z"
   },
   {
    "duration": 174,
    "start_time": "2024-09-20T02:34:01.887Z"
   },
   {
    "duration": 326,
    "start_time": "2024-09-20T02:34:04.951Z"
   },
   {
    "duration": 126,
    "start_time": "2024-09-20T02:34:05.279Z"
   },
   {
    "duration": 40,
    "start_time": "2024-09-20T02:34:05.406Z"
   },
   {
    "duration": 714,
    "start_time": "2024-09-20T02:34:05.449Z"
   },
   {
    "duration": 5,
    "start_time": "2024-09-20T02:34:06.165Z"
   },
   {
    "duration": 5,
    "start_time": "2024-09-20T02:34:06.171Z"
   },
   {
    "duration": 137,
    "start_time": "2024-09-20T02:34:06.178Z"
   },
   {
    "duration": 131,
    "start_time": "2024-09-20T02:34:06.319Z"
   },
   {
    "duration": 8,
    "start_time": "2024-09-20T02:34:06.452Z"
   },
   {
    "duration": 118,
    "start_time": "2024-09-20T02:34:06.463Z"
   },
   {
    "duration": 90,
    "start_time": "2024-09-20T02:34:06.583Z"
   },
   {
    "duration": 28,
    "start_time": "2024-09-20T02:34:06.675Z"
   },
   {
    "duration": 26,
    "start_time": "2024-09-20T02:34:06.705Z"
   },
   {
    "duration": 3,
    "start_time": "2024-09-20T02:34:06.733Z"
   },
   {
    "duration": 21,
    "start_time": "2024-09-20T02:34:06.738Z"
   },
   {
    "duration": 7,
    "start_time": "2024-09-20T02:34:06.761Z"
   },
   {
    "duration": 8,
    "start_time": "2024-09-20T02:34:06.769Z"
   },
   {
    "duration": 4,
    "start_time": "2024-09-20T02:34:06.778Z"
   },
   {
    "duration": 7,
    "start_time": "2024-09-20T02:34:06.784Z"
   },
   {
    "duration": 39,
    "start_time": "2024-09-20T02:34:06.793Z"
   },
   {
    "duration": 764,
    "start_time": "2024-09-20T02:34:06.834Z"
   },
   {
    "duration": 3,
    "start_time": "2024-09-20T02:34:07.600Z"
   },
   {
    "duration": 6,
    "start_time": "2024-09-20T02:34:07.604Z"
   },
   {
    "duration": 26,
    "start_time": "2024-09-20T02:34:07.612Z"
   },
   {
    "duration": 13,
    "start_time": "2024-09-20T02:34:07.639Z"
   },
   {
    "duration": 13,
    "start_time": "2024-09-20T02:34:07.653Z"
   },
   {
    "duration": 12,
    "start_time": "2024-09-20T02:34:07.671Z"
   },
   {
    "duration": 6,
    "start_time": "2024-09-20T02:34:07.688Z"
   },
   {
    "duration": 10,
    "start_time": "2024-09-20T02:34:07.695Z"
   },
   {
    "duration": 7,
    "start_time": "2024-09-20T02:34:07.732Z"
   },
   {
    "duration": 50,
    "start_time": "2024-09-20T02:34:07.742Z"
   },
   {
    "duration": 37,
    "start_time": "2024-09-20T02:34:07.794Z"
   },
   {
    "duration": 68,
    "start_time": "2024-09-20T02:34:07.833Z"
   },
   {
    "duration": 424,
    "start_time": "2024-09-20T02:34:07.903Z"
   },
   {
    "duration": 6,
    "start_time": "2024-09-20T02:34:08.332Z"
   },
   {
    "duration": 5,
    "start_time": "2024-09-20T02:34:08.340Z"
   },
   {
    "duration": 205,
    "start_time": "2024-09-20T02:34:08.347Z"
   },
   {
    "duration": 129,
    "start_time": "2024-09-20T02:34:08.554Z"
   },
   {
    "duration": 165,
    "start_time": "2024-09-20T02:34:08.685Z"
   },
   {
    "duration": 248,
    "start_time": "2024-09-20T02:34:08.852Z"
   },
   {
    "duration": 114,
    "start_time": "2024-09-20T02:34:09.102Z"
   },
   {
    "duration": 127,
    "start_time": "2024-09-20T02:34:09.218Z"
   },
   {
    "duration": 1102,
    "start_time": "2024-09-20T02:34:09.347Z"
   },
   {
    "duration": 457,
    "start_time": "2024-09-20T02:34:10.450Z"
   },
   {
    "duration": 22,
    "start_time": "2024-09-20T02:34:10.909Z"
   },
   {
    "duration": 476,
    "start_time": "2024-09-20T02:34:10.933Z"
   },
   {
    "duration": 130,
    "start_time": "2024-09-20T02:34:11.411Z"
   },
   {
    "duration": 308,
    "start_time": "2024-09-20T04:25:15.862Z"
   },
   {
    "duration": 163,
    "start_time": "2024-09-20T04:25:16.173Z"
   },
   {
    "duration": 71,
    "start_time": "2024-09-20T04:25:16.338Z"
   },
   {
    "duration": 799,
    "start_time": "2024-09-20T04:25:16.412Z"
   },
   {
    "duration": 7,
    "start_time": "2024-09-20T04:25:17.213Z"
   },
   {
    "duration": 7,
    "start_time": "2024-09-20T04:25:17.222Z"
   },
   {
    "duration": 1862,
    "start_time": "2024-09-20T04:25:17.230Z"
   },
   {
    "duration": 123,
    "start_time": "2024-09-20T04:25:19.094Z"
   },
   {
    "duration": 8,
    "start_time": "2024-09-20T04:25:19.218Z"
   },
   {
    "duration": 122,
    "start_time": "2024-09-20T04:25:19.230Z"
   },
   {
    "duration": 103,
    "start_time": "2024-09-20T04:25:19.354Z"
   },
   {
    "duration": 31,
    "start_time": "2024-09-20T04:25:19.459Z"
   },
   {
    "duration": 27,
    "start_time": "2024-09-20T04:25:19.492Z"
   },
   {
    "duration": 3,
    "start_time": "2024-09-20T04:25:19.521Z"
   },
   {
    "duration": 22,
    "start_time": "2024-09-20T04:25:19.526Z"
   },
   {
    "duration": 7,
    "start_time": "2024-09-20T04:25:19.550Z"
   },
   {
    "duration": 8,
    "start_time": "2024-09-20T04:25:19.559Z"
   },
   {
    "duration": 4,
    "start_time": "2024-09-20T04:25:19.569Z"
   },
   {
    "duration": 9,
    "start_time": "2024-09-20T04:25:19.611Z"
   },
   {
    "duration": 4,
    "start_time": "2024-09-20T04:25:19.622Z"
   },
   {
    "duration": 823,
    "start_time": "2024-09-20T04:25:19.628Z"
   },
   {
    "duration": 2,
    "start_time": "2024-09-20T04:25:20.453Z"
   },
   {
    "duration": 5,
    "start_time": "2024-09-20T04:25:20.457Z"
   },
   {
    "duration": 10,
    "start_time": "2024-09-20T04:25:20.465Z"
   },
   {
    "duration": 9,
    "start_time": "2024-09-20T04:25:20.477Z"
   },
   {
    "duration": 35,
    "start_time": "2024-09-20T04:25:20.488Z"
   },
   {
    "duration": 8,
    "start_time": "2024-09-20T04:25:20.525Z"
   },
   {
    "duration": 5,
    "start_time": "2024-09-20T04:25:20.539Z"
   },
   {
    "duration": 10,
    "start_time": "2024-09-20T04:25:20.547Z"
   },
   {
    "duration": 6,
    "start_time": "2024-09-20T04:25:20.558Z"
   },
   {
    "duration": 87,
    "start_time": "2024-09-20T04:25:20.566Z"
   },
   {
    "duration": 19,
    "start_time": "2024-09-20T04:25:20.655Z"
   },
   {
    "duration": 81,
    "start_time": "2024-09-20T04:25:20.676Z"
   },
   {
    "duration": 410,
    "start_time": "2024-09-20T04:25:20.758Z"
   },
   {
    "duration": 4,
    "start_time": "2024-09-20T04:25:21.170Z"
   },
   {
    "duration": 4,
    "start_time": "2024-09-20T04:25:21.176Z"
   },
   {
    "duration": 240,
    "start_time": "2024-09-20T04:25:21.182Z"
   },
   {
    "duration": 125,
    "start_time": "2024-09-20T04:25:21.424Z"
   },
   {
    "duration": 186,
    "start_time": "2024-09-20T04:25:21.551Z"
   },
   {
    "duration": 239,
    "start_time": "2024-09-20T04:25:21.739Z"
   },
   {
    "duration": 120,
    "start_time": "2024-09-20T04:25:21.980Z"
   },
   {
    "duration": 133,
    "start_time": "2024-09-20T04:25:22.101Z"
   },
   {
    "duration": 1139,
    "start_time": "2024-09-20T04:25:22.235Z"
   },
   {
    "duration": 453,
    "start_time": "2024-09-20T04:25:23.376Z"
   },
   {
    "duration": 9,
    "start_time": "2024-09-20T04:25:23.831Z"
   },
   {
    "duration": 427,
    "start_time": "2024-09-20T04:25:23.842Z"
   },
   {
    "duration": 136,
    "start_time": "2024-09-20T04:25:24.271Z"
   },
   {
    "duration": 292,
    "start_time": "2024-09-20T04:27:14.683Z"
   },
   {
    "duration": 126,
    "start_time": "2024-09-20T04:27:14.977Z"
   },
   {
    "duration": 44,
    "start_time": "2024-09-20T04:27:15.105Z"
   },
   {
    "duration": 727,
    "start_time": "2024-09-20T04:27:15.152Z"
   },
   {
    "duration": 6,
    "start_time": "2024-09-20T04:27:15.881Z"
   },
   {
    "duration": 6,
    "start_time": "2024-09-20T04:27:15.889Z"
   },
   {
    "duration": 146,
    "start_time": "2024-09-20T04:27:15.897Z"
   },
   {
    "duration": 141,
    "start_time": "2024-09-20T04:27:16.045Z"
   },
   {
    "duration": 8,
    "start_time": "2024-09-20T04:27:16.188Z"
   },
   {
    "duration": 112,
    "start_time": "2024-09-20T04:27:16.199Z"
   },
   {
    "duration": 88,
    "start_time": "2024-09-20T04:27:16.313Z"
   },
   {
    "duration": 29,
    "start_time": "2024-09-20T04:27:16.412Z"
   },
   {
    "duration": 13,
    "start_time": "2024-09-20T04:27:16.443Z"
   },
   {
    "duration": 4,
    "start_time": "2024-09-20T04:27:16.457Z"
   },
   {
    "duration": 22,
    "start_time": "2024-09-20T04:27:16.462Z"
   },
   {
    "duration": 10,
    "start_time": "2024-09-20T04:27:16.511Z"
   },
   {
    "duration": 8,
    "start_time": "2024-09-20T04:27:16.522Z"
   },
   {
    "duration": 3,
    "start_time": "2024-09-20T04:27:16.532Z"
   },
   {
    "duration": 8,
    "start_time": "2024-09-20T04:27:16.536Z"
   },
   {
    "duration": 5,
    "start_time": "2024-09-20T04:27:16.545Z"
   },
   {
    "duration": 807,
    "start_time": "2024-09-20T04:27:16.551Z"
   },
   {
    "duration": 2,
    "start_time": "2024-09-20T04:27:17.360Z"
   },
   {
    "duration": 6,
    "start_time": "2024-09-20T04:27:17.364Z"
   },
   {
    "duration": 10,
    "start_time": "2024-09-20T04:27:17.371Z"
   },
   {
    "duration": 32,
    "start_time": "2024-09-20T04:27:17.383Z"
   },
   {
    "duration": 12,
    "start_time": "2024-09-20T04:27:17.416Z"
   },
   {
    "duration": 7,
    "start_time": "2024-09-20T04:27:17.430Z"
   },
   {
    "duration": 6,
    "start_time": "2024-09-20T04:27:17.442Z"
   },
   {
    "duration": 10,
    "start_time": "2024-09-20T04:27:17.450Z"
   },
   {
    "duration": 5,
    "start_time": "2024-09-20T04:27:17.462Z"
   },
   {
    "duration": 87,
    "start_time": "2024-09-20T04:27:17.469Z"
   },
   {
    "duration": 19,
    "start_time": "2024-09-20T04:27:17.558Z"
   },
   {
    "duration": 76,
    "start_time": "2024-09-20T04:27:17.579Z"
   },
   {
    "duration": 416,
    "start_time": "2024-09-20T04:27:17.657Z"
   },
   {
    "duration": 5,
    "start_time": "2024-09-20T04:27:18.075Z"
   },
   {
    "duration": 7,
    "start_time": "2024-09-20T04:27:18.083Z"
   },
   {
    "duration": 222,
    "start_time": "2024-09-20T04:27:18.092Z"
   },
   {
    "duration": 125,
    "start_time": "2024-09-20T04:27:18.316Z"
   },
   {
    "duration": 172,
    "start_time": "2024-09-20T04:27:18.443Z"
   },
   {
    "duration": 239,
    "start_time": "2024-09-20T04:27:18.616Z"
   },
   {
    "duration": 118,
    "start_time": "2024-09-20T04:27:18.857Z"
   },
   {
    "duration": 132,
    "start_time": "2024-09-20T04:27:18.977Z"
   },
   {
    "duration": 1131,
    "start_time": "2024-09-20T04:27:19.111Z"
   },
   {
    "duration": 460,
    "start_time": "2024-09-20T04:27:20.244Z"
   },
   {
    "duration": 8,
    "start_time": "2024-09-20T04:27:20.705Z"
   },
   {
    "duration": 428,
    "start_time": "2024-09-20T04:27:20.714Z"
   },
   {
    "duration": 139,
    "start_time": "2024-09-20T04:27:21.144Z"
   }
  ],
  "kernelspec": {
   "display_name": "Python 3 (ipykernel)",
   "language": "python",
   "name": "python3"
  },
  "language_info": {
   "codemirror_mode": {
    "name": "ipython",
    "version": 3
   },
   "file_extension": ".py",
   "mimetype": "text/x-python",
   "name": "python",
   "nbconvert_exporter": "python",
   "pygments_lexer": "ipython3",
   "version": "3.9.19"
  },
  "toc": {
   "base_numbering": 1,
   "nav_menu": {},
   "number_sections": true,
   "sideBar": true,
   "skip_h1_title": true,
   "title_cell": "Table of Contents",
   "title_sidebar": "Contents",
   "toc_cell": false,
   "toc_position": {},
   "toc_section_display": true,
   "toc_window_display": false
  },
  "vscode": {
   "interpreter": {
    "hash": "01a7be9ec63e704a62cefc5fe7a4756944464ee731be31632bdf42a4cb4688cf"
   }
  }
 },
 "nbformat": 4,
 "nbformat_minor": 5
}
